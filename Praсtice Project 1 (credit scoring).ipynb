{
 "cells": [
  {
   "cell_type": "markdown",
   "metadata": {},
   "source": [
    "### Исследование надёжности заёмщиков"
   ]
  },
  {
   "cell_type": "markdown",
   "metadata": {},
   "source": [
    "#### Описание проекта\n",
    "\n",
    "Заказчик проекта — кредитный отдел Х банка.\n",
    "Необходимо ответить на вопросы о зависимости между определенных факторов на погашение кредита в срок.\n",
    "Входные данные от банка — статистика о платёжеспособности клиентов.\n",
    "Результаты исследования будут учтены при построении модели кредитного скоринга — специальной системы, которая оценивает способность потенциального заёмщика вернуть кредит банку.\n",
    "\n",
    "##### Шаг 1. Предобработка данных\n",
    "    - определить и заполнить пропущенные значения:\n",
    "    - описать, какие пропущенные значения обнаружены;\n",
    "    - привести возможные причины появления пропусков в данных;\n",
    "    - объяснить, по какому принципу заполнены пропуски;\n",
    "    - заменить вещественный тип данных на целочисленный:\n",
    "    - пояснить, как выбран метод для изменения типа данных;\n",
    "    - удалить дубликаты:\n",
    "    - пояснить, как выбирался метод для поиска и удаления дубликатов в данных;\n",
    "    - привести возможные причины появления дубликатов;\n",
    "    - выделить леммы в значениях столбца с целями получения кредита:\n",
    "    - описать, как проводилась лемматизация целей кредита;\n",
    "    - категоризировать данные:\n",
    "    - перечислить, какие «словари» были выделены для этого набора данных, и объяснить, почему.\n",
    "В данных могут встречаться артефакты — значения, которые не отражают действительность. Например, отрицательное количество дней трудового стажа. Для реальных данных — это нормально. Нужно описать возможные причины появления таких данных и обработать их.\n",
    "\n",
    "##### Шаг 2. Ответы на вопросы\n",
    "    * Есть ли зависимость между наличием детей и возвратом кредита в срок?\n",
    "    * Есть ли зависимость между семейным положением и возвратом кредита в срок?\n",
    "    * Есть ли зависимость между уровнем дохода и возвратом кредита в срок?\n",
    "    * Как разные цели кредита влияют на его возврат в срок?\n",
    "Ответы сопроводить интерпретацией — пояснить, о чём именно говорит полученный  результат.\n",
    "\n",
    "##### Шаг 3. Общий вывод\n",
    "\n",
    "##### Описание данных\n",
    "    children — количество детей в семье\n",
    "    days_employed — общий трудовой стаж в днях\n",
    "    dob_years — возраст клиента в годах\n",
    "    education — уровень образования клиента\n",
    "    education_id — идентификатор уровня образования\n",
    "    family_status — семейное положение\n",
    "    family_status_id — идентификатор семейного положения\n",
    "    gender — пол клиента\n",
    "    income_type — тип занятости\n",
    "    debt — имел ли задолженность по возврату кредитов\n",
    "    total_income — ежемесячный доход\n",
    "    purpose — цель получения кредита"
   ]
  },
  {
   "cell_type": "markdown",
   "metadata": {},
   "source": [
    "#### Открыть файл с данными и изучить общую информацию. "
   ]
  },
  {
   "cell_type": "code",
   "execution_count": 1,
   "metadata": {},
   "outputs": [
    {
     "name": "stdout",
     "output_type": "stream",
     "text": [
      "   children  days_employed  dob_years education  education_id  \\\n",
      "0         1   -8437.673028         42    высшее             0   \n",
      "1         1   -4024.803754         36   среднее             1   \n",
      "2         0   -5623.422610         33   Среднее             1   \n",
      "3         3   -4124.747207         32   среднее             1   \n",
      "4         0  340266.072047         53   среднее             1   \n",
      "\n",
      "      family_status  family_status_id gender income_type  debt   total_income  \\\n",
      "0   женат / замужем                 0      F   сотрудник     0  253875.639453   \n",
      "1   женат / замужем                 0      F   сотрудник     0  112080.014102   \n",
      "2   женат / замужем                 0      M   сотрудник     0  145885.952297   \n",
      "3   женат / замужем                 0      M   сотрудник     0  267628.550329   \n",
      "4  гражданский брак                 1      F   пенсионер     0  158616.077870   \n",
      "\n",
      "                      purpose  \n",
      "0               покупка жилья  \n",
      "1     приобретение автомобиля  \n",
      "2               покупка жилья  \n",
      "3  дополнительное образование  \n",
      "4             сыграть свадьбу  \n",
      "<class 'pandas.core.frame.DataFrame'>\n",
      "RangeIndex: 21525 entries, 0 to 21524\n",
      "Data columns (total 12 columns):\n",
      "children            21525 non-null int64\n",
      "days_employed       19351 non-null float64\n",
      "dob_years           21525 non-null int64\n",
      "education           21525 non-null object\n",
      "education_id        21525 non-null int64\n",
      "family_status       21525 non-null object\n",
      "family_status_id    21525 non-null int64\n",
      "gender              21525 non-null object\n",
      "income_type         21525 non-null object\n",
      "debt                21525 non-null int64\n",
      "total_income        19351 non-null float64\n",
      "purpose             21525 non-null object\n",
      "dtypes: float64(2), int64(5), object(5)\n",
      "memory usage: 2.0+ MB\n",
      "None\n"
     ]
    }
   ],
   "source": [
    "import pandas as pd\n",
    "df = pd.read_csv('/datasets/data.csv')\n",
    "print(df.head())\n",
    "print(df.info())"
   ]
  },
  {
   "cell_type": "markdown",
   "metadata": {},
   "source": [
    "### Вывод"
   ]
  },
  {
   "cell_type": "markdown",
   "metadata": {},
   "source": [
    "Информация о таблице получена методом df.info(). Данные представлены в таблице с 12 столбцами. В таблице 21525 строк. Типы данных в болишинстве случаев применены верно. Изменить тип данных необходимо будет точно в столбце 'days_employed', так как считать количество дней стажа (или отсутствия работы) будет правильно с целочисленными значениями. В столбце total_income можно будет сократить количество знаков после запятой до 2-х, т.к. это денежное выражение. Судя по выводу первых 5 строк (метод df.head()), в таблице присутствуют пробелы - появились при заполнении информации, буквы разного регистра в одинаковых, при этом значения информации, также - пропуски: это заметно по выданной информации о количестве заполненных строк в каждом из столбцов, и проч."
   ]
  },
  {
   "cell_type": "markdown",
   "metadata": {},
   "source": [
    "### Шаг 1. Предобработка данных"
   ]
  },
  {
   "cell_type": "markdown",
   "metadata": {},
   "source": [
    "### Обработка пропусков"
   ]
  },
  {
   "cell_type": "markdown",
   "metadata": {},
   "source": [
    "Подсчитаю сумму строк с пропущенными значениями с помощью метода isna().sum():"
   ]
  },
  {
   "cell_type": "code",
   "execution_count": 2,
   "metadata": {
    "scrolled": false
   },
   "outputs": [
    {
     "name": "stdout",
     "output_type": "stream",
     "text": [
      "children               0\n",
      "days_employed       2174\n",
      "dob_years              0\n",
      "education              0\n",
      "education_id           0\n",
      "family_status          0\n",
      "family_status_id       0\n",
      "gender                 0\n",
      "income_type            0\n",
      "debt                   0\n",
      "total_income        2174\n",
      "purpose                0\n",
      "dtype: int64\n"
     ]
    }
   ],
   "source": [
    "print(df.isna().sum())"
   ]
  },
  {
   "cell_type": "markdown",
   "metadata": {},
   "source": [
    "Пропущенные значения присутствуют только в столбцах days_employed и total_income. Количество строк с пропущенными значения как в первом, так и во втором столбце, совпадает. Попробую проверить, одинаковые ли это столбцы. Проверю первые 10 записей."
   ]
  },
  {
   "cell_type": "code",
   "execution_count": 3,
   "metadata": {
    "scrolled": false
   },
   "outputs": [
    {
     "name": "stdout",
     "output_type": "stream",
     "text": [
      "    children  days_employed  dob_years education  education_id  \\\n",
      "12         0            NaN         65   среднее             1   \n",
      "26         0            NaN         41   среднее             1   \n",
      "29         0            NaN         63   среднее             1   \n",
      "41         0            NaN         50   среднее             1   \n",
      "55         0            NaN         54   среднее             1   \n",
      "65         0            NaN         21   среднее             1   \n",
      "67         0            NaN         52    высшее             0   \n",
      "72         1            NaN         32    высшее             0   \n",
      "82         2            NaN         50    высшее             0   \n",
      "83         0            NaN         52   среднее             1   \n",
      "\n",
      "            family_status  family_status_id gender  income_type  debt  \\\n",
      "12       гражданский брак                 1      M    пенсионер     0   \n",
      "26        женат / замужем                 0      M  госслужащий     0   \n",
      "29  Не женат / не замужем                 4      F    пенсионер     0   \n",
      "41        женат / замужем                 0      F  госслужащий     0   \n",
      "55       гражданский брак                 1      F    пенсионер     1   \n",
      "65  Не женат / не замужем                 4      M    компаньон     0   \n",
      "67        женат / замужем                 0      F    пенсионер     0   \n",
      "72        женат / замужем                 0      M  госслужащий     0   \n",
      "82        женат / замужем                 0      F    сотрудник     0   \n",
      "83        женат / замужем                 0      M    сотрудник     0   \n",
      "\n",
      "    total_income                                purpose  \n",
      "12           NaN                        сыграть свадьбу  \n",
      "26           NaN                            образование  \n",
      "29           NaN       строительство жилой недвижимости  \n",
      "41           NaN       сделка с подержанным автомобилем  \n",
      "55           NaN                        сыграть свадьбу  \n",
      "65           NaN  операции с коммерческой недвижимостью  \n",
      "67           NaN                покупка жилья для семьи  \n",
      "72           NaN  операции с коммерческой недвижимостью  \n",
      "82           NaN                                  жилье  \n",
      "83           NaN                                  жилье  \n"
     ]
    }
   ],
   "source": [
    "print(df[df['days_employed'].isnull()].head(10))"
   ]
  },
  {
   "cell_type": "markdown",
   "metadata": {},
   "source": [
    "Как видно из выборки, пропущенные значения в столбце days_employed совпадают с также пропущенными значениями в столбце total_income. Ввиду того, что столбец days_employed вообще не соответствуют хоть сколько-нибудь реалистичным данным (очень много отрицательных значений, а также часто количество дней не сопоставимо никак с реалистичным количеством лет трудового стажа - т.е. есть значения, при делении на 365 которых получается больше 100 лет стажа, и даже более), то предполагается, что данные в этом столбце заполнялись при вводе неверно. Эти данные использовать в анализе невозможно, в том виде, в котором они сейчас есть. Поэтому решено было NaN-значения в days_employed пустыми значениями. А вот обработку пропусков провести в столбце total_income. И для этого проверю, у каких групп (по типу занятости) потенциальных заёмщиков и в каком количестве строк есть пропущенные значения."
   ]
  },
  {
   "cell_type": "code",
   "execution_count": 4,
   "metadata": {
    "scrolled": false
   },
   "outputs": [
    {
     "name": "stdout",
     "output_type": "stream",
     "text": [
      "                 children  days_employed  dob_years  education  education_id  \\\n",
      "income_type                                                                    \n",
      "госслужащий           147              0        147        147           147   \n",
      "компаньон             508              0        508        508           508   \n",
      "пенсионер             413              0        413        413           413   \n",
      "предприниматель         1              0          1          1             1   \n",
      "сотрудник            1105              0       1105       1105          1105   \n",
      "\n",
      "                 family_status  family_status_id  gender  debt  total_income  \\\n",
      "income_type                                                                    \n",
      "госслужащий                147               147     147   147             0   \n",
      "компаньон                  508               508     508   508             0   \n",
      "пенсионер                  413               413     413   413             0   \n",
      "предприниматель              1                 1       1     1             0   \n",
      "сотрудник                 1105              1105    1105  1105             0   \n",
      "\n",
      "                 purpose  \n",
      "income_type               \n",
      "госслужащий          147  \n",
      "компаньон            508  \n",
      "пенсионер            413  \n",
      "предприниматель        1  \n",
      "сотрудник           1105  \n"
     ]
    }
   ],
   "source": [
    "print(df[df['total_income'].isna()].groupby('income_type').count())"
   ]
  },
  {
   "cell_type": "markdown",
   "metadata": {},
   "source": [
    "Пропущенные значения есть у: госслужащих (147), компаньонов (508), пенсионеров (413), предпринимателя (1) и сотрудников (1105). Считаю, что будет правильным посчитать для каждой из категорий, за вычетом строк с NaN-значениями, среднее значение total_income и медиану. На основе полученных результатов принять решение об использовании либо среднего значения, либо медианы в качестве значения для замены пропусков."
   ]
  },
  {
   "cell_type": "markdown",
   "metadata": {},
   "source": [
    "По идее, можно просто добавить еще одну переменную - новый датафрейм, которые получается, если применить метод dropna() к рабочему датафрейму - удалятся как раз все строки со значениями NaN."
   ]
  },
  {
   "cell_type": "code",
   "execution_count": 5,
   "metadata": {
    "scrolled": true
   },
   "outputs": [
    {
     "name": "stdout",
     "output_type": "stream",
     "text": [
      "<class 'pandas.core.frame.DataFrame'>\n",
      "RangeIndex: 19351 entries, 0 to 19350\n",
      "Data columns (total 12 columns):\n",
      "children            19351 non-null int64\n",
      "days_employed       19351 non-null float64\n",
      "dob_years           19351 non-null int64\n",
      "education           19351 non-null object\n",
      "education_id        19351 non-null int64\n",
      "family_status       19351 non-null object\n",
      "family_status_id    19351 non-null int64\n",
      "gender              19351 non-null object\n",
      "income_type         19351 non-null object\n",
      "debt                19351 non-null int64\n",
      "total_income        19351 non-null float64\n",
      "purpose             19351 non-null object\n",
      "dtypes: float64(2), int64(5), object(5)\n",
      "memory usage: 1.8+ MB\n",
      "None\n"
     ]
    }
   ],
   "source": [
    "df_without_na = df.dropna().reset_index(drop=True)\n",
    "print(df_without_na.info())"
   ]
  },
  {
   "cell_type": "markdown",
   "metadata": {},
   "source": [
    "При удалении всех строк индексацию решил сбить. Это необязательно в данном случае, т.к. датафрейм df_without_na будет использован только для подсчета средних значений и медиан для перечисленных выше 5-ти категорий заёмщиков, в зависимости от их типа трудовой деятельности."
   ]
  },
  {
   "cell_type": "markdown",
   "metadata": {},
   "source": [
    "Подсчитаю эти значения, применив группировку столбца total_income по типам занятости и методы mean(), и median()."
   ]
  },
  {
   "cell_type": "code",
   "execution_count": 6,
   "metadata": {},
   "outputs": [
    {
     "name": "stdout",
     "output_type": "stream",
     "text": [
      "income_type\n",
      "безработный        131339.751676\n",
      "в декрете           53829.130729\n",
      "госслужащий        170898.309923\n",
      "компаньон          202417.461462\n",
      "пенсионер          137127.465690\n",
      "предприниматель    499163.144947\n",
      "сотрудник          161380.260488\n",
      "студент             98201.625314\n",
      "Name: total_income, dtype: float64\n"
     ]
    }
   ],
   "source": [
    "print(df_without_na.groupby('income_type')['total_income'].mean())"
   ]
  },
  {
   "cell_type": "code",
   "execution_count": 7,
   "metadata": {
    "scrolled": true
   },
   "outputs": [
    {
     "name": "stdout",
     "output_type": "stream",
     "text": [
      "income_type\n",
      "безработный        131339.751676\n",
      "в декрете           53829.130729\n",
      "госслужащий        150447.935283\n",
      "компаньон          172357.950966\n",
      "пенсионер          118514.486412\n",
      "предприниматель    499163.144947\n",
      "сотрудник          142594.396847\n",
      "студент             98201.625314\n",
      "Name: total_income, dtype: float64\n"
     ]
    }
   ],
   "source": [
    "print(df_without_na.groupby('income_type')['total_income'].median())"
   ]
  },
  {
   "cell_type": "markdown",
   "metadata": {},
   "source": [
    "Воспользуюсь методом аггрегации столбцов сразу по 2-м операциям, чтобы было легче сравнить полученные значения и принять решение, какими именно значениями заполнить пропуски в датафрейме."
   ]
  },
  {
   "cell_type": "code",
   "execution_count": 8,
   "metadata": {
    "scrolled": true
   },
   "outputs": [
    {
     "name": "stdout",
     "output_type": "stream",
     "text": [
      "                  total_income               \n",
      "                          mean         median\n",
      "income_type                                  \n",
      "безработный      131339.751676  131339.751676\n",
      "в декрете         53829.130729   53829.130729\n",
      "госслужащий      170898.309923  150447.935283\n",
      "компаньон        202417.461462  172357.950966\n",
      "пенсионер        137127.465690  118514.486412\n",
      "предприниматель  499163.144947  499163.144947\n",
      "сотрудник        161380.260488  142594.396847\n",
      "студент           98201.625314   98201.625314\n"
     ]
    }
   ],
   "source": [
    "print(df_without_na.groupby('income_type').agg({'total_income': ['mean', 'median']}))"
   ]
  },
  {
   "cell_type": "markdown",
   "metadata": {},
   "source": [
    "Чтобы вопрос с заменой пропущенных значений в столбце \"доход\" не носил характер как в анекдоте \"средняя температура по больнице\", то и было проведено сравнение медианных и средних значений, чтобы выбрать более релеватное из них по каждом из типу занятости, для которых необходимо заполнить пропуски. Из 8-ми типов занятости у 4-х значения медианы и среднего дохода совпадают, у остальных 4-х значение медианы ниже среднего показателя. Для более достоверной картины решил использовать значения медианы для заполнения пропусков в изучаемом датафрейме."
   ]
  },
  {
   "cell_type": "markdown",
   "metadata": {},
   "source": [
    "Сохраню каждое из необходимых значений медианы в переменные:"
   ]
  },
  {
   "cell_type": "code",
   "execution_count": 9,
   "metadata": {
    "scrolled": false
   },
   "outputs": [
    {
     "name": "stdout",
     "output_type": "stream",
     "text": [
      "150447.9352830068\n",
      "172357.95096577113\n",
      "118514.48641164352\n",
      "499163.1449470857\n",
      "142594.39684740017\n"
     ]
    }
   ],
   "source": [
    "grouped_df = df_without_na.groupby('income_type').agg({'total_income': ['mean', 'median']})\n",
    "civil_servant = grouped_df['total_income'].loc[:, 'median'][2]\n",
    "associate = grouped_df['total_income'].loc[:, 'median'][3]\n",
    "pensioner = grouped_df['total_income'].loc[:, 'median'][4]\n",
    "entrepreneur = grouped_df['total_income'].loc[:, 'median'][5]\n",
    "employee = grouped_df['total_income'].loc[:, 'median'][6]\n",
    "print(civil_servant)\n",
    "print(associate)\n",
    "print(pensioner)\n",
    "print(entrepreneur)\n",
    "print(employee)"
   ]
  },
  {
   "cell_type": "markdown",
   "metadata": {},
   "source": [
    "Вернусь к рабочему датафрейму и сначала применю метод fillna для замены отсутствующих значений в days_employed - так как значения этого столбца на данном этапе оценить невозможно, а на результат предобработки данных он не повлияет, то подставлю вместо NaN значений - 0."
   ]
  },
  {
   "cell_type": "code",
   "execution_count": 10,
   "metadata": {
    "scrolled": true
   },
   "outputs": [],
   "source": [
    "df['days_employed'] = df['days_employed'].fillna(0)"
   ]
  },
  {
   "cell_type": "code",
   "execution_count": 11,
   "metadata": {},
   "outputs": [
    {
     "name": "stdout",
     "output_type": "stream",
     "text": [
      "<class 'pandas.core.frame.DataFrame'>\n",
      "RangeIndex: 21525 entries, 0 to 21524\n",
      "Data columns (total 12 columns):\n",
      "children            21525 non-null int64\n",
      "days_employed       21525 non-null float64\n",
      "dob_years           21525 non-null int64\n",
      "education           21525 non-null object\n",
      "education_id        21525 non-null int64\n",
      "family_status       21525 non-null object\n",
      "family_status_id    21525 non-null int64\n",
      "gender              21525 non-null object\n",
      "income_type         21525 non-null object\n",
      "debt                21525 non-null int64\n",
      "total_income        19351 non-null float64\n",
      "purpose             21525 non-null object\n",
      "dtypes: float64(2), int64(5), object(5)\n",
      "memory usage: 2.0+ MB\n",
      "None\n"
     ]
    }
   ],
   "source": [
    "print(df.info())"
   ]
  },
  {
   "cell_type": "markdown",
   "metadata": {},
   "source": [
    "И теперь самое важное: так как я посчитал значения не в цикле, то и заменить их в исходной таблице решил уже вручную, подставив в каждый из столбцов с условием конкретной группы (по типу занятости) переменную, равную рассчитанному медианному значению дохода по каждой из групп."
   ]
  },
  {
   "cell_type": "code",
   "execution_count": 12,
   "metadata": {},
   "outputs": [],
   "source": [
    "df.loc[(df['total_income'].isna()) & (df['income_type'] == 'госслужащий'), 'total_income'] = civil_servant\n",
    "df.loc[(df['total_income'].isna()) & (df['income_type'] == 'компаньон'), 'total_income'] = associate\n",
    "df.loc[(df['total_income'].isna()) & (df['income_type'] == 'пенсионер'), 'total_income'] = pensioner\n",
    "df.loc[(df['total_income'].isna()) & (df['income_type'] == 'предприниматель'), 'total_income'] = entrepreneur\n",
    "df.loc[(df['total_income'].isna()) & (df['income_type'] == 'сотрудник'), 'total_income'] = employee"
   ]
  },
  {
   "cell_type": "markdown",
   "metadata": {},
   "source": [
    "Проверка - информация о таблице, согласно которой пропущенные значения должны отсутствовать:"
   ]
  },
  {
   "cell_type": "code",
   "execution_count": 13,
   "metadata": {
    "scrolled": true
   },
   "outputs": [
    {
     "name": "stdout",
     "output_type": "stream",
     "text": [
      "<class 'pandas.core.frame.DataFrame'>\n",
      "RangeIndex: 21525 entries, 0 to 21524\n",
      "Data columns (total 12 columns):\n",
      "children            21525 non-null int64\n",
      "days_employed       21525 non-null float64\n",
      "dob_years           21525 non-null int64\n",
      "education           21525 non-null object\n",
      "education_id        21525 non-null int64\n",
      "family_status       21525 non-null object\n",
      "family_status_id    21525 non-null int64\n",
      "gender              21525 non-null object\n",
      "income_type         21525 non-null object\n",
      "debt                21525 non-null int64\n",
      "total_income        21525 non-null float64\n",
      "purpose             21525 non-null object\n",
      "dtypes: float64(2), int64(5), object(5)\n",
      "memory usage: 2.0+ MB\n",
      "None\n"
     ]
    }
   ],
   "source": [
    "print(df.info())"
   ]
  },
  {
   "cell_type": "markdown",
   "metadata": {},
   "source": [
    "### Вывод"
   ]
  },
  {
   "cell_type": "markdown",
   "metadata": {},
   "source": [
    "Пропуски в таблице с данными присутствовали в 2-х столбцах: days_employed и total_income. Так как данные в столбце days_employed представлены в нерелевантном виде - отрицательные значения, а также значения, которые гораздо выше продолжительности любого реалистичного трудового стажа человека - и так как данные из этого столбца не будут использоваться на данном этапе анализа, то было решено в столбце заменить пропуски на 0. В столбце total_income выявленные пропуски (совпадающие полностью с пропусками в days_employed) было решено обработать и заполнить медианными значениями, полученными при расчете табличных данных без пропущенных значений, в зависимости от категории трудового типа потенциального заёмщика (т.е. сгруппировано по income_type)."
   ]
  },
  {
   "cell_type": "markdown",
   "metadata": {},
   "source": [
    "### Замена типа данных"
   ]
  },
  {
   "cell_type": "markdown",
   "metadata": {},
   "source": [
    "В целом, типы значений в столбцах исходной таблицы соответствуют своим значениям. Однако в целях сокращения длины строк приведём столбцы с вещественными числами в более ёмкий вид: 1) days_employed приведём к целочисленному виду, т.к. количество дней измеримо кратно 1 дню, вещественное число - слишком непрактичный вид информации. Данные значения необходимо сделать целыми числами. В идеале необходимо применить метод math.ceil, чтобы округление прошло до верхнего целого значения (раз день начался - об этом свидетельствует наличие дробной части - то его необходимо засчитывать), но так как данные конкретно этого стобца, в целом, нерелевантны и в данном анализе не будут учитываться, то воспользуемся более простым методом - int() - округление до целого числа, которое \"отбрасывает\" значения после запятой."
   ]
  },
  {
   "cell_type": "code",
   "execution_count": 14,
   "metadata": {},
   "outputs": [
    {
     "name": "stdout",
     "output_type": "stream",
     "text": [
      "   children  days_employed  dob_years education  education_id  \\\n",
      "0         1          -8437         42    высшее             0   \n",
      "1         1          -4024         36   среднее             1   \n",
      "2         0          -5623         33   Среднее             1   \n",
      "3         3          -4124         32   среднее             1   \n",
      "4         0         340266         53   среднее             1   \n",
      "\n",
      "      family_status  family_status_id gender income_type  debt   total_income  \\\n",
      "0   женат / замужем                 0      F   сотрудник     0  253875.639453   \n",
      "1   женат / замужем                 0      F   сотрудник     0  112080.014102   \n",
      "2   женат / замужем                 0      M   сотрудник     0  145885.952297   \n",
      "3   женат / замужем                 0      M   сотрудник     0  267628.550329   \n",
      "4  гражданский брак                 1      F   пенсионер     0  158616.077870   \n",
      "\n",
      "                      purpose  \n",
      "0               покупка жилья  \n",
      "1     приобретение автомобиля  \n",
      "2               покупка жилья  \n",
      "3  дополнительное образование  \n",
      "4             сыграть свадьбу  \n"
     ]
    }
   ],
   "source": [
    "df['days_employed'] = df['days_employed'].astype('int')\n",
    "\n",
    "print(df.head())"
   ]
  },
  {
   "cell_type": "markdown",
   "metadata": {},
   "source": [
    "2) столбец total_income также, на самом деле, можно округлить до целого, т.к., как правило погрешность в интервале сотых частей рубля вряд ли как-то существенно повлияет на кредитный скоринг заёмщика. Применю тот же метод - int()."
   ]
  },
  {
   "cell_type": "code",
   "execution_count": 15,
   "metadata": {
    "scrolled": false
   },
   "outputs": [
    {
     "name": "stdout",
     "output_type": "stream",
     "text": [
      "   children  days_employed  dob_years education  education_id  \\\n",
      "0         1          -8437         42    высшее             0   \n",
      "1         1          -4024         36   среднее             1   \n",
      "2         0          -5623         33   Среднее             1   \n",
      "3         3          -4124         32   среднее             1   \n",
      "4         0         340266         53   среднее             1   \n",
      "\n",
      "      family_status  family_status_id gender income_type  debt  total_income  \\\n",
      "0   женат / замужем                 0      F   сотрудник     0        253875   \n",
      "1   женат / замужем                 0      F   сотрудник     0        112080   \n",
      "2   женат / замужем                 0      M   сотрудник     0        145885   \n",
      "3   женат / замужем                 0      M   сотрудник     0        267628   \n",
      "4  гражданский брак                 1      F   пенсионер     0        158616   \n",
      "\n",
      "                      purpose  \n",
      "0               покупка жилья  \n",
      "1     приобретение автомобиля  \n",
      "2               покупка жилья  \n",
      "3  дополнительное образование  \n",
      "4             сыграть свадьбу  \n"
     ]
    }
   ],
   "source": [
    "df['total_income'] = df['total_income'].astype('int')\n",
    "\n",
    "print(df.head())"
   ]
  },
  {
   "cell_type": "code",
   "execution_count": 16,
   "metadata": {},
   "outputs": [
    {
     "name": "stdout",
     "output_type": "stream",
     "text": [
      "<class 'pandas.core.frame.DataFrame'>\n",
      "RangeIndex: 21525 entries, 0 to 21524\n",
      "Data columns (total 12 columns):\n",
      "children            21525 non-null int64\n",
      "days_employed       21525 non-null int64\n",
      "dob_years           21525 non-null int64\n",
      "education           21525 non-null object\n",
      "education_id        21525 non-null int64\n",
      "family_status       21525 non-null object\n",
      "family_status_id    21525 non-null int64\n",
      "gender              21525 non-null object\n",
      "income_type         21525 non-null object\n",
      "debt                21525 non-null int64\n",
      "total_income        21525 non-null int64\n",
      "purpose             21525 non-null object\n",
      "dtypes: int64(7), object(5)\n",
      "memory usage: 2.0+ MB\n",
      "None\n"
     ]
    }
   ],
   "source": [
    "print(df.info())"
   ]
  },
  {
   "cell_type": "markdown",
   "metadata": {},
   "source": [
    "### Вывод"
   ]
  },
  {
   "cell_type": "markdown",
   "metadata": {},
   "source": [
    "Тип данных (float64) обоих столбцов с вещественными числами был заменен на тип данных int64 - целочисленные значения."
   ]
  },
  {
   "cell_type": "markdown",
   "metadata": {},
   "source": [
    "### Обработка дубликатов"
   ]
  },
  {
   "cell_type": "markdown",
   "metadata": {},
   "source": [
    "Для начала проверю количество дубликатов без зменений регистра строковых значений и приведения его к единому виду."
   ]
  },
  {
   "cell_type": "code",
   "execution_count": 17,
   "metadata": {
    "scrolled": true
   },
   "outputs": [
    {
     "name": "stdout",
     "output_type": "stream",
     "text": [
      "54\n"
     ]
    }
   ],
   "source": [
    "print(df.duplicated().sum())"
   ]
  },
  {
   "cell_type": "markdown",
   "metadata": {},
   "source": [
    "Теперь приведу регистр записей строковых значений к единому виду - нижнему регистру, воспользовавшись методом str.lower. На всякий случай, к нижнему регистру приведу 4 основных строковых столбца. И еще раз проверю информацию о количество записей-дубликатов."
   ]
  },
  {
   "cell_type": "code",
   "execution_count": 18,
   "metadata": {
    "scrolled": true
   },
   "outputs": [
    {
     "name": "stdout",
     "output_type": "stream",
     "text": [
      "71\n"
     ]
    }
   ],
   "source": [
    "df['education'] = df['education'].str.lower()\n",
    "df['family_status'] = df['family_status'].str.lower()\n",
    "df['income_type'] = df['income_type'].str.lower()\n",
    "df['purpose'] = df['purpose'].str.lower()\n",
    "print(df.duplicated().sum())"
   ]
  },
  {
   "cell_type": "markdown",
   "metadata": {},
   "source": [
    "Количество полностью идентичных записей оказалось 71. Эти строки лучше сразу удалить из исходной таблицы и сбросить индексацию строк"
   ]
  },
  {
   "cell_type": "code",
   "execution_count": 19,
   "metadata": {
    "scrolled": true
   },
   "outputs": [
    {
     "name": "stdout",
     "output_type": "stream",
     "text": [
      "0\n"
     ]
    }
   ],
   "source": [
    "df = df.drop_duplicates().reset_index(drop=True)\n",
    "print(df.duplicated().sum())"
   ]
  },
  {
   "cell_type": "markdown",
   "metadata": {},
   "source": [
    "### Вывод"
   ]
  },
  {
   "cell_type": "markdown",
   "metadata": {},
   "source": [
    "Дубликаты были удалены, индексация строк сброшена. При проверке количества дубликатов после применения метода результат выдал 0 - означает, что примененный метод сработал."
   ]
  },
  {
   "cell_type": "code",
   "execution_count": 20,
   "metadata": {},
   "outputs": [
    {
     "name": "stdout",
     "output_type": "stream",
     "text": [
      "<class 'pandas.core.frame.DataFrame'>\n",
      "RangeIndex: 21454 entries, 0 to 21453\n",
      "Data columns (total 12 columns):\n",
      "children            21454 non-null int64\n",
      "days_employed       21454 non-null int64\n",
      "dob_years           21454 non-null int64\n",
      "education           21454 non-null object\n",
      "education_id        21454 non-null int64\n",
      "family_status       21454 non-null object\n",
      "family_status_id    21454 non-null int64\n",
      "gender              21454 non-null object\n",
      "income_type         21454 non-null object\n",
      "debt                21454 non-null int64\n",
      "total_income        21454 non-null int64\n",
      "purpose             21454 non-null object\n",
      "dtypes: int64(7), object(5)\n",
      "memory usage: 2.0+ MB\n",
      "None\n"
     ]
    }
   ],
   "source": [
    "print(df.info())"
   ]
  },
  {
   "cell_type": "markdown",
   "metadata": {},
   "source": [
    "### Лемматизация"
   ]
  },
  {
   "cell_type": "markdown",
   "metadata": {},
   "source": [
    "Воспользовавшись библиотекой pymystem3, можно выполнить лемматизацию столбца purpose - чтобы определить, какие слова использованы в описании целей получения кредита. Значения столбца перевёл сначала в список - с помощью метода tolist(), а затем из списка в текст (строковую запись), с помощью функции listToString. Сделано это по двум причинам: для применения метода lemmatize() необходим текст (тип данных string), а для подсчета встречаемости значений в столбце \"цели приобретения кредита\" - при использовании специального контейнера Counter из модуля collections - необходим список (list)."
   ]
  },
  {
   "cell_type": "code",
   "execution_count": 21,
   "metadata": {
    "scrolled": true
   },
   "outputs": [],
   "source": [
    "from pymystem3 import Mystem\n",
    "m = Mystem()\n",
    "list_for_lemmas = df['purpose'].tolist()\n",
    "\n",
    "\n",
    "def listToString(l):  \n",
    "    str1 = \" \"   \n",
    "    return (str1.join(l)) \n",
    "\n",
    "\n",
    "text = listToString(list_for_lemmas)\n",
    "lemmas = m.lemmatize(text)"
   ]
  },
  {
   "cell_type": "code",
   "execution_count": 22,
   "metadata": {},
   "outputs": [
    {
     "name": "stdout",
     "output_type": "stream",
     "text": [
      "Counter({'свадьба': 791, 'на проведение свадьбы': 768, 'сыграть свадьбу': 765, 'операции с недвижимостью': 675, 'покупка коммерческой недвижимости': 661, 'операции с жильем': 652, 'покупка жилья для сдачи': 651, 'операции с коммерческой недвижимостью': 650, 'покупка жилья': 646, 'жилье': 646, 'покупка жилья для семьи': 638, 'строительство собственной недвижимости': 635, 'недвижимость': 633, 'операции со своей недвижимостью': 627, 'строительство жилой недвижимости': 624, 'покупка недвижимости': 621, 'покупка своего жилья': 620, 'строительство недвижимости': 619, 'ремонт жилью': 607, 'покупка жилой недвижимости': 606, 'на покупку своего автомобиля': 505, 'заняться высшим образованием': 496, 'автомобиль': 494, 'сделка с подержанным автомобилем': 486, 'на покупку подержанного автомобиля': 478, 'автомобили': 478, 'свой автомобиль': 478, 'на покупку автомобиля': 471, 'приобретение автомобиля': 461, 'дополнительное образование': 460, 'сделка с автомобилем': 455, 'высшее образование': 452, 'образование': 447, 'получение дополнительного образования': 446, 'получение образования': 442, 'профильное образование': 436, 'получение высшего образования': 426, 'заняться образованием': 408})\n"
     ]
    }
   ],
   "source": [
    "from collections import Counter\n",
    "print(Counter(list_for_lemmas))"
   ]
  },
  {
   "cell_type": "markdown",
   "metadata": {},
   "source": [
    "### Вывод"
   ]
  },
  {
   "cell_type": "markdown",
   "metadata": {},
   "source": [
    "Лемматизация проведена. Также проведен подсчет встречаемости значений в списке. По результатам видно, что достаточно часто одна и та же цель кредита записана в различных вариациях: например, цель кредита для свадьбы записана в трех различных вариациях, а цель кредита для покупки недвижимости встречается в паре десятков различных вариациях заполнения. Полученные данные можно будет использовать для категоризации данных таблицы по целям выдачи кредита - например, объединив все вариации заполнения цели \"покупка недвижимости\" в одну категорию и присвоения этой категории уникального id - т.е. необходимо будет создать новый столбец. Но для выполнения текущих заданий проекта данная категоризация пока не нужна, поэтому категоризацию буду проводить по другим ключевым факторам."
   ]
  },
  {
   "cell_type": "markdown",
   "metadata": {},
   "source": [
    "### Категоризация данных"
   ]
  },
  {
   "cell_type": "markdown",
   "metadata": {},
   "source": [
    "Попробую применить только что полученные леммы с целью категоризации данных по целям приобретения кредита. Полученные леммы добавлю в список целей с помощь цикла - таким образом, чтобы каждая встречаемая лемма \"свадьба\" добавляла значение \"свадьба\" в мой список purpose_list, далее - каждая лемма \"жилье\" или \"недвижимость\" (категорию \"ремонт\" пока опущу, т.к. в этой лемме присутствует также слово \"жилье\", а это усложнит вопрос) добавляла в список значение \"недвижимость\", далее - \"автомобиль\" и \"образование\". То есть, изучив с помощью метода Counter (см. выше) все вариации указанных целей кредита я пришёл к выводу, что всего их можно выделить в 4 описанные категории и включить в список purpose_list."
   ]
  },
  {
   "cell_type": "code",
   "execution_count": 23,
   "metadata": {
    "scrolled": true
   },
   "outputs": [
    {
     "name": "stdout",
     "output_type": "stream",
     "text": [
      "21454\n"
     ]
    }
   ],
   "source": [
    "purpose_list = []\n",
    "number_of_rows = 0\n",
    "\n",
    "for purpose in lemmas:\n",
    "    if purpose == 'свадьба':\n",
    "        purpose_list.append('свадьба')\n",
    "        number_of_rows += 1\n",
    "    elif purpose == 'недвижимость' or purpose == 'жилье':\n",
    "        purpose_list.append('недвижимость')\n",
    "        number_of_rows += 1\n",
    "    elif purpose == 'автомобиль':\n",
    "        purpose_list.append('автомобиль')\n",
    "        number_of_rows += 1\n",
    "    elif purpose == 'образование':\n",
    "        purpose_list.append('образование')\n",
    "        number_of_rows += 1\n",
    "\n",
    "print(number_of_rows)"
   ]
  },
  {
   "cell_type": "markdown",
   "metadata": {},
   "source": [
    "Выведенное количество значений в списке, которое я также посчитал с помощью цикла - 21454 - полно совпало с количеством строк в исходной таблице, а это означает, что данный список можно преобразовать в отдельный новый столбец с названием purpose_category и добавить в исходную таблицу. (так как в каждой указанной цели кредита присутствует то или иное слово, которое можно отнести к 4-м выделенным мной категориям целей, то значения в новом столбце будут совпадать со смыслом указанных целей кредита purpose)"
   ]
  },
  {
   "cell_type": "code",
   "execution_count": 24,
   "metadata": {},
   "outputs": [
    {
     "name": "stdout",
     "output_type": "stream",
     "text": [
      "   children  days_employed  dob_years education  education_id  \\\n",
      "0         1          -8437         42    высшее             0   \n",
      "1         1          -4024         36   среднее             1   \n",
      "2         0          -5623         33   среднее             1   \n",
      "3         3          -4124         32   среднее             1   \n",
      "4         0         340266         53   среднее             1   \n",
      "5         0           -926         27    высшее             0   \n",
      "6         0          -2879         43    высшее             0   \n",
      "7         0           -152         50   среднее             1   \n",
      "8         2          -6929         35    высшее             0   \n",
      "9         0          -2188         41   среднее             1   \n",
      "\n",
      "      family_status  family_status_id gender income_type  debt  total_income  \\\n",
      "0   женат / замужем                 0      F   сотрудник     0        253875   \n",
      "1   женат / замужем                 0      F   сотрудник     0        112080   \n",
      "2   женат / замужем                 0      M   сотрудник     0        145885   \n",
      "3   женат / замужем                 0      M   сотрудник     0        267628   \n",
      "4  гражданский брак                 1      F   пенсионер     0        158616   \n",
      "5  гражданский брак                 1      M   компаньон     0        255763   \n",
      "6   женат / замужем                 0      F   компаньон     0        240525   \n",
      "7   женат / замужем                 0      M   сотрудник     0        135823   \n",
      "8  гражданский брак                 1      F   сотрудник     0         95856   \n",
      "9   женат / замужем                 0      M   сотрудник     0        144425   \n",
      "\n",
      "                      purpose purpose_category  \n",
      "0               покупка жилья     недвижимость  \n",
      "1     приобретение автомобиля       автомобиль  \n",
      "2               покупка жилья     недвижимость  \n",
      "3  дополнительное образование      образование  \n",
      "4             сыграть свадьбу          свадьба  \n",
      "5               покупка жилья     недвижимость  \n",
      "6           операции с жильем     недвижимость  \n",
      "7                 образование      образование  \n",
      "8       на проведение свадьбы          свадьба  \n",
      "9     покупка жилья для семьи     недвижимость  \n"
     ]
    }
   ],
   "source": [
    "df['purpose_category'] = pd.Series(purpose_list)\n",
    "print(df.head(10))"
   ]
  },
  {
   "cell_type": "markdown",
   "metadata": {},
   "source": [
    "Позднее данная категоризация поможет ответить на вопрос о зависимости цели кредита и его возвратом в срок"
   ]
  },
  {
   "cell_type": "markdown",
   "metadata": {},
   "source": [
    "Следующий вид категоризации - разделение всех заёмщиков на 2 категории: группа заёмщиков, у которых есть дети, и группа заёмщиков, у которых детей нет. Создам функцию children_group для разделения на \"есть дети\" и \"нет детей\" всех заёмщиков по данным столбца children изучаемой таблицы"
   ]
  },
  {
   "cell_type": "code",
   "execution_count": 25,
   "metadata": {},
   "outputs": [
    {
     "name": "stdout",
     "output_type": "stream",
     "text": [
      "   children  days_employed  dob_years education  education_id  \\\n",
      "0         1          -8437         42    высшее             0   \n",
      "1         1          -4024         36   среднее             1   \n",
      "2         0          -5623         33   среднее             1   \n",
      "3         3          -4124         32   среднее             1   \n",
      "4         0         340266         53   среднее             1   \n",
      "5         0           -926         27    высшее             0   \n",
      "6         0          -2879         43    высшее             0   \n",
      "7         0           -152         50   среднее             1   \n",
      "8         2          -6929         35    высшее             0   \n",
      "9         0          -2188         41   среднее             1   \n",
      "\n",
      "      family_status  family_status_id gender income_type  debt  total_income  \\\n",
      "0   женат / замужем                 0      F   сотрудник     0        253875   \n",
      "1   женат / замужем                 0      F   сотрудник     0        112080   \n",
      "2   женат / замужем                 0      M   сотрудник     0        145885   \n",
      "3   женат / замужем                 0      M   сотрудник     0        267628   \n",
      "4  гражданский брак                 1      F   пенсионер     0        158616   \n",
      "5  гражданский брак                 1      M   компаньон     0        255763   \n",
      "6   женат / замужем                 0      F   компаньон     0        240525   \n",
      "7   женат / замужем                 0      M   сотрудник     0        135823   \n",
      "8  гражданский брак                 1      F   сотрудник     0         95856   \n",
      "9   женат / замужем                 0      M   сотрудник     0        144425   \n",
      "\n",
      "                      purpose purpose_category children_group  \n",
      "0               покупка жилья     недвижимость      есть дети  \n",
      "1     приобретение автомобиля       автомобиль      есть дети  \n",
      "2               покупка жилья     недвижимость      нет детей  \n",
      "3  дополнительное образование      образование      есть дети  \n",
      "4             сыграть свадьбу          свадьба      нет детей  \n",
      "5               покупка жилья     недвижимость      нет детей  \n",
      "6           операции с жильем     недвижимость      нет детей  \n",
      "7                 образование      образование      нет детей  \n",
      "8       на проведение свадьбы          свадьба      есть дети  \n",
      "9     покупка жилья для семьи     недвижимость      нет детей  \n"
     ]
    }
   ],
   "source": [
    "def children_group(children):\n",
    "        if children == 0:\n",
    "            try:\n",
    "                return 'нет детей'\n",
    "            except:\n",
    "                return 'неверно заполненные данные о детях'\n",
    "        if children >= 1:\n",
    "            try:\n",
    "                return 'есть дети'\n",
    "            except:\n",
    "                return 'неверно заполненные данные о детях'\n",
    "\n",
    "\n",
    "df['children_group'] = df['children'].apply(children_group)\n",
    "print(df.head(10))"
   ]
  },
  {
   "cell_type": "markdown",
   "metadata": {},
   "source": [
    "Теперь проверю необходимость категоризации данных по семейному положению заёмщиков."
   ]
  },
  {
   "cell_type": "code",
   "execution_count": 26,
   "metadata": {},
   "outputs": [
    {
     "name": "stdout",
     "output_type": "stream",
     "text": [
      "женат / замужем          12339\n",
      "гражданский брак          4151\n",
      "не женат / не замужем     2810\n",
      "в разводе                 1195\n",
      "вдовец / вдова             959\n",
      "Name: family_status, dtype: int64\n"
     ]
    }
   ],
   "source": [
    "print(df['family_status'].value_counts())"
   ]
  },
  {
   "cell_type": "markdown",
   "metadata": {},
   "source": [
    "Полагаю, что все заёмщики уже распределены на 5 различных смысловых категорий, в зависимости от их семейного положения. Выделять какие-то иные категории в данном ключе считаю нецелесообразным."
   ]
  },
  {
   "cell_type": "markdown",
   "metadata": {},
   "source": [
    "И последняя категория: по уровню дохода. Предлагаю разделить данные столбца total_income на 5 различных категорий, в зависимости от уровня: очень низкий (до 30 000 включительно), низкий (от 30001 до 50000 включительно), средний (от 50001 до 100000 включительно), высокий (от 100001 до 250000 включительно) и очень высокий (от 250001 и выше). Сделать это с помощью создания функции income_level и потом добавить эти данные в новый одноименный столбец."
   ]
  },
  {
   "cell_type": "code",
   "execution_count": 27,
   "metadata": {
    "scrolled": false
   },
   "outputs": [],
   "source": [
    "def income_level(income):\n",
    "        if 0 < income <= 30000:\n",
    "            return 'очень низкий'\n",
    "        if 30000 < income <= 50000:\n",
    "            return 'низкий'\n",
    "        if 50000 < income <= 100000:\n",
    "            return 'средний'\n",
    "        if 100000 < income <= 250000:\n",
    "            return 'высокий'\n",
    "        if income > 250000:\n",
    "            return 'очень высокий'\n",
    "\n",
    "\n",
    "df['income_level'] = df['total_income'].apply(income_level)"
   ]
  },
  {
   "cell_type": "code",
   "execution_count": 28,
   "metadata": {},
   "outputs": [
    {
     "name": "stdout",
     "output_type": "stream",
     "text": [
      "высокий          14178\n",
      "средний           4091\n",
      "очень высокий     2813\n",
      "низкий             350\n",
      "очень низкий        22\n",
      "Name: income_level, dtype: int64\n"
     ]
    }
   ],
   "source": [
    "print(df['income_level'].value_counts())"
   ]
  },
  {
   "cell_type": "markdown",
   "metadata": {},
   "source": [
    "С учётом полученных значений выяснилось, что выбранный способ разделения уровня дохода на группы - не лучший, т.к. большинство заёмщиков оказалось на уровне \"высого\" дохода. Чтобы перераспределить группы, попробую посчитать среднее значение по столбцу total_income."
   ]
  },
  {
   "cell_type": "code",
   "execution_count": 29,
   "metadata": {
    "scrolled": true
   },
   "outputs": [
    {
     "name": "stdout",
     "output_type": "stream",
     "text": [
      "165319.57229421087\n"
     ]
    }
   ],
   "source": [
    "print(df['total_income'].mean())"
   ]
  },
  {
   "cell_type": "markdown",
   "metadata": {},
   "source": [
    "Далее - рассчитаю средние значения в интервалах до и после рассчитанного среднего значения."
   ]
  },
  {
   "cell_type": "code",
   "execution_count": 30,
   "metadata": {
    "scrolled": true
   },
   "outputs": [
    {
     "name": "stdout",
     "output_type": "stream",
     "text": [
      "113505.94986787467\n",
      "248919.4540138872\n",
      "84331.78122422042\n",
      "345272.43363446835\n"
     ]
    }
   ],
   "source": [
    "print(df[df['total_income'] < 165000]['total_income'].mean())\n",
    "print(df[df['total_income'] > 165000]['total_income'].mean())\n",
    "print(df[df['total_income'] < 113000]['total_income'].mean())\n",
    "print(df[df['total_income'] > 248000]['total_income'].mean())"
   ]
  },
  {
   "cell_type": "markdown",
   "metadata": {},
   "source": [
    "Получились \"пороги\", которые можно принять за рубежи между уровнями, на которые можно перераспределить уровни дохода: низкий, ниже среднего, средний, выше среднего, высокий - также 5 уровней."
   ]
  },
  {
   "cell_type": "code",
   "execution_count": 31,
   "metadata": {},
   "outputs": [],
   "source": [
    "def income_level(income):\n",
    "        if 0 < income <= 84000:\n",
    "            return 'низкий'\n",
    "        if 84000 < income <= 113000:\n",
    "            return 'ниже среднего'\n",
    "        if 113000 < income <= 248000:\n",
    "            return 'средний'\n",
    "        if 248000 < income <= 345000:\n",
    "            return 'выше среднего'\n",
    "        if income > 345000:\n",
    "            return 'высокий'\n",
    "\n",
    "\n",
    "df['income_level'] = df['total_income'].apply(income_level)"
   ]
  },
  {
   "cell_type": "code",
   "execution_count": 32,
   "metadata": {},
   "outputs": [
    {
     "name": "stdout",
     "output_type": "stream",
     "text": [
      "средний          12515\n",
      "ниже среднего     3365\n",
      "низкий            2696\n",
      "выше среднего     1955\n",
      "высокий            923\n",
      "Name: income_level, dtype: int64\n"
     ]
    }
   ],
   "source": [
    "print(df['income_level'].value_counts())"
   ]
  },
  {
   "cell_type": "markdown",
   "metadata": {},
   "source": [
    "Теперь распределение по группам, в зависимости от уровня дохода, выглядит чуть лучше: основное количество заёмщиков попадает в группу со средним уровнем дохода, что вполне закономерно."
   ]
  },
  {
   "cell_type": "markdown",
   "metadata": {},
   "source": [
    "### Вывод"
   ]
  },
  {
   "cell_type": "markdown",
   "metadata": {},
   "source": [
    "Для подготовки к ответам на поставленные далее (в Шаге 3) вопросы данные изучаемой таблицы прошли категоризацию по нескольким признакам: наличие или отсутствие детей / семейное положение / уровень дохода / цели получения кредита."
   ]
  },
  {
   "cell_type": "markdown",
   "metadata": {},
   "source": [
    "### Шаг 3. Ответьте на вопросы"
   ]
  },
  {
   "cell_type": "markdown",
   "metadata": {},
   "source": [
    "- Есть ли зависимость между наличием детей и возвратом кредита в срок?"
   ]
  },
  {
   "cell_type": "markdown",
   "metadata": {},
   "source": [
    "Посчитаю количество неоплаченных в срок кредитов, сгруппировав всех заёмщиков по наличию или отсутствию детей. Отсортирую данные по убыванию."
   ]
  },
  {
   "cell_type": "code",
   "execution_count": 33,
   "metadata": {
    "scrolled": false
   },
   "outputs": [
    {
     "name": "stdout",
     "output_type": "stream",
     "text": [
      "children_group\n",
      "нет детей    1063\n",
      "есть дети     677\n",
      "Name: debt, dtype: int64\n"
     ]
    }
   ],
   "source": [
    "print(df.groupby('children_group')['debt'].sum().sort_values(ascending=False))"
   ]
  },
  {
   "cell_type": "markdown",
   "metadata": {},
   "source": [
    "Посчитаю общее количество заёмщиков, у которых нет детей, и общее количество тех заёмщиков, у которых дети есть."
   ]
  },
  {
   "cell_type": "code",
   "execution_count": 34,
   "metadata": {},
   "outputs": [
    {
     "data": {
      "text/plain": [
       "нет детей    14091\n",
       "есть дети     7316\n",
       "Name: children_group, dtype: int64"
      ]
     },
     "execution_count": 34,
     "metadata": {},
     "output_type": "execute_result"
    }
   ],
   "source": [
    "df['children_group'].value_counts()"
   ]
  },
  {
   "cell_type": "markdown",
   "metadata": {},
   "source": [
    "Теперь проведу несколько операций для подготовки списков, которые можно будет включить в новый датафрейм, в котором будет рассчитан % неоплаченных в срок кредитов у двух выделенных групп заёмщиков. Операции - по переводу полученных значений в списки, затем создание одного списка final_list, который будет использован в формировании нового датафрейма."
   ]
  },
  {
   "cell_type": "code",
   "execution_count": 35,
   "metadata": {},
   "outputs": [],
   "source": [
    "children_group_list = df['children_group'].value_counts().tolist()\n",
    "children_debt_list = df.groupby('children_group')['debt'].sum().sort_values(ascending=False).tolist()"
   ]
  },
  {
   "cell_type": "code",
   "execution_count": 36,
   "metadata": {
    "scrolled": true
   },
   "outputs": [
    {
     "name": "stdout",
     "output_type": "stream",
     "text": [
      "[14091, 7316]\n",
      "[1063, 677]\n"
     ]
    }
   ],
   "source": [
    "print(children_group_list)\n",
    "print(children_debt_list)"
   ]
  },
  {
   "cell_type": "code",
   "execution_count": 37,
   "metadata": {},
   "outputs": [
    {
     "name": "stdout",
     "output_type": "stream",
     "text": [
      "[[14091, 1063], [7316, 677]]\n"
     ]
    }
   ],
   "source": [
    "final_list = [[children_group_list[0], children_debt_list[0]], [children_group_list[1], children_debt_list[1]]]\n",
    "print(final_list)\n",
    "columns_children = ['group', 'debt']"
   ]
  },
  {
   "cell_type": "markdown",
   "metadata": {},
   "source": [
    "Создам этот датафрейм"
   ]
  },
  {
   "cell_type": "code",
   "execution_count": 38,
   "metadata": {
    "scrolled": true
   },
   "outputs": [
    {
     "name": "stdout",
     "output_type": "stream",
     "text": [
      "   group  debt\n",
      "0  14091  1063\n",
      "1   7316   677\n"
     ]
    }
   ],
   "source": [
    "children_debt = pd.DataFrame(data = final_list, columns = columns_children)\n",
    "print(children_debt)"
   ]
  },
  {
   "cell_type": "markdown",
   "metadata": {},
   "source": [
    "И добавлю в него новый столбец - который позволяет рассчитать % неоплаченных в срок кредитов в каждой из выделенных групп заёмщиков."
   ]
  },
  {
   "cell_type": "code",
   "execution_count": 39,
   "metadata": {},
   "outputs": [
    {
     "name": "stdout",
     "output_type": "stream",
     "text": [
      "   group  debt  percentage_of_debt\n",
      "0  14091  1063            7.543822\n",
      "1   7316   677            9.253691\n"
     ]
    }
   ],
   "source": [
    "children_debt['percentage_of_debt'] = children_debt['debt'] / children_debt['group'] * 100\n",
    "print(children_debt)"
   ]
  },
  {
   "cell_type": "markdown",
   "metadata": {},
   "source": [
    "### Вывод"
   ]
  },
  {
   "cell_type": "markdown",
   "metadata": {},
   "source": [
    "Если просто сгруппировать заёмщиков по признаку \"есть дети\" или \"нет детей\" и посчитать количество неоплаченных в срок кредитов, то покажется, что у группы тех заёмщиков, у кого нет детей, количество таких кредитов выше. Однако если рассмотреть относительные показатели и вывести % неоплаченных в срок кредитов по каждой из групп, то выяснилось, что у группы тех заёмщиков, у которых дети есть, результат хуже - 9,25% неоплаченных в срок кредитов (против 7,54% у тех, у кого детей нет).\n",
    "Зависимость есть, притом, обратная."
   ]
  },
  {
   "cell_type": "markdown",
   "metadata": {},
   "source": [
    "- Есть ли зависимость между семейным положением и возвратом кредита в срок?"
   ]
  },
  {
   "cell_type": "markdown",
   "metadata": {},
   "source": [
    "Сгруппирую данные по количество невозвращенных / непогашенных в срок кредитов, в зависимости от семейного статуса заёмщиков. Сразу отсортирую данные по убыванию."
   ]
  },
  {
   "cell_type": "code",
   "execution_count": 40,
   "metadata": {
    "scrolled": true
   },
   "outputs": [
    {
     "name": "stdout",
     "output_type": "stream",
     "text": [
      "family_status\n",
      "женат / замужем          931\n",
      "гражданский брак         388\n",
      "не женат / не замужем    274\n",
      "в разводе                 85\n",
      "вдовец / вдова            63\n",
      "Name: debt, dtype: int64\n"
     ]
    }
   ],
   "source": [
    "print(df.groupby('family_status')['debt'].sum().sort_values(ascending=False))"
   ]
  },
  {
   "cell_type": "markdown",
   "metadata": {},
   "source": [
    "Посчитаю количество заёмщиков в каждой из обозначенных категорий, в зависимости от семейного статуса."
   ]
  },
  {
   "cell_type": "code",
   "execution_count": 41,
   "metadata": {
    "scrolled": true
   },
   "outputs": [
    {
     "data": {
      "text/plain": [
       "женат / замужем          12339\n",
       "гражданский брак          4151\n",
       "не женат / не замужем     2810\n",
       "в разводе                 1195\n",
       "вдовец / вдова             959\n",
       "Name: family_status, dtype: int64"
      ]
     },
     "execution_count": 41,
     "metadata": {},
     "output_type": "execute_result"
    }
   ],
   "source": [
    "df['family_status'].value_counts()"
   ]
  },
  {
   "cell_type": "markdown",
   "metadata": {},
   "source": [
    "Переведу эти значения в списки."
   ]
  },
  {
   "cell_type": "code",
   "execution_count": 42,
   "metadata": {},
   "outputs": [],
   "source": [
    "family_status_list = df['family_status'].value_counts().tolist()\n",
    "family_debt_list = df.groupby('family_status')['debt'].sum().sort_values(ascending=False).tolist()"
   ]
  },
  {
   "cell_type": "markdown",
   "metadata": {},
   "source": [
    "С помощью цикла создам список списков - для последующего преобразования в таблицу с данными (датафрейм), и тут же, в цикле добавлю значения для третьего столбца будущей таблицы - % невозвращенных / неоплаченных в срок кредитов"
   ]
  },
  {
   "cell_type": "code",
   "execution_count": 43,
   "metadata": {
    "scrolled": true
   },
   "outputs": [
    {
     "name": "stdout",
     "output_type": "stream",
     "text": [
      "[[12339, 931, 7.5451819434313965], [4151, 388, 9.347145266200915], [2810, 274, 9.750889679715302], [1195, 85, 7.112970711297072], [959, 63, 6.569343065693431]]\n"
     ]
    }
   ],
   "source": [
    "second_final_list = []\n",
    "for x in range(len(family_status_list)):\n",
    "    second_final_list.append([family_status_list[x], family_debt_list[x], family_debt_list[x] / family_status_list[x] *100])\n",
    "\n",
    "print(second_final_list)"
   ]
  },
  {
   "cell_type": "markdown",
   "metadata": {},
   "source": [
    "Создам новый датафрейм family_debt на основе полученного списка списков, с тремя столбцами."
   ]
  },
  {
   "cell_type": "code",
   "execution_count": 44,
   "metadata": {
    "scrolled": true
   },
   "outputs": [
    {
     "name": "stdout",
     "output_type": "stream",
     "text": [
      "   status_count  status_debt      rate\n",
      "0         12339          931  7.545182\n",
      "1          4151          388  9.347145\n",
      "2          2810          274  9.750890\n",
      "3          1195           85  7.112971\n",
      "4           959           63  6.569343\n"
     ]
    }
   ],
   "source": [
    "columns_family = ['status_count', 'status_debt', 'rate']\n",
    "family_debt = pd.DataFrame(data = second_final_list, columns = columns_family)\n",
    "print(family_debt)"
   ]
  },
  {
   "cell_type": "markdown",
   "metadata": {},
   "source": [
    "### Вывод"
   ]
  },
  {
   "cell_type": "markdown",
   "metadata": {},
   "source": [
    "Зависимость есть. Наибольший процент невозвращенных / непогашенных в срок кредитов отмечается у двух групп заёмщиков - у тех, кто не женат / не замужем (9,75%), и у тех, кто состоит в гражданском браке (9,35%). Наименьший - у тех, кто в разводе (7,11%), но и примерно на таком же уровне и основная группа заёмщиков - те, кто женат / замужем (7,55%)."
   ]
  },
  {
   "cell_type": "markdown",
   "metadata": {},
   "source": [
    "- Есть ли зависимость между уровнем дохода и возвратом кредита в срок?"
   ]
  },
  {
   "cell_type": "code",
   "execution_count": 45,
   "metadata": {
    "scrolled": true
   },
   "outputs": [
    {
     "name": "stdout",
     "output_type": "stream",
     "text": [
      "income_level\n",
      "средний          1059\n",
      "ниже среднего     278\n",
      "низкий            206\n",
      "выше среднего     136\n",
      "высокий            62\n",
      "Name: debt, dtype: int64\n"
     ]
    }
   ],
   "source": [
    "print(df.groupby('income_level')['debt'].sum().sort_values(ascending=False))"
   ]
  },
  {
   "cell_type": "code",
   "execution_count": 46,
   "metadata": {},
   "outputs": [
    {
     "data": {
      "text/plain": [
       "средний          12515\n",
       "ниже среднего     3365\n",
       "низкий            2696\n",
       "выше среднего     1955\n",
       "высокий            923\n",
       "Name: income_level, dtype: int64"
      ]
     },
     "execution_count": 46,
     "metadata": {},
     "output_type": "execute_result"
    }
   ],
   "source": [
    "df['income_level'].value_counts()"
   ]
  },
  {
   "cell_type": "code",
   "execution_count": 47,
   "metadata": {},
   "outputs": [],
   "source": [
    "income_level_list = df['income_level'].value_counts().tolist()\n",
    "income_debt_list = df.groupby('income_level')['debt'].sum().sort_values(ascending=False).tolist()"
   ]
  },
  {
   "cell_type": "code",
   "execution_count": 48,
   "metadata": {},
   "outputs": [],
   "source": [
    "third_final_list = []\n",
    "for x in range(len(income_level_list)):\n",
    "    third_final_list.append([income_level_list[x], income_debt_list[x], income_debt_list[x] / income_level_list[x] *100])\n"
   ]
  },
  {
   "cell_type": "code",
   "execution_count": 49,
   "metadata": {},
   "outputs": [
    {
     "name": "stdout",
     "output_type": "stream",
     "text": [
      "   income_level_count  debt_count      rate\n",
      "0               12515        1059  8.461846\n",
      "1                3365         278  8.261516\n",
      "2                2696         206  7.640950\n",
      "3                1955         136  6.956522\n",
      "4                 923          62  6.717226\n"
     ]
    }
   ],
   "source": [
    "columns_income = ['income_level_count', 'debt_count', 'rate']\n",
    "income_debt = pd.DataFrame(data = third_final_list, columns = columns_income)\n",
    "print(income_debt)"
   ]
  },
  {
   "cell_type": "markdown",
   "metadata": {},
   "source": [
    "### Вывод"
   ]
  },
  {
   "cell_type": "markdown",
   "metadata": {},
   "source": [
    "Зависимость имеется: наибольшая доля непогашенных / невозвращенных в срок кредитов (8,46%) наблюдается у заёмщиков со средним уровнем дохода, а также у заёмщиков с уровнем дохода ниже среднего. Наименьшая - у заёмщиков с высоким уровнем дохода (6,72%)."
   ]
  },
  {
   "cell_type": "markdown",
   "metadata": {},
   "source": [
    "- Как разные цели кредита влияют на его возврат в срок?"
   ]
  },
  {
   "cell_type": "code",
   "execution_count": 50,
   "metadata": {},
   "outputs": [
    {
     "name": "stdout",
     "output_type": "stream",
     "text": [
      "purpose_category\n",
      "недвижимость    782\n",
      "автомобиль      403\n",
      "образование     370\n",
      "свадьба         186\n",
      "Name: debt, dtype: int64\n"
     ]
    }
   ],
   "source": [
    "print(df.groupby('purpose_category')['debt'].sum().sort_values(ascending=False))"
   ]
  },
  {
   "cell_type": "code",
   "execution_count": 51,
   "metadata": {},
   "outputs": [
    {
     "data": {
      "text/plain": [
       "недвижимость    10811\n",
       "автомобиль       4306\n",
       "образование      4013\n",
       "свадьба          2324\n",
       "Name: purpose_category, dtype: int64"
      ]
     },
     "execution_count": 51,
     "metadata": {},
     "output_type": "execute_result"
    }
   ],
   "source": [
    "df['purpose_category'].value_counts()"
   ]
  },
  {
   "cell_type": "code",
   "execution_count": 52,
   "metadata": {},
   "outputs": [],
   "source": [
    "purpose_list = df['purpose_category'].value_counts().tolist()\n",
    "purpose_debt_list = df.groupby('purpose_category')['debt'].sum().sort_values(ascending=False).tolist()"
   ]
  },
  {
   "cell_type": "code",
   "execution_count": 53,
   "metadata": {},
   "outputs": [],
   "source": [
    "fourth_final_list = []\n",
    "for x in range(len(purpose_list)):\n",
    "    fourth_final_list.append([purpose_list[x], purpose_debt_list[x], purpose_debt_list[x] / purpose_list[x] *100])\n"
   ]
  },
  {
   "cell_type": "code",
   "execution_count": 54,
   "metadata": {},
   "outputs": [
    {
     "name": "stdout",
     "output_type": "stream",
     "text": [
      "   purpose_cat_count  debt_count      rate\n",
      "0              10811         782  7.233373\n",
      "1               4306         403  9.359034\n",
      "2               4013         370  9.220035\n",
      "3               2324         186  8.003442\n"
     ]
    }
   ],
   "source": [
    "columns_purpose = ['purpose_cat_count', 'debt_count', 'rate']\n",
    "purpose_debt = pd.DataFrame(data = fourth_final_list, columns = columns_purpose)\n",
    "print(purpose_debt)"
   ]
  },
  {
   "cell_type": "markdown",
   "metadata": {},
   "source": [
    "### Вывод"
   ]
  },
  {
   "cell_type": "markdown",
   "metadata": {},
   "source": [
    "Наибольшая доля невозвращенных / непогашенных в срок кредитов наблюдается у кредитов, взятых на приобретение автомобиля (9,36%) и на образование (9,22%), а, как раз, наименший (наилучший) показатель - у кредитов, связанных с приобретением или ремонтом жилья (7,23%)."
   ]
  },
  {
   "cell_type": "markdown",
   "metadata": {},
   "source": [
    "### Шаг 4. Общий вывод"
   ]
  },
  {
   "cell_type": "markdown",
   "metadata": {},
   "source": [
    "Данные приведены в более адекватный вид для их дальнейшего анализа; пропуски убраны и заменены; дубликаты удалены; тип данных изменен с вещественного на целочисленный (в 2-х необходимых столбцах); лемматизация и категоризация данных проведена.\n",
    "\n",
    "Из изначальных 21525 строк в исходной таблице с данными благодаря операциям по заполнению пропусков и удалению дубликатов осталось 21454 строки (был удален 71 дубликат). Пропуски в общем количестве 2174 строки встречались только в 2-х столбцах исходной таблицы: days_employed и total_income. Так как данные в первом столбце (days_employed) в большинстве случаев были внесены некорректно и являются нерелевантными для данного анализа, то пропущенные значения было решено заменить на 0, а данные в столбце total_income - на медианные значения дохода по каждой из категорий/групп заёмщиков, в соответствии со столбцом income_type.\n",
    "\n",
    "Благодаря данному анализу информация о кредитах и заёмщиках структурирована и категоризирована. Определены группы заёмщиков, в зависимости от их семейного положения, от наличия или отсутствия детей, от уровня дохода, а также от целей оформления кредита.\n",
    "Благодаря полученным результатам, включая как абсолютные количественные показатели (количества взятых кредитов по каждой из групп), так и относительных показатей (доля неоплаченных / не погашенных в срок кредитов по каждой из групп) можно применять данный анализ для дальнейшей работы по кредитному скорингу / оценки кредитоспособности заёмщиков.\n",
    "\n",
    "Из интересных наблюдений: цель оформления кредита - недвижимость - самая распространенная (10811 кредитов из 21454 всех анализируемых кредитов) и, при этом, наименее \"рискованная\", согласно показателю доли не оплаченных в срок кредитов - 7,23% кредита не было оплачено или погашено в срок, а наиболее рискованная категория целей - приобретение автомобиля (9,36% не оплаченных в срок кредитов).\n",
    "Также было установлено, что отсутствие детей - это, скореее, положительный фактор, влияющий на возврат / погашение кредита в срок, нежели наличие детей.\n",
    "\n",
    "Наименее привлекательной группой заёмщиков по, опять же, доле возврата кредитов в срок, оказались заёмщики со средним уровнем дохода. Но это вполне закономерно, учитывая тот факт, что и общее количество заёмщиков из этой категории дохода наибольшее. И, скорее всего, заёмщики со средним уровнем дохода чаще не могут адекватно и рационально оценить свои возможности по взятию кредита, на ту или иную сумму, и оплатам по кредиту в срок."
   ]
  }
 ],
 "metadata": {
  "kernelspec": {
   "display_name": "Python 3",
   "language": "python",
   "name": "python3"
  },
  "language_info": {
   "codemirror_mode": {
    "name": "ipython",
    "version": 3
   },
   "file_extension": ".py",
   "mimetype": "text/x-python",
   "name": "python",
   "nbconvert_exporter": "python",
   "pygments_lexer": "ipython3",
   "version": "3.7.2"
  }
 },
 "nbformat": 4,
 "nbformat_minor": 2
}
