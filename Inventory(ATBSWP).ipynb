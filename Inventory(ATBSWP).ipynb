{
 "cells": [
  {
   "cell_type": "code",
   "execution_count": 1,
   "metadata": {},
   "outputs": [
    {
     "name": "stdout",
     "output_type": "stream",
     "text": [
      "Inventory:\n",
      "1 rope\n",
      "6 torch\n",
      "45 gold coin\n",
      "2 dagger\n",
      "12 arrow\n",
      "2 ruby\n",
      "Total number of items: 68\n"
     ]
    }
   ],
   "source": [
    "stuff = {'rope': 1, 'torch': 6, 'gold coin': 42, 'dagger': 1, 'arrow': 12}\n",
    "\n",
    "\n",
    "def displayInventory(inventory):\n",
    "    print('Inventory:')\n",
    "    item_total = 0\n",
    "    for k, v in inventory.items():\n",
    "        item_total += inventory.get(k, 0)\n",
    "        print(str(v), k)\n",
    "    return print('Total number of items:', str(item_total))\n",
    "\n",
    "\n",
    "def addToInventory(inventory, addedItems):\n",
    "    for item in addedItems:\n",
    "        #try:\n",
    "            #inventory[item] += 1\n",
    "        #except:\n",
    "            #print('')\n",
    "        for k, v in inventory.items():\n",
    "            if item == k:\n",
    "                inventory[k] += 1\n",
    "        if item not in inventory:\n",
    "            inventory.setdefault(item, 1)\n",
    "    return inventory\n",
    "\n",
    "\n",
    "dragonLoot = ['gold coin', 'dagger', 'gold coin', 'gold coin', 'ruby', 'ruby']\n",
    "inv = addToInventory(stuff, dragonLoot)\n",
    "displayInventory(inv)\n"
   ]
  },
  {
   "cell_type": "code",
   "execution_count": null,
   "metadata": {},
   "outputs": [],
   "source": []
  }
 ],
 "metadata": {
  "kernelspec": {
   "display_name": "Python 3",
   "language": "python",
   "name": "python3"
  },
  "language_info": {
   "codemirror_mode": {
    "name": "ipython",
    "version": 3
   },
   "file_extension": ".py",
   "mimetype": "text/x-python",
   "name": "python",
   "nbconvert_exporter": "python",
   "pygments_lexer": "ipython3",
   "version": "3.7.2"
  }
 },
 "nbformat": 4,
 "nbformat_minor": 2
}
