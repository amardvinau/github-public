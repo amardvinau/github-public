{
 "cells": [
  {
   "cell_type": "code",
   "execution_count": 1,
   "metadata": {},
   "outputs": [],
   "source": [
    "import pandas as pd"
   ]
  },
  {
   "cell_type": "code",
   "execution_count": 2,
   "metadata": {
    "scrolled": false
   },
   "outputs": [
    {
     "name": "stdout",
     "output_type": "stream",
     "text": [
      "<class 'pandas.core.frame.DataFrame'>\n",
      "Int64Index: 378 entries, 1 to 378\n",
      "Data columns (total 4 columns):\n",
      "                  id                      378 non-null object\n",
      " event_id                                 378 non-null float64\n",
      " subject                                  378 non-null object\n",
      "       scheduled_time                     378 non-null object\n",
      "dtypes: float64(1), object(3)\n",
      "memory usage: 14.8+ KB\n"
     ]
    }
   ],
   "source": [
    "lessons = pd.read_csv('lessons.txt', sep='|', index_col=False)\n",
    "lessons = lessons.dropna()\n",
    "lessons.info()"
   ]
  },
  {
   "cell_type": "code",
   "execution_count": 3,
   "metadata": {},
   "outputs": [
    {
     "data": {
      "text/html": [
       "<div>\n",
       "<style scoped>\n",
       "    .dataframe tbody tr th:only-of-type {\n",
       "        vertical-align: middle;\n",
       "    }\n",
       "\n",
       "    .dataframe tbody tr th {\n",
       "        vertical-align: top;\n",
       "    }\n",
       "\n",
       "    .dataframe thead th {\n",
       "        text-align: right;\n",
       "    }\n",
       "</style>\n",
       "<table border=\"1\" class=\"dataframe\">\n",
       "  <thead>\n",
       "    <tr style=\"text-align: right;\">\n",
       "      <th></th>\n",
       "      <th>id</th>\n",
       "      <th>event_id</th>\n",
       "      <th>subject</th>\n",
       "      <th>scheduled_time</th>\n",
       "    </tr>\n",
       "  </thead>\n",
       "  <tbody>\n",
       "    <tr>\n",
       "      <td>1</td>\n",
       "      <td>1e7bb408-cfef-4a9f-8328-351c9483a64c</td>\n",
       "      <td>38114.0</td>\n",
       "      <td>phys</td>\n",
       "      <td>2020-01-19 12:00:00</td>\n",
       "    </tr>\n",
       "    <tr>\n",
       "      <td>2</td>\n",
       "      <td>6d8e59d9-a7c8-4bb3-8ff3-99cd07acdf1a</td>\n",
       "      <td>51568.0</td>\n",
       "      <td>it</td>\n",
       "      <td>2020-01-19 13:00:00</td>\n",
       "    </tr>\n",
       "    <tr>\n",
       "      <td>3</td>\n",
       "      <td>62e1a078-33de-47c1-99d2-845b1daca56f</td>\n",
       "      <td>52790.0</td>\n",
       "      <td>hist</td>\n",
       "      <td>2020-01-19 13:00:00</td>\n",
       "    </tr>\n",
       "    <tr>\n",
       "      <td>4</td>\n",
       "      <td>00fc6685-f53a-49bb-b960-5e0042fd3852</td>\n",
       "      <td>51341.0</td>\n",
       "      <td>phys</td>\n",
       "      <td>2020-01-17 12:00:00</td>\n",
       "    </tr>\n",
       "    <tr>\n",
       "      <td>5</td>\n",
       "      <td>4cadf623-82e6-422f-a342-acf978302fb2</td>\n",
       "      <td>55048.0</td>\n",
       "      <td>phys</td>\n",
       "      <td>2020-01-19 14:00:00</td>\n",
       "    </tr>\n",
       "  </tbody>\n",
       "</table>\n",
       "</div>"
      ],
      "text/plain": [
       "                     id                     event_id    subject   \\\n",
       "1   1e7bb408-cfef-4a9f-8328-351c9483a64c      38114.0   phys       \n",
       "2   6d8e59d9-a7c8-4bb3-8ff3-99cd07acdf1a      51568.0   it         \n",
       "3   62e1a078-33de-47c1-99d2-845b1daca56f      52790.0   hist       \n",
       "4   00fc6685-f53a-49bb-b960-5e0042fd3852      51341.0   phys       \n",
       "5   4cadf623-82e6-422f-a342-acf978302fb2      55048.0   phys       \n",
       "\n",
       "         scheduled_time         \n",
       "1          2020-01-19 12:00:00  \n",
       "2          2020-01-19 13:00:00  \n",
       "3          2020-01-19 13:00:00  \n",
       "4          2020-01-17 12:00:00  \n",
       "5          2020-01-19 14:00:00  "
      ]
     },
     "execution_count": 3,
     "metadata": {},
     "output_type": "execute_result"
    }
   ],
   "source": [
    "lessons.head()"
   ]
  },
  {
   "cell_type": "markdown",
   "metadata": {},
   "source": [
    "#### Переименовал столбцы в lessons"
   ]
  },
  {
   "cell_type": "code",
   "execution_count": 4,
   "metadata": {
    "scrolled": false
   },
   "outputs": [
    {
     "data": {
      "text/html": [
       "<div>\n",
       "<style scoped>\n",
       "    .dataframe tbody tr th:only-of-type {\n",
       "        vertical-align: middle;\n",
       "    }\n",
       "\n",
       "    .dataframe tbody tr th {\n",
       "        vertical-align: top;\n",
       "    }\n",
       "\n",
       "    .dataframe thead th {\n",
       "        text-align: right;\n",
       "    }\n",
       "</style>\n",
       "<table border=\"1\" class=\"dataframe\">\n",
       "  <thead>\n",
       "    <tr style=\"text-align: right;\">\n",
       "      <th></th>\n",
       "      <th>lesson_id</th>\n",
       "      <th>event_id</th>\n",
       "      <th>subject</th>\n",
       "      <th>scheduled_time</th>\n",
       "    </tr>\n",
       "  </thead>\n",
       "  <tbody>\n",
       "    <tr>\n",
       "      <td>1</td>\n",
       "      <td>1e7bb408-cfef-4a9f-8328-351c9483a64c</td>\n",
       "      <td>38114.0</td>\n",
       "      <td>phys</td>\n",
       "      <td>2020-01-19 12:00:00</td>\n",
       "    </tr>\n",
       "    <tr>\n",
       "      <td>2</td>\n",
       "      <td>6d8e59d9-a7c8-4bb3-8ff3-99cd07acdf1a</td>\n",
       "      <td>51568.0</td>\n",
       "      <td>it</td>\n",
       "      <td>2020-01-19 13:00:00</td>\n",
       "    </tr>\n",
       "    <tr>\n",
       "      <td>3</td>\n",
       "      <td>62e1a078-33de-47c1-99d2-845b1daca56f</td>\n",
       "      <td>52790.0</td>\n",
       "      <td>hist</td>\n",
       "      <td>2020-01-19 13:00:00</td>\n",
       "    </tr>\n",
       "    <tr>\n",
       "      <td>4</td>\n",
       "      <td>00fc6685-f53a-49bb-b960-5e0042fd3852</td>\n",
       "      <td>51341.0</td>\n",
       "      <td>phys</td>\n",
       "      <td>2020-01-17 12:00:00</td>\n",
       "    </tr>\n",
       "    <tr>\n",
       "      <td>5</td>\n",
       "      <td>4cadf623-82e6-422f-a342-acf978302fb2</td>\n",
       "      <td>55048.0</td>\n",
       "      <td>phys</td>\n",
       "      <td>2020-01-19 14:00:00</td>\n",
       "    </tr>\n",
       "  </tbody>\n",
       "</table>\n",
       "</div>"
      ],
      "text/plain": [
       "                                lesson_id  event_id    subject  \\\n",
       "1   1e7bb408-cfef-4a9f-8328-351c9483a64c    38114.0   phys       \n",
       "2   6d8e59d9-a7c8-4bb3-8ff3-99cd07acdf1a    51568.0   it         \n",
       "3   62e1a078-33de-47c1-99d2-845b1daca56f    52790.0   hist       \n",
       "4   00fc6685-f53a-49bb-b960-5e0042fd3852    51341.0   phys       \n",
       "5   4cadf623-82e6-422f-a342-acf978302fb2    55048.0   phys       \n",
       "\n",
       "         scheduled_time  \n",
       "1   2020-01-19 12:00:00  \n",
       "2   2020-01-19 13:00:00  \n",
       "3   2020-01-19 13:00:00  \n",
       "4   2020-01-17 12:00:00  \n",
       "5   2020-01-19 14:00:00  "
      ]
     },
     "execution_count": 4,
     "metadata": {},
     "output_type": "execute_result"
    }
   ],
   "source": [
    "lessons.set_axis(['lesson_id', 'event_id', 'subject', 'scheduled_time'], axis='columns', inplace=True)\n",
    "lessons.head()"
   ]
  },
  {
   "cell_type": "markdown",
   "metadata": {},
   "source": [
    "#### Поменял типы данных - там, где нужно:"
   ]
  },
  {
   "cell_type": "code",
   "execution_count": 5,
   "metadata": {},
   "outputs": [
    {
     "data": {
      "text/html": [
       "<div>\n",
       "<style scoped>\n",
       "    .dataframe tbody tr th:only-of-type {\n",
       "        vertical-align: middle;\n",
       "    }\n",
       "\n",
       "    .dataframe tbody tr th {\n",
       "        vertical-align: top;\n",
       "    }\n",
       "\n",
       "    .dataframe thead th {\n",
       "        text-align: right;\n",
       "    }\n",
       "</style>\n",
       "<table border=\"1\" class=\"dataframe\">\n",
       "  <thead>\n",
       "    <tr style=\"text-align: right;\">\n",
       "      <th></th>\n",
       "      <th>lesson_id</th>\n",
       "      <th>event_id</th>\n",
       "      <th>subject</th>\n",
       "      <th>scheduled_time</th>\n",
       "      <th>moscow_time</th>\n",
       "    </tr>\n",
       "  </thead>\n",
       "  <tbody>\n",
       "    <tr>\n",
       "      <td>1</td>\n",
       "      <td>1e7bb408-cfef-4a9f-8328-351c9483a64c</td>\n",
       "      <td>38114</td>\n",
       "      <td>phys</td>\n",
       "      <td>2020-01-19 12:00:00</td>\n",
       "      <td>2020-01-19 15:00:00</td>\n",
       "    </tr>\n",
       "    <tr>\n",
       "      <td>2</td>\n",
       "      <td>6d8e59d9-a7c8-4bb3-8ff3-99cd07acdf1a</td>\n",
       "      <td>51568</td>\n",
       "      <td>it</td>\n",
       "      <td>2020-01-19 13:00:00</td>\n",
       "      <td>2020-01-19 16:00:00</td>\n",
       "    </tr>\n",
       "    <tr>\n",
       "      <td>3</td>\n",
       "      <td>62e1a078-33de-47c1-99d2-845b1daca56f</td>\n",
       "      <td>52790</td>\n",
       "      <td>hist</td>\n",
       "      <td>2020-01-19 13:00:00</td>\n",
       "      <td>2020-01-19 16:00:00</td>\n",
       "    </tr>\n",
       "    <tr>\n",
       "      <td>4</td>\n",
       "      <td>00fc6685-f53a-49bb-b960-5e0042fd3852</td>\n",
       "      <td>51341</td>\n",
       "      <td>phys</td>\n",
       "      <td>2020-01-17 12:00:00</td>\n",
       "      <td>2020-01-17 15:00:00</td>\n",
       "    </tr>\n",
       "    <tr>\n",
       "      <td>5</td>\n",
       "      <td>4cadf623-82e6-422f-a342-acf978302fb2</td>\n",
       "      <td>55048</td>\n",
       "      <td>phys</td>\n",
       "      <td>2020-01-19 14:00:00</td>\n",
       "      <td>2020-01-19 17:00:00</td>\n",
       "    </tr>\n",
       "  </tbody>\n",
       "</table>\n",
       "</div>"
      ],
      "text/plain": [
       "                                lesson_id  event_id    subject  \\\n",
       "1   1e7bb408-cfef-4a9f-8328-351c9483a64c      38114   phys       \n",
       "2   6d8e59d9-a7c8-4bb3-8ff3-99cd07acdf1a      51568   it         \n",
       "3   62e1a078-33de-47c1-99d2-845b1daca56f      52790   hist       \n",
       "4   00fc6685-f53a-49bb-b960-5e0042fd3852      51341   phys       \n",
       "5   4cadf623-82e6-422f-a342-acf978302fb2      55048   phys       \n",
       "\n",
       "       scheduled_time         moscow_time  \n",
       "1 2020-01-19 12:00:00 2020-01-19 15:00:00  \n",
       "2 2020-01-19 13:00:00 2020-01-19 16:00:00  \n",
       "3 2020-01-19 13:00:00 2020-01-19 16:00:00  \n",
       "4 2020-01-17 12:00:00 2020-01-17 15:00:00  \n",
       "5 2020-01-19 14:00:00 2020-01-19 17:00:00  "
      ]
     },
     "execution_count": 5,
     "metadata": {},
     "output_type": "execute_result"
    }
   ],
   "source": [
    "lessons['event_id'] = lessons['event_id'].astype('int')\n",
    "lessons['scheduled_time'] = pd.to_datetime(lessons['scheduled_time'], format='%Y-%m-%d %H:%M:%S')\n",
    "lessons['moscow_time'] = lessons['scheduled_time'] + pd.Timedelta(hours=3)\n",
    "lessons.head()"
   ]
  },
  {
   "cell_type": "code",
   "execution_count": 6,
   "metadata": {
    "scrolled": false
   },
   "outputs": [
    {
     "name": "stdout",
     "output_type": "stream",
     "text": [
      "<class 'pandas.core.frame.DataFrame'>\n",
      "Int64Index: 378 entries, 1 to 378\n",
      "Data columns (total 5 columns):\n",
      "lesson_id         378 non-null object\n",
      "event_id          378 non-null int32\n",
      "subject           378 non-null object\n",
      "scheduled_time    378 non-null datetime64[ns]\n",
      "moscow_time       378 non-null datetime64[ns]\n",
      "dtypes: datetime64[ns](2), int32(1), object(2)\n",
      "memory usage: 16.2+ KB\n"
     ]
    }
   ],
   "source": [
    "lessons.info()"
   ]
  },
  {
   "cell_type": "code",
   "execution_count": 7,
   "metadata": {},
   "outputs": [
    {
     "data": {
      "text/plain": [
       " phys        184\n",
       " bio          78\n",
       " hist         60\n",
       " it           56\n",
       "Name: subject, dtype: int64"
      ]
     },
     "execution_count": 7,
     "metadata": {},
     "output_type": "execute_result"
    }
   ],
   "source": [
    "lessons['subject'].value_counts()"
   ]
  },
  {
   "cell_type": "markdown",
   "metadata": {},
   "source": [
    "#### Сделал выборку только уроков по физике:"
   ]
  },
  {
   "cell_type": "code",
   "execution_count": 8,
   "metadata": {},
   "outputs": [
    {
     "data": {
      "text/html": [
       "<div>\n",
       "<style scoped>\n",
       "    .dataframe tbody tr th:only-of-type {\n",
       "        vertical-align: middle;\n",
       "    }\n",
       "\n",
       "    .dataframe tbody tr th {\n",
       "        vertical-align: top;\n",
       "    }\n",
       "\n",
       "    .dataframe thead th {\n",
       "        text-align: right;\n",
       "    }\n",
       "</style>\n",
       "<table border=\"1\" class=\"dataframe\">\n",
       "  <thead>\n",
       "    <tr style=\"text-align: right;\">\n",
       "      <th></th>\n",
       "      <th>lesson_id</th>\n",
       "      <th>event_id</th>\n",
       "      <th>subject</th>\n",
       "      <th>scheduled_time</th>\n",
       "      <th>moscow_time</th>\n",
       "    </tr>\n",
       "  </thead>\n",
       "  <tbody>\n",
       "    <tr>\n",
       "      <td>0</td>\n",
       "      <td>1e7bb408-cfef-4a9f-8328-351c9483a64c</td>\n",
       "      <td>38114</td>\n",
       "      <td>phys</td>\n",
       "      <td>2020-01-19 12:00:00</td>\n",
       "      <td>2020-01-19 15:00:00</td>\n",
       "    </tr>\n",
       "    <tr>\n",
       "      <td>1</td>\n",
       "      <td>00fc6685-f53a-49bb-b960-5e0042fd3852</td>\n",
       "      <td>51341</td>\n",
       "      <td>phys</td>\n",
       "      <td>2020-01-17 12:00:00</td>\n",
       "      <td>2020-01-17 15:00:00</td>\n",
       "    </tr>\n",
       "    <tr>\n",
       "      <td>2</td>\n",
       "      <td>4cadf623-82e6-422f-a342-acf978302fb2</td>\n",
       "      <td>55048</td>\n",
       "      <td>phys</td>\n",
       "      <td>2020-01-19 14:00:00</td>\n",
       "      <td>2020-01-19 17:00:00</td>\n",
       "    </tr>\n",
       "    <tr>\n",
       "      <td>3</td>\n",
       "      <td>e597a79a-3f68-4d15-bc77-c7000bcf8e52</td>\n",
       "      <td>53026</td>\n",
       "      <td>phys</td>\n",
       "      <td>2020-01-19 15:00:00</td>\n",
       "      <td>2020-01-19 18:00:00</td>\n",
       "    </tr>\n",
       "    <tr>\n",
       "      <td>4</td>\n",
       "      <td>ea6f0bf3-bcfc-4555-9b16-cc2cfe722e17</td>\n",
       "      <td>51645</td>\n",
       "      <td>phys</td>\n",
       "      <td>2020-01-19 14:00:00</td>\n",
       "      <td>2020-01-19 17:00:00</td>\n",
       "    </tr>\n",
       "  </tbody>\n",
       "</table>\n",
       "</div>"
      ],
      "text/plain": [
       "                                lesson_id  event_id    subject  \\\n",
       "0   1e7bb408-cfef-4a9f-8328-351c9483a64c      38114   phys       \n",
       "1   00fc6685-f53a-49bb-b960-5e0042fd3852      51341   phys       \n",
       "2   4cadf623-82e6-422f-a342-acf978302fb2      55048   phys       \n",
       "3   e597a79a-3f68-4d15-bc77-c7000bcf8e52      53026   phys       \n",
       "4   ea6f0bf3-bcfc-4555-9b16-cc2cfe722e17      51645   phys       \n",
       "\n",
       "       scheduled_time         moscow_time  \n",
       "0 2020-01-19 12:00:00 2020-01-19 15:00:00  \n",
       "1 2020-01-17 12:00:00 2020-01-17 15:00:00  \n",
       "2 2020-01-19 14:00:00 2020-01-19 17:00:00  \n",
       "3 2020-01-19 15:00:00 2020-01-19 18:00:00  \n",
       "4 2020-01-19 14:00:00 2020-01-19 17:00:00  "
      ]
     },
     "execution_count": 8,
     "metadata": {},
     "output_type": "execute_result"
    }
   ],
   "source": [
    "phys_lessons = lessons[lessons['subject'] == ' phys    '].reset_index(drop=True)\n",
    "phys_lessons.head()"
   ]
  },
  {
   "cell_type": "code",
   "execution_count": 9,
   "metadata": {},
   "outputs": [
    {
     "name": "stdout",
     "output_type": "stream",
     "text": [
      "<class 'pandas.core.frame.DataFrame'>\n",
      "RangeIndex: 184 entries, 0 to 183\n",
      "Data columns (total 5 columns):\n",
      "lesson_id         184 non-null object\n",
      "event_id          184 non-null int32\n",
      "subject           184 non-null object\n",
      "scheduled_time    184 non-null datetime64[ns]\n",
      "moscow_time       184 non-null datetime64[ns]\n",
      "dtypes: datetime64[ns](2), int32(1), object(2)\n",
      "memory usage: 6.6+ KB\n"
     ]
    }
   ],
   "source": [
    "phys_lessons.info()"
   ]
  },
  {
   "cell_type": "code",
   "execution_count": 10,
   "metadata": {
    "scrolled": true
   },
   "outputs": [
    {
     "name": "stdout",
     "output_type": "stream",
     "text": [
      "<class 'pandas.core.frame.DataFrame'>\n",
      "Int64Index: 365 entries, 1 to 365\n",
      "Data columns (total 2 columns):\n",
      "              lesson_id                   365 non-null object\n",
      " tech_quality                             365 non-null object\n",
      "dtypes: object(2)\n",
      "memory usage: 8.6+ KB\n"
     ]
    }
   ],
   "source": [
    "quality = pd.read_csv('quality.txt', sep='|')\n",
    "quality = quality.dropna()\n",
    "quality.info()"
   ]
  },
  {
   "cell_type": "markdown",
   "metadata": {},
   "source": [
    "#### Переименовал столбцы в quality:"
   ]
  },
  {
   "cell_type": "code",
   "execution_count": 11,
   "metadata": {
    "scrolled": true
   },
   "outputs": [
    {
     "data": {
      "text/html": [
       "<div>\n",
       "<style scoped>\n",
       "    .dataframe tbody tr th:only-of-type {\n",
       "        vertical-align: middle;\n",
       "    }\n",
       "\n",
       "    .dataframe tbody tr th {\n",
       "        vertical-align: top;\n",
       "    }\n",
       "\n",
       "    .dataframe thead th {\n",
       "        text-align: right;\n",
       "    }\n",
       "</style>\n",
       "<table border=\"1\" class=\"dataframe\">\n",
       "  <thead>\n",
       "    <tr style=\"text-align: right;\">\n",
       "      <th></th>\n",
       "      <th>lesson_id</th>\n",
       "      <th>tech_quality</th>\n",
       "    </tr>\n",
       "  </thead>\n",
       "  <tbody>\n",
       "    <tr>\n",
       "      <td>1</td>\n",
       "      <td>6d8e59d9-a7c8-4bb3-8ff3-99cd07acdf1a</td>\n",
       "      <td>5</td>\n",
       "    </tr>\n",
       "    <tr>\n",
       "      <td>2</td>\n",
       "      <td>62e1a078-33de-47c1-99d2-845b1daca56f</td>\n",
       "      <td>5</td>\n",
       "    </tr>\n",
       "    <tr>\n",
       "      <td>3</td>\n",
       "      <td>62e1a078-33de-47c1-99d2-845b1daca56f</td>\n",
       "      <td>5</td>\n",
       "    </tr>\n",
       "    <tr>\n",
       "      <td>4</td>\n",
       "      <td>00fc6685-f53a-49bb-b960-5e0042fd3852</td>\n",
       "      <td>5</td>\n",
       "    </tr>\n",
       "    <tr>\n",
       "      <td>5</td>\n",
       "      <td>00fc6685-f53a-49bb-b960-5e0042fd3852</td>\n",
       "      <td>5</td>\n",
       "    </tr>\n",
       "  </tbody>\n",
       "</table>\n",
       "</div>"
      ],
      "text/plain": [
       "                                lesson_id   tech_quality\n",
       "1   6d8e59d9-a7c8-4bb3-8ff3-99cd07acdf1a               5\n",
       "2   62e1a078-33de-47c1-99d2-845b1daca56f               5\n",
       "3   62e1a078-33de-47c1-99d2-845b1daca56f               5\n",
       "4   00fc6685-f53a-49bb-b960-5e0042fd3852               5\n",
       "5   00fc6685-f53a-49bb-b960-5e0042fd3852               5"
      ]
     },
     "execution_count": 11,
     "metadata": {},
     "output_type": "execute_result"
    }
   ],
   "source": [
    "quality.set_axis(['lesson_id', 'tech_quality'], axis='columns', inplace=True)\n",
    "quality.head()"
   ]
  },
  {
   "cell_type": "code",
   "execution_count": 12,
   "metadata": {},
   "outputs": [
    {
     "data": {
      "text/plain": [
       "            5    307\n",
       "            4     24\n",
       "                  16\n",
       "            3      9\n",
       "            2      6\n",
       "            1      3\n",
       "Name: tech_quality, dtype: int64"
      ]
     },
     "execution_count": 12,
     "metadata": {},
     "output_type": "execute_result"
    }
   ],
   "source": [
    "quality['tech_quality'].value_counts()"
   ]
  },
  {
   "cell_type": "markdown",
   "metadata": {},
   "source": [
    "#### Перевёл оценки в числовые значения, float:"
   ]
  },
  {
   "cell_type": "code",
   "execution_count": 13,
   "metadata": {},
   "outputs": [],
   "source": [
    "quality['tech_quality'] = pd.to_numeric(quality['tech_quality'], errors='coerce')"
   ]
  },
  {
   "cell_type": "code",
   "execution_count": 14,
   "metadata": {},
   "outputs": [
    {
     "data": {
      "text/plain": [
       "5.0    307\n",
       "4.0     24\n",
       "3.0      9\n",
       "2.0      6\n",
       "1.0      3\n",
       "Name: tech_quality, dtype: int64"
      ]
     },
     "execution_count": 14,
     "metadata": {},
     "output_type": "execute_result"
    }
   ],
   "source": [
    "quality['tech_quality'].value_counts()"
   ]
  },
  {
   "cell_type": "markdown",
   "metadata": {},
   "source": [
    "#### Посчитал среднюю оценку по lesson_id в таблице quality:"
   ]
  },
  {
   "cell_type": "code",
   "execution_count": 15,
   "metadata": {},
   "outputs": [],
   "source": [
    "quality_table = quality.pivot_table(index='lesson_id', values='tech_quality')"
   ]
  },
  {
   "cell_type": "markdown",
   "metadata": {},
   "source": [
    "#### Соединил таблицу уроков физики с таблицей средних оценок по lesson_id:"
   ]
  },
  {
   "cell_type": "code",
   "execution_count": 16,
   "metadata": {},
   "outputs": [
    {
     "data": {
      "text/html": [
       "<div>\n",
       "<style scoped>\n",
       "    .dataframe tbody tr th:only-of-type {\n",
       "        vertical-align: middle;\n",
       "    }\n",
       "\n",
       "    .dataframe tbody tr th {\n",
       "        vertical-align: top;\n",
       "    }\n",
       "\n",
       "    .dataframe thead th {\n",
       "        text-align: right;\n",
       "    }\n",
       "</style>\n",
       "<table border=\"1\" class=\"dataframe\">\n",
       "  <thead>\n",
       "    <tr style=\"text-align: right;\">\n",
       "      <th></th>\n",
       "      <th>lesson_id</th>\n",
       "      <th>event_id</th>\n",
       "      <th>subject</th>\n",
       "      <th>scheduled_time</th>\n",
       "      <th>moscow_time</th>\n",
       "      <th>tech_quality</th>\n",
       "    </tr>\n",
       "  </thead>\n",
       "  <tbody>\n",
       "    <tr>\n",
       "      <td>0</td>\n",
       "      <td>00fc6685-f53a-49bb-b960-5e0042fd3852</td>\n",
       "      <td>51341</td>\n",
       "      <td>phys</td>\n",
       "      <td>2020-01-17 12:00:00</td>\n",
       "      <td>2020-01-17 15:00:00</td>\n",
       "      <td>5.0</td>\n",
       "    </tr>\n",
       "    <tr>\n",
       "      <td>1</td>\n",
       "      <td>4cadf623-82e6-422f-a342-acf978302fb2</td>\n",
       "      <td>55048</td>\n",
       "      <td>phys</td>\n",
       "      <td>2020-01-19 14:00:00</td>\n",
       "      <td>2020-01-19 17:00:00</td>\n",
       "      <td>5.0</td>\n",
       "    </tr>\n",
       "    <tr>\n",
       "      <td>2</td>\n",
       "      <td>e597a79a-3f68-4d15-bc77-c7000bcf8e52</td>\n",
       "      <td>53026</td>\n",
       "      <td>phys</td>\n",
       "      <td>2020-01-19 15:00:00</td>\n",
       "      <td>2020-01-19 18:00:00</td>\n",
       "      <td>5.0</td>\n",
       "    </tr>\n",
       "    <tr>\n",
       "      <td>3</td>\n",
       "      <td>ea6f0bf3-bcfc-4555-9b16-cc2cfe722e17</td>\n",
       "      <td>51645</td>\n",
       "      <td>phys</td>\n",
       "      <td>2020-01-19 14:00:00</td>\n",
       "      <td>2020-01-19 17:00:00</td>\n",
       "      <td>5.0</td>\n",
       "    </tr>\n",
       "    <tr>\n",
       "      <td>4</td>\n",
       "      <td>7d56b43a-d137-446d-8570-8d7d5ccbaee9</td>\n",
       "      <td>51153</td>\n",
       "      <td>phys</td>\n",
       "      <td>2020-01-20 17:00:00</td>\n",
       "      <td>2020-01-20 20:00:00</td>\n",
       "      <td>5.0</td>\n",
       "    </tr>\n",
       "  </tbody>\n",
       "</table>\n",
       "</div>"
      ],
      "text/plain": [
       "                                lesson_id  event_id    subject  \\\n",
       "0   00fc6685-f53a-49bb-b960-5e0042fd3852      51341   phys       \n",
       "1   4cadf623-82e6-422f-a342-acf978302fb2      55048   phys       \n",
       "2   e597a79a-3f68-4d15-bc77-c7000bcf8e52      53026   phys       \n",
       "3   ea6f0bf3-bcfc-4555-9b16-cc2cfe722e17      51645   phys       \n",
       "4   7d56b43a-d137-446d-8570-8d7d5ccbaee9      51153   phys       \n",
       "\n",
       "       scheduled_time         moscow_time  tech_quality  \n",
       "0 2020-01-17 12:00:00 2020-01-17 15:00:00           5.0  \n",
       "1 2020-01-19 14:00:00 2020-01-19 17:00:00           5.0  \n",
       "2 2020-01-19 15:00:00 2020-01-19 18:00:00           5.0  \n",
       "3 2020-01-19 14:00:00 2020-01-19 17:00:00           5.0  \n",
       "4 2020-01-20 17:00:00 2020-01-20 20:00:00           5.0  "
      ]
     },
     "execution_count": 16,
     "metadata": {},
     "output_type": "execute_result"
    }
   ],
   "source": [
    "lessons_quality = phys_lessons.merge(quality_table, how='inner', on='lesson_id')\n",
    "lessons_quality.head()"
   ]
  },
  {
   "cell_type": "code",
   "execution_count": 17,
   "metadata": {
    "scrolled": true
   },
   "outputs": [
    {
     "name": "stdout",
     "output_type": "stream",
     "text": [
      "<class 'pandas.core.frame.DataFrame'>\n",
      "Int64Index: 743 entries, 1 to 743\n",
      "Data columns (total 2 columns):\n",
      " event_id                                 743 non-null object\n",
      "               user_id                    743 non-null object\n",
      "dtypes: object(2)\n",
      "memory usage: 17.4+ KB\n"
     ]
    }
   ],
   "source": [
    "participants = pd.read_csv('participants.txt', sep='|')\n",
    "participants = participants.dropna()\n",
    "participants.info()"
   ]
  },
  {
   "cell_type": "markdown",
   "metadata": {},
   "source": [
    "#### Переименовал столбцы в participants:"
   ]
  },
  {
   "cell_type": "code",
   "execution_count": 18,
   "metadata": {
    "scrolled": true
   },
   "outputs": [
    {
     "data": {
      "text/html": [
       "<div>\n",
       "<style scoped>\n",
       "    .dataframe tbody tr th:only-of-type {\n",
       "        vertical-align: middle;\n",
       "    }\n",
       "\n",
       "    .dataframe tbody tr th {\n",
       "        vertical-align: top;\n",
       "    }\n",
       "\n",
       "    .dataframe thead th {\n",
       "        text-align: right;\n",
       "    }\n",
       "</style>\n",
       "<table border=\"1\" class=\"dataframe\">\n",
       "  <thead>\n",
       "    <tr style=\"text-align: right;\">\n",
       "      <th></th>\n",
       "      <th>event_id</th>\n",
       "      <th>user_id</th>\n",
       "    </tr>\n",
       "  </thead>\n",
       "  <tbody>\n",
       "    <tr>\n",
       "      <td>1</td>\n",
       "      <td>38114</td>\n",
       "      <td>e28351f5-4ccb-4549-8647-d43f2b15e7b8</td>\n",
       "    </tr>\n",
       "    <tr>\n",
       "      <td>2</td>\n",
       "      <td>38114</td>\n",
       "      <td>4df2832a-1d63-4453-9659-43993fc35996</td>\n",
       "    </tr>\n",
       "    <tr>\n",
       "      <td>3</td>\n",
       "      <td>51568</td>\n",
       "      <td>bb1c0bc8-1212-452b-97a0-439d4a2169e2</td>\n",
       "    </tr>\n",
       "    <tr>\n",
       "      <td>4</td>\n",
       "      <td>51568</td>\n",
       "      <td>63441abe-c4da-4275-ba26-66f7dbd65dde</td>\n",
       "    </tr>\n",
       "    <tr>\n",
       "      <td>5</td>\n",
       "      <td>52790</td>\n",
       "      <td>a1323b68-c82c-429a-8e2c-65597e648c1a</td>\n",
       "    </tr>\n",
       "  </tbody>\n",
       "</table>\n",
       "</div>"
      ],
      "text/plain": [
       "     event_id                                user_id\n",
       "1      38114    e28351f5-4ccb-4549-8647-d43f2b15e7b8\n",
       "2      38114    4df2832a-1d63-4453-9659-43993fc35996\n",
       "3      51568    bb1c0bc8-1212-452b-97a0-439d4a2169e2\n",
       "4      51568    63441abe-c4da-4275-ba26-66f7dbd65dde\n",
       "5      52790    a1323b68-c82c-429a-8e2c-65597e648c1a"
      ]
     },
     "execution_count": 18,
     "metadata": {},
     "output_type": "execute_result"
    }
   ],
   "source": [
    "participants.set_axis(['event_id', 'user_id'], axis='columns', inplace=True)\n",
    "participants.head()"
   ]
  },
  {
   "cell_type": "markdown",
   "metadata": {},
   "source": [
    "#### Перевёл значения event_id в целочисленный тип:"
   ]
  },
  {
   "cell_type": "code",
   "execution_count": 19,
   "metadata": {},
   "outputs": [],
   "source": [
    "participants['event_id'] = participants['event_id'].astype('int')"
   ]
  },
  {
   "cell_type": "code",
   "execution_count": 20,
   "metadata": {},
   "outputs": [
    {
     "name": "stdout",
     "output_type": "stream",
     "text": [
      "<class 'pandas.core.frame.DataFrame'>\n",
      "Int64Index: 743 entries, 1 to 743\n",
      "Data columns (total 2 columns):\n",
      "event_id    743 non-null int32\n",
      "user_id     743 non-null object\n",
      "dtypes: int32(1), object(1)\n",
      "memory usage: 14.5+ KB\n"
     ]
    }
   ],
   "source": [
    "participants.info()"
   ]
  },
  {
   "cell_type": "code",
   "execution_count": 21,
   "metadata": {},
   "outputs": [
    {
     "name": "stdout",
     "output_type": "stream",
     "text": [
      "<class 'pandas.core.frame.DataFrame'>\n",
      "Int64Index: 743 entries, 1 to 743\n",
      "Data columns (total 2 columns):\n",
      "                  id                      743 non-null object\n",
      " role                                     743 non-null object\n",
      "dtypes: object(2)\n",
      "memory usage: 17.4+ KB\n"
     ]
    }
   ],
   "source": [
    "users = pd.read_csv('users.txt', sep='|')\n",
    "users = users.dropna()\n",
    "users.info()"
   ]
  },
  {
   "cell_type": "markdown",
   "metadata": {},
   "source": [
    "#### Переименовал столбцы в последней таблице:"
   ]
  },
  {
   "cell_type": "code",
   "execution_count": 22,
   "metadata": {},
   "outputs": [
    {
     "data": {
      "text/html": [
       "<div>\n",
       "<style scoped>\n",
       "    .dataframe tbody tr th:only-of-type {\n",
       "        vertical-align: middle;\n",
       "    }\n",
       "\n",
       "    .dataframe tbody tr th {\n",
       "        vertical-align: top;\n",
       "    }\n",
       "\n",
       "    .dataframe thead th {\n",
       "        text-align: right;\n",
       "    }\n",
       "</style>\n",
       "<table border=\"1\" class=\"dataframe\">\n",
       "  <thead>\n",
       "    <tr style=\"text-align: right;\">\n",
       "      <th></th>\n",
       "      <th>user_id</th>\n",
       "      <th>role</th>\n",
       "    </tr>\n",
       "  </thead>\n",
       "  <tbody>\n",
       "    <tr>\n",
       "      <td>1</td>\n",
       "      <td>e28351f5-4ccb-4549-8647-d43f2b15e7b8</td>\n",
       "      <td>pupil</td>\n",
       "    </tr>\n",
       "    <tr>\n",
       "      <td>2</td>\n",
       "      <td>4df2832a-1d63-4453-9659-43993fc35996</td>\n",
       "      <td>tutor</td>\n",
       "    </tr>\n",
       "    <tr>\n",
       "      <td>3</td>\n",
       "      <td>bb1c0bc8-1212-452b-97a0-439d4a2169e2</td>\n",
       "      <td>pupil</td>\n",
       "    </tr>\n",
       "    <tr>\n",
       "      <td>4</td>\n",
       "      <td>63441abe-c4da-4275-ba26-66f7dbd65dde</td>\n",
       "      <td>tutor</td>\n",
       "    </tr>\n",
       "    <tr>\n",
       "      <td>5</td>\n",
       "      <td>a1323b68-c82c-429a-8e2c-65597e648c1a</td>\n",
       "      <td>tutor</td>\n",
       "    </tr>\n",
       "  </tbody>\n",
       "</table>\n",
       "</div>"
      ],
      "text/plain": [
       "                                  user_id    role\n",
       "1   e28351f5-4ccb-4549-8647-d43f2b15e7b8    pupil\n",
       "2   4df2832a-1d63-4453-9659-43993fc35996    tutor\n",
       "3   bb1c0bc8-1212-452b-97a0-439d4a2169e2    pupil\n",
       "4   63441abe-c4da-4275-ba26-66f7dbd65dde    tutor\n",
       "5   a1323b68-c82c-429a-8e2c-65597e648c1a    tutor"
      ]
     },
     "execution_count": 22,
     "metadata": {},
     "output_type": "execute_result"
    }
   ],
   "source": [
    "users.set_axis(['user_id', 'role'], axis='columns', inplace=True)\n",
    "users.head()"
   ]
  },
  {
   "cell_type": "markdown",
   "metadata": {},
   "source": [
    "#### Сджойнил partcipants с users по user_id:"
   ]
  },
  {
   "cell_type": "code",
   "execution_count": 23,
   "metadata": {
    "scrolled": false
   },
   "outputs": [],
   "source": [
    "participants_users = participants.merge(users, on='user_id', how='left', left_index=True, right_index=True)"
   ]
  },
  {
   "cell_type": "code",
   "execution_count": 24,
   "metadata": {
    "scrolled": true
   },
   "outputs": [
    {
     "data": {
      "text/html": [
       "<div>\n",
       "<style scoped>\n",
       "    .dataframe tbody tr th:only-of-type {\n",
       "        vertical-align: middle;\n",
       "    }\n",
       "\n",
       "    .dataframe tbody tr th {\n",
       "        vertical-align: top;\n",
       "    }\n",
       "\n",
       "    .dataframe thead th {\n",
       "        text-align: right;\n",
       "    }\n",
       "</style>\n",
       "<table border=\"1\" class=\"dataframe\">\n",
       "  <thead>\n",
       "    <tr style=\"text-align: right;\">\n",
       "      <th></th>\n",
       "      <th>event_id</th>\n",
       "      <th>user_id</th>\n",
       "      <th>role</th>\n",
       "    </tr>\n",
       "  </thead>\n",
       "  <tbody>\n",
       "    <tr>\n",
       "      <td>1</td>\n",
       "      <td>38114</td>\n",
       "      <td>e28351f5-4ccb-4549-8647-d43f2b15e7b8</td>\n",
       "      <td>pupil</td>\n",
       "    </tr>\n",
       "    <tr>\n",
       "      <td>2</td>\n",
       "      <td>38114</td>\n",
       "      <td>4df2832a-1d63-4453-9659-43993fc35996</td>\n",
       "      <td>tutor</td>\n",
       "    </tr>\n",
       "    <tr>\n",
       "      <td>3</td>\n",
       "      <td>51568</td>\n",
       "      <td>bb1c0bc8-1212-452b-97a0-439d4a2169e2</td>\n",
       "      <td>pupil</td>\n",
       "    </tr>\n",
       "    <tr>\n",
       "      <td>4</td>\n",
       "      <td>51568</td>\n",
       "      <td>63441abe-c4da-4275-ba26-66f7dbd65dde</td>\n",
       "      <td>tutor</td>\n",
       "    </tr>\n",
       "    <tr>\n",
       "      <td>5</td>\n",
       "      <td>52790</td>\n",
       "      <td>a1323b68-c82c-429a-8e2c-65597e648c1a</td>\n",
       "      <td>tutor</td>\n",
       "    </tr>\n",
       "  </tbody>\n",
       "</table>\n",
       "</div>"
      ],
      "text/plain": [
       "   event_id                                user_id    role\n",
       "1     38114   e28351f5-4ccb-4549-8647-d43f2b15e7b8   pupil\n",
       "2     38114   4df2832a-1d63-4453-9659-43993fc35996   tutor\n",
       "3     51568   bb1c0bc8-1212-452b-97a0-439d4a2169e2   pupil\n",
       "4     51568   63441abe-c4da-4275-ba26-66f7dbd65dde   tutor\n",
       "5     52790   a1323b68-c82c-429a-8e2c-65597e648c1a   tutor"
      ]
     },
     "execution_count": 24,
     "metadata": {},
     "output_type": "execute_result"
    }
   ],
   "source": [
    "participants_users.head()"
   ]
  },
  {
   "cell_type": "markdown",
   "metadata": {},
   "source": [
    "#### Выбрал в полученной новой таблице только учителей:"
   ]
  },
  {
   "cell_type": "code",
   "execution_count": 25,
   "metadata": {},
   "outputs": [
    {
     "data": {
      "text/html": [
       "<div>\n",
       "<style scoped>\n",
       "    .dataframe tbody tr th:only-of-type {\n",
       "        vertical-align: middle;\n",
       "    }\n",
       "\n",
       "    .dataframe tbody tr th {\n",
       "        vertical-align: top;\n",
       "    }\n",
       "\n",
       "    .dataframe thead th {\n",
       "        text-align: right;\n",
       "    }\n",
       "</style>\n",
       "<table border=\"1\" class=\"dataframe\">\n",
       "  <thead>\n",
       "    <tr style=\"text-align: right;\">\n",
       "      <th></th>\n",
       "      <th>event_id</th>\n",
       "      <th>user_id</th>\n",
       "      <th>role</th>\n",
       "    </tr>\n",
       "  </thead>\n",
       "  <tbody>\n",
       "    <tr>\n",
       "      <td>2</td>\n",
       "      <td>38114</td>\n",
       "      <td>4df2832a-1d63-4453-9659-43993fc35996</td>\n",
       "      <td>tutor</td>\n",
       "    </tr>\n",
       "    <tr>\n",
       "      <td>4</td>\n",
       "      <td>51568</td>\n",
       "      <td>63441abe-c4da-4275-ba26-66f7dbd65dde</td>\n",
       "      <td>tutor</td>\n",
       "    </tr>\n",
       "    <tr>\n",
       "      <td>5</td>\n",
       "      <td>52790</td>\n",
       "      <td>a1323b68-c82c-429a-8e2c-65597e648c1a</td>\n",
       "      <td>tutor</td>\n",
       "    </tr>\n",
       "    <tr>\n",
       "      <td>8</td>\n",
       "      <td>51341</td>\n",
       "      <td>30a19496-bdaf-461c-abbc-2709ae520201</td>\n",
       "      <td>tutor</td>\n",
       "    </tr>\n",
       "    <tr>\n",
       "      <td>9</td>\n",
       "      <td>55048</td>\n",
       "      <td>43efce48-94b2-4412-857f-223d45969008</td>\n",
       "      <td>tutor</td>\n",
       "    </tr>\n",
       "  </tbody>\n",
       "</table>\n",
       "</div>"
      ],
      "text/plain": [
       "   event_id                                user_id    role\n",
       "2     38114   4df2832a-1d63-4453-9659-43993fc35996   tutor\n",
       "4     51568   63441abe-c4da-4275-ba26-66f7dbd65dde   tutor\n",
       "5     52790   a1323b68-c82c-429a-8e2c-65597e648c1a   tutor\n",
       "8     51341   30a19496-bdaf-461c-abbc-2709ae520201   tutor\n",
       "9     55048   43efce48-94b2-4412-857f-223d45969008   tutor"
      ]
     },
     "execution_count": 25,
     "metadata": {},
     "output_type": "execute_result"
    }
   ],
   "source": [
    "participants_tutors = participants_users[participants_users['role'] == ' tutor']\n",
    "participants_tutors.head()"
   ]
  },
  {
   "cell_type": "markdown",
   "metadata": {},
   "source": [
    "#### Сделал таблицу для анализа, уроков, средней оценки и учителей:"
   ]
  },
  {
   "cell_type": "code",
   "execution_count": 26,
   "metadata": {
    "scrolled": false
   },
   "outputs": [
    {
     "data": {
      "text/html": [
       "<div>\n",
       "<style scoped>\n",
       "    .dataframe tbody tr th:only-of-type {\n",
       "        vertical-align: middle;\n",
       "    }\n",
       "\n",
       "    .dataframe tbody tr th {\n",
       "        vertical-align: top;\n",
       "    }\n",
       "\n",
       "    .dataframe thead th {\n",
       "        text-align: right;\n",
       "    }\n",
       "</style>\n",
       "<table border=\"1\" class=\"dataframe\">\n",
       "  <thead>\n",
       "    <tr style=\"text-align: right;\">\n",
       "      <th></th>\n",
       "      <th>lesson_id</th>\n",
       "      <th>event_id</th>\n",
       "      <th>subject</th>\n",
       "      <th>scheduled_time</th>\n",
       "      <th>moscow_time</th>\n",
       "      <th>tech_quality</th>\n",
       "      <th>user_id</th>\n",
       "      <th>role</th>\n",
       "    </tr>\n",
       "  </thead>\n",
       "  <tbody>\n",
       "    <tr>\n",
       "      <td>0</td>\n",
       "      <td>00fc6685-f53a-49bb-b960-5e0042fd3852</td>\n",
       "      <td>51341</td>\n",
       "      <td>phys</td>\n",
       "      <td>2020-01-17 12:00:00</td>\n",
       "      <td>2020-01-17 15:00:00</td>\n",
       "      <td>5.0</td>\n",
       "      <td>30a19496-bdaf-461c-abbc-2709ae520201</td>\n",
       "      <td>tutor</td>\n",
       "    </tr>\n",
       "    <tr>\n",
       "      <td>1</td>\n",
       "      <td>4cadf623-82e6-422f-a342-acf978302fb2</td>\n",
       "      <td>55048</td>\n",
       "      <td>phys</td>\n",
       "      <td>2020-01-19 14:00:00</td>\n",
       "      <td>2020-01-19 17:00:00</td>\n",
       "      <td>5.0</td>\n",
       "      <td>43efce48-94b2-4412-857f-223d45969008</td>\n",
       "      <td>tutor</td>\n",
       "    </tr>\n",
       "    <tr>\n",
       "      <td>2</td>\n",
       "      <td>e597a79a-3f68-4d15-bc77-c7000bcf8e52</td>\n",
       "      <td>53026</td>\n",
       "      <td>phys</td>\n",
       "      <td>2020-01-19 15:00:00</td>\n",
       "      <td>2020-01-19 18:00:00</td>\n",
       "      <td>5.0</td>\n",
       "      <td>43efce48-94b2-4412-857f-223d45969008</td>\n",
       "      <td>tutor</td>\n",
       "    </tr>\n",
       "    <tr>\n",
       "      <td>3</td>\n",
       "      <td>ea6f0bf3-bcfc-4555-9b16-cc2cfe722e17</td>\n",
       "      <td>51645</td>\n",
       "      <td>phys</td>\n",
       "      <td>2020-01-19 14:00:00</td>\n",
       "      <td>2020-01-19 17:00:00</td>\n",
       "      <td>5.0</td>\n",
       "      <td>8fe03f08-8581-430c-a590-9888ab36deb3</td>\n",
       "      <td>tutor</td>\n",
       "    </tr>\n",
       "    <tr>\n",
       "      <td>4</td>\n",
       "      <td>ea6f0bf3-bcfc-4555-9b16-cc2cfe722e17</td>\n",
       "      <td>51645</td>\n",
       "      <td>phys</td>\n",
       "      <td>2020-01-19 14:00:00</td>\n",
       "      <td>2020-01-19 17:00:00</td>\n",
       "      <td>5.0</td>\n",
       "      <td>8fe03f08-8581-430c-a590-9888ab36deb3</td>\n",
       "      <td>tutor</td>\n",
       "    </tr>\n",
       "  </tbody>\n",
       "</table>\n",
       "</div>"
      ],
      "text/plain": [
       "                                lesson_id  event_id    subject  \\\n",
       "0   00fc6685-f53a-49bb-b960-5e0042fd3852      51341   phys       \n",
       "1   4cadf623-82e6-422f-a342-acf978302fb2      55048   phys       \n",
       "2   e597a79a-3f68-4d15-bc77-c7000bcf8e52      53026   phys       \n",
       "3   ea6f0bf3-bcfc-4555-9b16-cc2cfe722e17      51645   phys       \n",
       "4   ea6f0bf3-bcfc-4555-9b16-cc2cfe722e17      51645   phys       \n",
       "\n",
       "       scheduled_time         moscow_time  tech_quality  \\\n",
       "0 2020-01-17 12:00:00 2020-01-17 15:00:00           5.0   \n",
       "1 2020-01-19 14:00:00 2020-01-19 17:00:00           5.0   \n",
       "2 2020-01-19 15:00:00 2020-01-19 18:00:00           5.0   \n",
       "3 2020-01-19 14:00:00 2020-01-19 17:00:00           5.0   \n",
       "4 2020-01-19 14:00:00 2020-01-19 17:00:00           5.0   \n",
       "\n",
       "                                 user_id    role  \n",
       "0   30a19496-bdaf-461c-abbc-2709ae520201   tutor  \n",
       "1   43efce48-94b2-4412-857f-223d45969008   tutor  \n",
       "2   43efce48-94b2-4412-857f-223d45969008   tutor  \n",
       "3   8fe03f08-8581-430c-a590-9888ab36deb3   tutor  \n",
       "4   8fe03f08-8581-430c-a590-9888ab36deb3   tutor  "
      ]
     },
     "execution_count": 26,
     "metadata": {},
     "output_type": "execute_result"
    }
   ],
   "source": [
    "sub_total_data = lessons_quality.merge(participants_tutors, how='inner', on='event_id')\n",
    "sub_total_data.head()"
   ]
  },
  {
   "cell_type": "markdown",
   "metadata": {},
   "source": [
    "#### Добавил новый столбец - с округленной до дня даты урока:"
   ]
  },
  {
   "cell_type": "code",
   "execution_count": 27,
   "metadata": {},
   "outputs": [
    {
     "data": {
      "text/html": [
       "<div>\n",
       "<style scoped>\n",
       "    .dataframe tbody tr th:only-of-type {\n",
       "        vertical-align: middle;\n",
       "    }\n",
       "\n",
       "    .dataframe tbody tr th {\n",
       "        vertical-align: top;\n",
       "    }\n",
       "\n",
       "    .dataframe thead th {\n",
       "        text-align: right;\n",
       "    }\n",
       "</style>\n",
       "<table border=\"1\" class=\"dataframe\">\n",
       "  <thead>\n",
       "    <tr style=\"text-align: right;\">\n",
       "      <th></th>\n",
       "      <th>lesson_id</th>\n",
       "      <th>event_id</th>\n",
       "      <th>subject</th>\n",
       "      <th>scheduled_time</th>\n",
       "      <th>moscow_time</th>\n",
       "      <th>tech_quality</th>\n",
       "      <th>user_id</th>\n",
       "      <th>role</th>\n",
       "      <th>moscow_time_date</th>\n",
       "    </tr>\n",
       "  </thead>\n",
       "  <tbody>\n",
       "    <tr>\n",
       "      <td>0</td>\n",
       "      <td>00fc6685-f53a-49bb-b960-5e0042fd3852</td>\n",
       "      <td>51341</td>\n",
       "      <td>phys</td>\n",
       "      <td>2020-01-17 12:00:00</td>\n",
       "      <td>2020-01-17 15:00:00</td>\n",
       "      <td>5.0</td>\n",
       "      <td>30a19496-bdaf-461c-abbc-2709ae520201</td>\n",
       "      <td>tutor</td>\n",
       "      <td>2020-01-17</td>\n",
       "    </tr>\n",
       "    <tr>\n",
       "      <td>1</td>\n",
       "      <td>4cadf623-82e6-422f-a342-acf978302fb2</td>\n",
       "      <td>55048</td>\n",
       "      <td>phys</td>\n",
       "      <td>2020-01-19 14:00:00</td>\n",
       "      <td>2020-01-19 17:00:00</td>\n",
       "      <td>5.0</td>\n",
       "      <td>43efce48-94b2-4412-857f-223d45969008</td>\n",
       "      <td>tutor</td>\n",
       "      <td>2020-01-19</td>\n",
       "    </tr>\n",
       "    <tr>\n",
       "      <td>2</td>\n",
       "      <td>e597a79a-3f68-4d15-bc77-c7000bcf8e52</td>\n",
       "      <td>53026</td>\n",
       "      <td>phys</td>\n",
       "      <td>2020-01-19 15:00:00</td>\n",
       "      <td>2020-01-19 18:00:00</td>\n",
       "      <td>5.0</td>\n",
       "      <td>43efce48-94b2-4412-857f-223d45969008</td>\n",
       "      <td>tutor</td>\n",
       "      <td>2020-01-19</td>\n",
       "    </tr>\n",
       "    <tr>\n",
       "      <td>3</td>\n",
       "      <td>ea6f0bf3-bcfc-4555-9b16-cc2cfe722e17</td>\n",
       "      <td>51645</td>\n",
       "      <td>phys</td>\n",
       "      <td>2020-01-19 14:00:00</td>\n",
       "      <td>2020-01-19 17:00:00</td>\n",
       "      <td>5.0</td>\n",
       "      <td>8fe03f08-8581-430c-a590-9888ab36deb3</td>\n",
       "      <td>tutor</td>\n",
       "      <td>2020-01-19</td>\n",
       "    </tr>\n",
       "    <tr>\n",
       "      <td>4</td>\n",
       "      <td>ea6f0bf3-bcfc-4555-9b16-cc2cfe722e17</td>\n",
       "      <td>51645</td>\n",
       "      <td>phys</td>\n",
       "      <td>2020-01-19 14:00:00</td>\n",
       "      <td>2020-01-19 17:00:00</td>\n",
       "      <td>5.0</td>\n",
       "      <td>8fe03f08-8581-430c-a590-9888ab36deb3</td>\n",
       "      <td>tutor</td>\n",
       "      <td>2020-01-19</td>\n",
       "    </tr>\n",
       "  </tbody>\n",
       "</table>\n",
       "</div>"
      ],
      "text/plain": [
       "                                lesson_id  event_id    subject  \\\n",
       "0   00fc6685-f53a-49bb-b960-5e0042fd3852      51341   phys       \n",
       "1   4cadf623-82e6-422f-a342-acf978302fb2      55048   phys       \n",
       "2   e597a79a-3f68-4d15-bc77-c7000bcf8e52      53026   phys       \n",
       "3   ea6f0bf3-bcfc-4555-9b16-cc2cfe722e17      51645   phys       \n",
       "4   ea6f0bf3-bcfc-4555-9b16-cc2cfe722e17      51645   phys       \n",
       "\n",
       "       scheduled_time         moscow_time  tech_quality  \\\n",
       "0 2020-01-17 12:00:00 2020-01-17 15:00:00           5.0   \n",
       "1 2020-01-19 14:00:00 2020-01-19 17:00:00           5.0   \n",
       "2 2020-01-19 15:00:00 2020-01-19 18:00:00           5.0   \n",
       "3 2020-01-19 14:00:00 2020-01-19 17:00:00           5.0   \n",
       "4 2020-01-19 14:00:00 2020-01-19 17:00:00           5.0   \n",
       "\n",
       "                                 user_id    role moscow_time_date  \n",
       "0   30a19496-bdaf-461c-abbc-2709ae520201   tutor       2020-01-17  \n",
       "1   43efce48-94b2-4412-857f-223d45969008   tutor       2020-01-19  \n",
       "2   43efce48-94b2-4412-857f-223d45969008   tutor       2020-01-19  \n",
       "3   8fe03f08-8581-430c-a590-9888ab36deb3   tutor       2020-01-19  \n",
       "4   8fe03f08-8581-430c-a590-9888ab36deb3   tutor       2020-01-19  "
      ]
     },
     "execution_count": 27,
     "metadata": {},
     "output_type": "execute_result"
    }
   ],
   "source": [
    "sub_total_data['moscow_time_date'] = sub_total_data['moscow_time'].dt.floor('1D')\n",
    "sub_total_data.head()"
   ]
  },
  {
   "cell_type": "markdown",
   "metadata": {},
   "source": [
    "#### Сгруппировал данные по датам и по учителям (физики), с учётом полученных ими средних оценок:"
   ]
  },
  {
   "cell_type": "code",
   "execution_count": 28,
   "metadata": {},
   "outputs": [],
   "source": [
    "sub_total_pivot = sub_total_data.pivot_table(index=['moscow_time_date', 'user_id'], values='tech_quality')"
   ]
  },
  {
   "cell_type": "code",
   "execution_count": 29,
   "metadata": {
    "scrolled": false
   },
   "outputs": [
    {
     "data": {
      "text/html": [
       "<div>\n",
       "<style scoped>\n",
       "    .dataframe tbody tr th:only-of-type {\n",
       "        vertical-align: middle;\n",
       "    }\n",
       "\n",
       "    .dataframe tbody tr th {\n",
       "        vertical-align: top;\n",
       "    }\n",
       "\n",
       "    .dataframe thead th {\n",
       "        text-align: right;\n",
       "    }\n",
       "</style>\n",
       "<table border=\"1\" class=\"dataframe\">\n",
       "  <thead>\n",
       "    <tr style=\"text-align: right;\">\n",
       "      <th></th>\n",
       "      <th></th>\n",
       "      <th>tech_quality</th>\n",
       "    </tr>\n",
       "    <tr>\n",
       "      <th>moscow_time_date</th>\n",
       "      <th>user_id</th>\n",
       "      <th></th>\n",
       "    </tr>\n",
       "  </thead>\n",
       "  <tbody>\n",
       "    <tr>\n",
       "      <td rowspan=\"5\" valign=\"top\">2020-01-11</td>\n",
       "      <td>20ee67a0-1c94-4828-9a09-49c16b65f4b5</td>\n",
       "      <td>5.000000</td>\n",
       "    </tr>\n",
       "    <tr>\n",
       "      <td>2fa2ab62-f1b0-4036-872f-bcfd9a8686ff</td>\n",
       "      <td>5.000000</td>\n",
       "    </tr>\n",
       "    <tr>\n",
       "      <td>30a19496-bdaf-461c-abbc-2709ae520201</td>\n",
       "      <td>5.000000</td>\n",
       "    </tr>\n",
       "    <tr>\n",
       "      <td>43efce48-94b2-4412-857f-223d45969008</td>\n",
       "      <td>5.000000</td>\n",
       "    </tr>\n",
       "    <tr>\n",
       "      <td>603b8641-c6f6-4d89-ac89-88e50d45aa0d</td>\n",
       "      <td>4.900000</td>\n",
       "    </tr>\n",
       "    <tr>\n",
       "      <td>...</td>\n",
       "      <td>...</td>\n",
       "      <td>...</td>\n",
       "    </tr>\n",
       "    <tr>\n",
       "      <td rowspan=\"5\" valign=\"top\">2020-01-20</td>\n",
       "      <td>30a19496-bdaf-461c-abbc-2709ae520201</td>\n",
       "      <td>4.666667</td>\n",
       "    </tr>\n",
       "    <tr>\n",
       "      <td>43efce48-94b2-4412-857f-223d45969008</td>\n",
       "      <td>4.500000</td>\n",
       "    </tr>\n",
       "    <tr>\n",
       "      <td>696c838e-c054-4e9f-a51a-50bf5660f364</td>\n",
       "      <td>5.000000</td>\n",
       "    </tr>\n",
       "    <tr>\n",
       "      <td>b37ccae8-fc31-4ad8-8f55-ca855b23fbf6</td>\n",
       "      <td>5.000000</td>\n",
       "    </tr>\n",
       "    <tr>\n",
       "      <td>be676776-8366-4c71-8a35-d58014806eb5</td>\n",
       "      <td>5.000000</td>\n",
       "    </tr>\n",
       "  </tbody>\n",
       "</table>\n",
       "<p>94 rows × 1 columns</p>\n",
       "</div>"
      ],
      "text/plain": [
       "                                                        tech_quality\n",
       "moscow_time_date user_id                                            \n",
       "2020-01-11        20ee67a0-1c94-4828-9a09-49c16b65f4b5      5.000000\n",
       "                  2fa2ab62-f1b0-4036-872f-bcfd9a8686ff      5.000000\n",
       "                  30a19496-bdaf-461c-abbc-2709ae520201      5.000000\n",
       "                  43efce48-94b2-4412-857f-223d45969008      5.000000\n",
       "                  603b8641-c6f6-4d89-ac89-88e50d45aa0d      4.900000\n",
       "...                                                              ...\n",
       "2020-01-20        30a19496-bdaf-461c-abbc-2709ae520201      4.666667\n",
       "                  43efce48-94b2-4412-857f-223d45969008      4.500000\n",
       "                  696c838e-c054-4e9f-a51a-50bf5660f364      5.000000\n",
       "                  b37ccae8-fc31-4ad8-8f55-ca855b23fbf6      5.000000\n",
       "                  be676776-8366-4c71-8a35-d58014806eb5      5.000000\n",
       "\n",
       "[94 rows x 1 columns]"
      ]
     },
     "execution_count": 29,
     "metadata": {},
     "output_type": "execute_result"
    }
   ],
   "source": [
    "sub_total_pivot"
   ]
  },
  {
   "cell_type": "markdown",
   "metadata": {},
   "source": [
    "#### Нашёл минимальные средние оценки, полученные в каждую из дат:"
   ]
  },
  {
   "cell_type": "code",
   "execution_count": 30,
   "metadata": {
    "scrolled": true
   },
   "outputs": [
    {
     "data": {
      "text/html": [
       "<div>\n",
       "<style scoped>\n",
       "    .dataframe tbody tr th:only-of-type {\n",
       "        vertical-align: middle;\n",
       "    }\n",
       "\n",
       "    .dataframe tbody tr th {\n",
       "        vertical-align: top;\n",
       "    }\n",
       "\n",
       "    .dataframe thead th {\n",
       "        text-align: right;\n",
       "    }\n",
       "</style>\n",
       "<table border=\"1\" class=\"dataframe\">\n",
       "  <thead>\n",
       "    <tr style=\"text-align: right;\">\n",
       "      <th></th>\n",
       "      <th>tech_quality</th>\n",
       "    </tr>\n",
       "    <tr>\n",
       "      <th>moscow_time_date</th>\n",
       "      <th></th>\n",
       "    </tr>\n",
       "  </thead>\n",
       "  <tbody>\n",
       "    <tr>\n",
       "      <td>2020-01-11</td>\n",
       "      <td>3.0</td>\n",
       "    </tr>\n",
       "    <tr>\n",
       "      <td>2020-01-12</td>\n",
       "      <td>4.9</td>\n",
       "    </tr>\n",
       "    <tr>\n",
       "      <td>2020-01-13</td>\n",
       "      <td>5.0</td>\n",
       "    </tr>\n",
       "    <tr>\n",
       "      <td>2020-01-14</td>\n",
       "      <td>4.0</td>\n",
       "    </tr>\n",
       "    <tr>\n",
       "      <td>2020-01-15</td>\n",
       "      <td>5.0</td>\n",
       "    </tr>\n",
       "    <tr>\n",
       "      <td>2020-01-16</td>\n",
       "      <td>4.0</td>\n",
       "    </tr>\n",
       "    <tr>\n",
       "      <td>2020-01-17</td>\n",
       "      <td>4.5</td>\n",
       "    </tr>\n",
       "    <tr>\n",
       "      <td>2020-01-18</td>\n",
       "      <td>2.0</td>\n",
       "    </tr>\n",
       "    <tr>\n",
       "      <td>2020-01-19</td>\n",
       "      <td>4.5</td>\n",
       "    </tr>\n",
       "    <tr>\n",
       "      <td>2020-01-20</td>\n",
       "      <td>4.5</td>\n",
       "    </tr>\n",
       "  </tbody>\n",
       "</table>\n",
       "</div>"
      ],
      "text/plain": [
       "                  tech_quality\n",
       "moscow_time_date              \n",
       "2020-01-11                 3.0\n",
       "2020-01-12                 4.9\n",
       "2020-01-13                 5.0\n",
       "2020-01-14                 4.0\n",
       "2020-01-15                 5.0\n",
       "2020-01-16                 4.0\n",
       "2020-01-17                 4.5\n",
       "2020-01-18                 2.0\n",
       "2020-01-19                 4.5\n",
       "2020-01-20                 4.5"
      ]
     },
     "execution_count": 30,
     "metadata": {},
     "output_type": "execute_result"
    }
   ],
   "source": [
    "sub_total = sub_total_pivot.groupby('moscow_time_date').min()\n",
    "sub_total"
   ]
  },
  {
   "cell_type": "markdown",
   "metadata": {},
   "source": [
    "#### Перевёл значения мин. средних оценок и дат в списки:"
   ]
  },
  {
   "cell_type": "code",
   "execution_count": 31,
   "metadata": {},
   "outputs": [
    {
     "name": "stdout",
     "output_type": "stream",
     "text": [
      "[3.0, 4.9, 5.0, 4.0, 5.0, 4.0, 4.5, 2.0, 4.5, 4.5]\n"
     ]
    }
   ],
   "source": [
    "min_quality_list = sub_total['tech_quality'].tolist()\n",
    "print(min_quality_list)"
   ]
  },
  {
   "cell_type": "code",
   "execution_count": 32,
   "metadata": {},
   "outputs": [],
   "source": [
    "dates_df = sub_total.reset_index()\n",
    "dates_list = dates_df['moscow_time_date'].tolist()"
   ]
  },
  {
   "cell_type": "markdown",
   "metadata": {},
   "source": [
    "#### Сбросил индексы в датафрейме, чтобы было легче его \"разделить\" на значения:"
   ]
  },
  {
   "cell_type": "code",
   "execution_count": 33,
   "metadata": {
    "scrolled": false
   },
   "outputs": [
    {
     "data": {
      "text/html": [
       "<div>\n",
       "<style scoped>\n",
       "    .dataframe tbody tr th:only-of-type {\n",
       "        vertical-align: middle;\n",
       "    }\n",
       "\n",
       "    .dataframe tbody tr th {\n",
       "        vertical-align: top;\n",
       "    }\n",
       "\n",
       "    .dataframe thead th {\n",
       "        text-align: right;\n",
       "    }\n",
       "</style>\n",
       "<table border=\"1\" class=\"dataframe\">\n",
       "  <thead>\n",
       "    <tr style=\"text-align: right;\">\n",
       "      <th></th>\n",
       "      <th>moscow_time_date</th>\n",
       "      <th>user_id</th>\n",
       "      <th>tech_quality</th>\n",
       "    </tr>\n",
       "  </thead>\n",
       "  <tbody>\n",
       "    <tr>\n",
       "      <td>0</td>\n",
       "      <td>2020-01-11</td>\n",
       "      <td>20ee67a0-1c94-4828-9a09-49c16b65f4b5</td>\n",
       "      <td>5.000000</td>\n",
       "    </tr>\n",
       "    <tr>\n",
       "      <td>1</td>\n",
       "      <td>2020-01-11</td>\n",
       "      <td>2fa2ab62-f1b0-4036-872f-bcfd9a8686ff</td>\n",
       "      <td>5.000000</td>\n",
       "    </tr>\n",
       "    <tr>\n",
       "      <td>2</td>\n",
       "      <td>2020-01-11</td>\n",
       "      <td>30a19496-bdaf-461c-abbc-2709ae520201</td>\n",
       "      <td>5.000000</td>\n",
       "    </tr>\n",
       "    <tr>\n",
       "      <td>3</td>\n",
       "      <td>2020-01-11</td>\n",
       "      <td>43efce48-94b2-4412-857f-223d45969008</td>\n",
       "      <td>5.000000</td>\n",
       "    </tr>\n",
       "    <tr>\n",
       "      <td>4</td>\n",
       "      <td>2020-01-11</td>\n",
       "      <td>603b8641-c6f6-4d89-ac89-88e50d45aa0d</td>\n",
       "      <td>4.900000</td>\n",
       "    </tr>\n",
       "    <tr>\n",
       "      <td>...</td>\n",
       "      <td>...</td>\n",
       "      <td>...</td>\n",
       "      <td>...</td>\n",
       "    </tr>\n",
       "    <tr>\n",
       "      <td>89</td>\n",
       "      <td>2020-01-20</td>\n",
       "      <td>30a19496-bdaf-461c-abbc-2709ae520201</td>\n",
       "      <td>4.666667</td>\n",
       "    </tr>\n",
       "    <tr>\n",
       "      <td>90</td>\n",
       "      <td>2020-01-20</td>\n",
       "      <td>43efce48-94b2-4412-857f-223d45969008</td>\n",
       "      <td>4.500000</td>\n",
       "    </tr>\n",
       "    <tr>\n",
       "      <td>91</td>\n",
       "      <td>2020-01-20</td>\n",
       "      <td>696c838e-c054-4e9f-a51a-50bf5660f364</td>\n",
       "      <td>5.000000</td>\n",
       "    </tr>\n",
       "    <tr>\n",
       "      <td>92</td>\n",
       "      <td>2020-01-20</td>\n",
       "      <td>b37ccae8-fc31-4ad8-8f55-ca855b23fbf6</td>\n",
       "      <td>5.000000</td>\n",
       "    </tr>\n",
       "    <tr>\n",
       "      <td>93</td>\n",
       "      <td>2020-01-20</td>\n",
       "      <td>be676776-8366-4c71-8a35-d58014806eb5</td>\n",
       "      <td>5.000000</td>\n",
       "    </tr>\n",
       "  </tbody>\n",
       "</table>\n",
       "<p>94 rows × 3 columns</p>\n",
       "</div>"
      ],
      "text/plain": [
       "   moscow_time_date                                user_id  tech_quality\n",
       "0        2020-01-11   20ee67a0-1c94-4828-9a09-49c16b65f4b5      5.000000\n",
       "1        2020-01-11   2fa2ab62-f1b0-4036-872f-bcfd9a8686ff      5.000000\n",
       "2        2020-01-11   30a19496-bdaf-461c-abbc-2709ae520201      5.000000\n",
       "3        2020-01-11   43efce48-94b2-4412-857f-223d45969008      5.000000\n",
       "4        2020-01-11   603b8641-c6f6-4d89-ac89-88e50d45aa0d      4.900000\n",
       "..              ...                                    ...           ...\n",
       "89       2020-01-20   30a19496-bdaf-461c-abbc-2709ae520201      4.666667\n",
       "90       2020-01-20   43efce48-94b2-4412-857f-223d45969008      4.500000\n",
       "91       2020-01-20   696c838e-c054-4e9f-a51a-50bf5660f364      5.000000\n",
       "92       2020-01-20   b37ccae8-fc31-4ad8-8f55-ca855b23fbf6      5.000000\n",
       "93       2020-01-20   be676776-8366-4c71-8a35-d58014806eb5      5.000000\n",
       "\n",
       "[94 rows x 3 columns]"
      ]
     },
     "execution_count": 33,
     "metadata": {},
     "output_type": "execute_result"
    }
   ],
   "source": [
    "df = sub_total_pivot['tech_quality'].reset_index()\n",
    "df"
   ]
  },
  {
   "cell_type": "markdown",
   "metadata": {},
   "source": [
    "#### Создал финальный список, состоящий из значений: даты, учителя с мин. средней оценкой и самой оценкой. Создавал его в цикле, который для каждой даты добавлял юзера с мин. оценкой в финальный список."
   ]
  },
  {
   "cell_type": "code",
   "execution_count": 34,
   "metadata": {
    "scrolled": false
   },
   "outputs": [],
   "source": [
    "final_df_list = []\n",
    "for i in range(len(dates_list)):\n",
    "    dfx = df.loc[df['moscow_time_date'] == dates_list[i]]\n",
    "    df_final = dfx.loc[dfx['tech_quality'] == min_quality_list[i]].reset_index(drop=True)\n",
    "    df_final_list = df_final['user_id'].tolist()\n",
    "    final_df_list.append([dates_list[i], df_final_list[0], min_quality_list[i]])\n"
   ]
  },
  {
   "cell_type": "markdown",
   "metadata": {},
   "source": [
    "#### Перевёл финальный список в датафрейм - для вывода ответа:"
   ]
  },
  {
   "cell_type": "code",
   "execution_count": 35,
   "metadata": {},
   "outputs": [
    {
     "data": {
      "text/html": [
       "<div>\n",
       "<style scoped>\n",
       "    .dataframe tbody tr th:only-of-type {\n",
       "        vertical-align: middle;\n",
       "    }\n",
       "\n",
       "    .dataframe tbody tr th {\n",
       "        vertical-align: top;\n",
       "    }\n",
       "\n",
       "    .dataframe thead th {\n",
       "        text-align: right;\n",
       "    }\n",
       "</style>\n",
       "<table border=\"1\" class=\"dataframe\">\n",
       "  <thead>\n",
       "    <tr style=\"text-align: right;\">\n",
       "      <th></th>\n",
       "      <th>moscow_date</th>\n",
       "      <th>user_id</th>\n",
       "      <th>quality</th>\n",
       "    </tr>\n",
       "  </thead>\n",
       "  <tbody>\n",
       "    <tr>\n",
       "      <td>0</td>\n",
       "      <td>2020-01-11</td>\n",
       "      <td>f2f25148-97cb-422d-a5b5-b0dabbca0523</td>\n",
       "      <td>3.0</td>\n",
       "    </tr>\n",
       "    <tr>\n",
       "      <td>1</td>\n",
       "      <td>2020-01-12</td>\n",
       "      <td>696c838e-c054-4e9f-a51a-50bf5660f364</td>\n",
       "      <td>4.9</td>\n",
       "    </tr>\n",
       "    <tr>\n",
       "      <td>2</td>\n",
       "      <td>2020-01-13</td>\n",
       "      <td>2fa2ab62-f1b0-4036-872f-bcfd9a8686ff</td>\n",
       "      <td>5.0</td>\n",
       "    </tr>\n",
       "    <tr>\n",
       "      <td>3</td>\n",
       "      <td>2020-01-14</td>\n",
       "      <td>c6718d0e-976c-4d6c-b0e0-32c770776567</td>\n",
       "      <td>4.0</td>\n",
       "    </tr>\n",
       "    <tr>\n",
       "      <td>4</td>\n",
       "      <td>2020-01-15</td>\n",
       "      <td>2dc9cc26-03a4-4375-a547-6ef6f28b41a4</td>\n",
       "      <td>5.0</td>\n",
       "    </tr>\n",
       "    <tr>\n",
       "      <td>5</td>\n",
       "      <td>2020-01-16</td>\n",
       "      <td>c8ff5fea-4d0a-4a87-81e4-df6c2082aa0c</td>\n",
       "      <td>4.0</td>\n",
       "    </tr>\n",
       "    <tr>\n",
       "      <td>6</td>\n",
       "      <td>2020-01-17</td>\n",
       "      <td>89ecabe9-7768-4cc3-a126-afa0fba1052a</td>\n",
       "      <td>4.5</td>\n",
       "    </tr>\n",
       "    <tr>\n",
       "      <td>7</td>\n",
       "      <td>2020-01-18</td>\n",
       "      <td>9d9029a2-c81a-49f7-84ee-7696eecd2f99</td>\n",
       "      <td>2.0</td>\n",
       "    </tr>\n",
       "    <tr>\n",
       "      <td>8</td>\n",
       "      <td>2020-01-19</td>\n",
       "      <td>b323a494-40c0-4522-8d63-4d4d591a1def</td>\n",
       "      <td>4.5</td>\n",
       "    </tr>\n",
       "    <tr>\n",
       "      <td>9</td>\n",
       "      <td>2020-01-20</td>\n",
       "      <td>43efce48-94b2-4412-857f-223d45969008</td>\n",
       "      <td>4.5</td>\n",
       "    </tr>\n",
       "  </tbody>\n",
       "</table>\n",
       "</div>"
      ],
      "text/plain": [
       "  moscow_date                                user_id  quality\n",
       "0  2020-01-11   f2f25148-97cb-422d-a5b5-b0dabbca0523      3.0\n",
       "1  2020-01-12   696c838e-c054-4e9f-a51a-50bf5660f364      4.9\n",
       "2  2020-01-13   2fa2ab62-f1b0-4036-872f-bcfd9a8686ff      5.0\n",
       "3  2020-01-14   c6718d0e-976c-4d6c-b0e0-32c770776567      4.0\n",
       "4  2020-01-15   2dc9cc26-03a4-4375-a547-6ef6f28b41a4      5.0\n",
       "5  2020-01-16   c8ff5fea-4d0a-4a87-81e4-df6c2082aa0c      4.0\n",
       "6  2020-01-17   89ecabe9-7768-4cc3-a126-afa0fba1052a      4.5\n",
       "7  2020-01-18   9d9029a2-c81a-49f7-84ee-7696eecd2f99      2.0\n",
       "8  2020-01-19   b323a494-40c0-4522-8d63-4d4d591a1def      4.5\n",
       "9  2020-01-20   43efce48-94b2-4412-857f-223d45969008      4.5"
      ]
     },
     "execution_count": 35,
     "metadata": {},
     "output_type": "execute_result"
    }
   ],
   "source": [
    "final_columns = ['moscow_date', 'user_id', 'quality']\n",
    "final_df = pd.DataFrame(data=final_df_list, columns=final_columns)\n",
    "final_df"
   ]
  },
  {
   "cell_type": "code",
   "execution_count": null,
   "metadata": {},
   "outputs": [],
   "source": []
  }
 ],
 "metadata": {
  "kernelspec": {
   "display_name": "Python 3",
   "language": "python",
   "name": "python3"
  },
  "language_info": {
   "codemirror_mode": {
    "name": "ipython",
    "version": 3
   },
   "file_extension": ".py",
   "mimetype": "text/x-python",
   "name": "python",
   "nbconvert_exporter": "python",
   "pygments_lexer": "ipython3",
   "version": "3.7.4"
  }
 },
 "nbformat": 4,
 "nbformat_minor": 2
}
