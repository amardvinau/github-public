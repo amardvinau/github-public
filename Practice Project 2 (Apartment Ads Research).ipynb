{
 "cells": [
  {
   "cell_type": "markdown",
   "metadata": {},
   "source": [
    "# Исследовательский анализ объявлений о продаже квартир\n",
    "\n",
    "В распоряжении следующие данные: архив объявлений о продаже квартир в Санкт-Петербурге и соседних населённых пунктах за несколько лет.\n",
    "Необходимо определить рыночную стоимость объектов недвижимости. Задача — установить параметры, которые впоследствии позволят построить автоматизированную систему, отслеживающую аномалии и мошенническую деятельность. \n",
    "\n",
    "По каждой квартире на продажу доступны два вида данных. Первые вписаны пользователем, вторые — получены автоматически на основе картографических данных. Например, расстояние до центра, аэропорта, ближайшего парка и водоёма. "
   ]
  },
  {
   "cell_type": "markdown",
   "metadata": {},
   "source": [
    "#### Шаг 1. Открыть файл с данными и изучить общую информацию. "
   ]
  },
  {
   "cell_type": "code",
   "execution_count": 1,
   "metadata": {},
   "outputs": [],
   "source": [
    "import pandas as pd\n",
    "data = pd.read_csv('/datasets/real_estate_data.csv')"
   ]
  },
  {
   "cell_type": "code",
   "execution_count": 2,
   "metadata": {
    "scrolled": true
   },
   "outputs": [
    {
     "name": "stdout",
     "output_type": "stream",
     "text": [
      "<class 'pandas.core.frame.DataFrame'>\n",
      "RangeIndex: 23699 entries, 0 to 23698\n",
      "Data columns (total 1 columns):\n",
      "total_images\tlast_price\ttotal_area\tfirst_day_exposition\trooms\tceiling_height\tfloors_total\tliving_area\tfloor\tis_apartment\tstudio\topen_plan\tkitchen_area\tbalcony\tlocality_name\tairports_nearest\tcityCenters_nearest\tparks_around3000\tparks_nearest\tponds_around3000\tponds_nearest\tdays_exposition    23699 non-null object\n",
      "dtypes: object(1)\n",
      "memory usage: 185.3+ KB\n",
      "None\n",
      "  total_images\\tlast_price\\ttotal_area\\tfirst_day_exposition\\trooms\\tceiling_height\\tfloors_total\\tliving_area\\tfloor\\tis_apartment\\tstudio\\topen_plan\\tkitchen_area\\tbalcony\\tlocality_name\\tairports_nearest\\tcityCenters_nearest\\tparks_around3000\\tparks_nearest\\tponds_around3000\\tponds_nearest\\tdays_exposition\n",
      "0  20\\t13000000.0\\t108.0\\t2019-03-07T00:00:00\\t3\\...                                                                                                                                                                                                                                                                  \n",
      "1  7\\t3350000.0\\t40.4\\t2018-12-04T00:00:00\\t1\\t\\t...                                                                                                                                                                                                                                                                  \n",
      "2  10\\t5196000.0\\t56.0\\t2015-08-20T00:00:00\\t2\\t\\...                                                                                                                                                                                                                                                                  \n",
      "3  0\\t64900000.0\\t159.0\\t2015-07-24T00:00:00\\t3\\t...                                                                                                                                                                                                                                                                  \n",
      "4  2\\t10000000.0\\t100.0\\t2018-06-19T00:00:00\\t2\\t...                                                                                                                                                                                                                                                                  \n"
     ]
    }
   ],
   "source": [
    "print(data.info())\n",
    "print(data.head())"
   ]
  },
  {
   "cell_type": "markdown",
   "metadata": {},
   "source": [
    "Загрузив данные в датафрейм и вызвав функции info() и head() обнаружил, что разделите в данном файле csv оказались не запятые (','), а табуляция '\\t'. Поэтому придётся переписать значение переменной data, прочитав файл еще раз, но с указанием разделителя (sep='\\t')."
   ]
  },
  {
   "cell_type": "code",
   "execution_count": 3,
   "metadata": {},
   "outputs": [],
   "source": [
    "data = pd.read_csv('/datasets/real_estate_data.csv', sep='\\t')"
   ]
  },
  {
   "cell_type": "code",
   "execution_count": 4,
   "metadata": {},
   "outputs": [
    {
     "name": "stdout",
     "output_type": "stream",
     "text": [
      "<class 'pandas.core.frame.DataFrame'>\n",
      "RangeIndex: 23699 entries, 0 to 23698\n",
      "Data columns (total 22 columns):\n",
      "total_images            23699 non-null int64\n",
      "last_price              23699 non-null float64\n",
      "total_area              23699 non-null float64\n",
      "first_day_exposition    23699 non-null object\n",
      "rooms                   23699 non-null int64\n",
      "ceiling_height          14504 non-null float64\n",
      "floors_total            23613 non-null float64\n",
      "living_area             21796 non-null float64\n",
      "floor                   23699 non-null int64\n",
      "is_apartment            2775 non-null object\n",
      "studio                  23699 non-null bool\n",
      "open_plan               23699 non-null bool\n",
      "kitchen_area            21421 non-null float64\n",
      "balcony                 12180 non-null float64\n",
      "locality_name           23650 non-null object\n",
      "airports_nearest        18157 non-null float64\n",
      "cityCenters_nearest     18180 non-null float64\n",
      "parks_around3000        18181 non-null float64\n",
      "parks_nearest           8079 non-null float64\n",
      "ponds_around3000        18181 non-null float64\n",
      "ponds_nearest           9110 non-null float64\n",
      "days_exposition         20518 non-null float64\n",
      "dtypes: bool(2), float64(14), int64(3), object(3)\n",
      "memory usage: 3.7+ MB\n",
      "None\n",
      "   total_images  last_price  total_area first_day_exposition  rooms  \\\n",
      "0            20  13000000.0       108.0  2019-03-07T00:00:00      3   \n",
      "1             7   3350000.0        40.4  2018-12-04T00:00:00      1   \n",
      "2            10   5196000.0        56.0  2015-08-20T00:00:00      2   \n",
      "3             0  64900000.0       159.0  2015-07-24T00:00:00      3   \n",
      "4             2  10000000.0       100.0  2018-06-19T00:00:00      2   \n",
      "\n",
      "   ceiling_height  floors_total  living_area  floor is_apartment  ...  \\\n",
      "0            2.70          16.0         51.0      8          NaN  ...   \n",
      "1             NaN          11.0         18.6      1          NaN  ...   \n",
      "2             NaN           5.0         34.3      4          NaN  ...   \n",
      "3             NaN          14.0          NaN      9          NaN  ...   \n",
      "4            3.03          14.0         32.0     13          NaN  ...   \n",
      "\n",
      "   kitchen_area  balcony    locality_name  airports_nearest  \\\n",
      "0          25.0      NaN  Санкт-Петербург           18863.0   \n",
      "1          11.0      2.0   посёлок Шушары           12817.0   \n",
      "2           8.3      0.0  Санкт-Петербург           21741.0   \n",
      "3           NaN      0.0  Санкт-Петербург           28098.0   \n",
      "4          41.0      NaN  Санкт-Петербург           31856.0   \n",
      "\n",
      "  cityCenters_nearest  parks_around3000  parks_nearest  ponds_around3000  \\\n",
      "0             16028.0               1.0          482.0               2.0   \n",
      "1             18603.0               0.0            NaN               0.0   \n",
      "2             13933.0               1.0           90.0               2.0   \n",
      "3              6800.0               2.0           84.0               3.0   \n",
      "4              8098.0               2.0          112.0               1.0   \n",
      "\n",
      "   ponds_nearest  days_exposition  \n",
      "0          755.0              NaN  \n",
      "1            NaN             81.0  \n",
      "2          574.0            558.0  \n",
      "3          234.0            424.0  \n",
      "4           48.0            121.0  \n",
      "\n",
      "[5 rows x 22 columns]\n"
     ]
    }
   ],
   "source": [
    "print(data.info())\n",
    "print(data.head())"
   ]
  },
  {
   "cell_type": "markdown",
   "metadata": {},
   "source": [
    "Теперь данные выгружены в приемлемом виде датафрейма."
   ]
  },
  {
   "cell_type": "markdown",
   "metadata": {},
   "source": [
    "#### Вывод:\n",
    "В датафрейме 22 столбца и 23699 строк. Во многих столбцах присутствуют пропущенные (NaN) значения. Многие столбцы представлены типом данных float, при этом, логичнее было бы перевести их в целочисленные значения (int). Датафрейм требует операций по предобработке."
   ]
  },
  {
   "cell_type": "markdown",
   "metadata": {},
   "source": [
    "#### Шаг 2. Предобработка данных"
   ]
  },
  {
   "cell_type": "markdown",
   "metadata": {},
   "source": [
    "Начну с поиском и заполнением пропущенных значений. Первый столбец, который исследую - is_apartment (с булевым типом данных)"
   ]
  },
  {
   "cell_type": "code",
   "execution_count": 5,
   "metadata": {},
   "outputs": [
    {
     "name": "stdout",
     "output_type": "stream",
     "text": [
      "[nan False True]\n"
     ]
    }
   ],
   "source": [
    "print(data['is_apartment'].unique())"
   ]
  },
  {
   "cell_type": "markdown",
   "metadata": {},
   "source": [
    "Предположу, что если информация о том, что выставленный лот - апартаменты, отсутствует, - значит, это не апартаменты. Соответственно, заменю пропущенные значения в этом столбце на False."
   ]
  },
  {
   "cell_type": "code",
   "execution_count": 6,
   "metadata": {},
   "outputs": [],
   "source": [
    "data['is_apartment'] = data['is_apartment'].fillna(False)"
   ]
  },
  {
   "cell_type": "code",
   "execution_count": 7,
   "metadata": {},
   "outputs": [
    {
     "name": "stdout",
     "output_type": "stream",
     "text": [
      "[False  True]\n"
     ]
    }
   ],
   "source": [
    "# Проверю, сработала ли замена:\n",
    "print(data['is_apartment'].unique())"
   ]
  },
  {
   "cell_type": "markdown",
   "metadata": {},
   "source": [
    "Теперь займусь столбцом balcony, в котором указана информация о количестве балконов в квартире. Проверю уникальные значения"
   ]
  },
  {
   "cell_type": "code",
   "execution_count": 8,
   "metadata": {
    "scrolled": true
   },
   "outputs": [
    {
     "name": "stdout",
     "output_type": "stream",
     "text": [
      "1.0    4195\n",
      "0.0    3758\n",
      "2.0    3659\n",
      "5.0     304\n",
      "4.0     183\n",
      "3.0      81\n",
      "Name: balcony, dtype: int64\n"
     ]
    }
   ],
   "source": [
    "print(data['balcony'].value_counts())"
   ]
  },
  {
   "cell_type": "code",
   "execution_count": 9,
   "metadata": {},
   "outputs": [
    {
     "name": "stdout",
     "output_type": "stream",
     "text": [
      "[nan  2.  0.  1.  5.  4.  3.]\n"
     ]
    }
   ],
   "source": [
    "print(data['balcony'].unique())"
   ]
  },
  {
   "cell_type": "markdown",
   "metadata": {},
   "source": [
    "Также предположу, что если информация о количестве балконов отсутствует, то, скорее всего, балконов в этих квартирах просто нет. Заменю пропущенные значения на 0."
   ]
  },
  {
   "cell_type": "code",
   "execution_count": 10,
   "metadata": {},
   "outputs": [],
   "source": [
    "data['balcony'] = data['balcony'].fillna(0)"
   ]
  },
  {
   "cell_type": "code",
   "execution_count": 11,
   "metadata": {},
   "outputs": [
    {
     "name": "stdout",
     "output_type": "stream",
     "text": [
      "[0. 2. 1. 5. 4. 3.]\n"
     ]
    }
   ],
   "source": [
    "print(data['balcony'].unique())"
   ]
  },
  {
   "cell_type": "code",
   "execution_count": 12,
   "metadata": {
    "scrolled": false
   },
   "outputs": [
    {
     "name": "stdout",
     "output_type": "stream",
     "text": [
      "<class 'pandas.core.frame.DataFrame'>\n",
      "RangeIndex: 23699 entries, 0 to 23698\n",
      "Data columns (total 22 columns):\n",
      "total_images            23699 non-null int64\n",
      "last_price              23699 non-null float64\n",
      "total_area              23699 non-null float64\n",
      "first_day_exposition    23699 non-null object\n",
      "rooms                   23699 non-null int64\n",
      "ceiling_height          14504 non-null float64\n",
      "floors_total            23613 non-null float64\n",
      "living_area             21796 non-null float64\n",
      "floor                   23699 non-null int64\n",
      "is_apartment            23699 non-null bool\n",
      "studio                  23699 non-null bool\n",
      "open_plan               23699 non-null bool\n",
      "kitchen_area            21421 non-null float64\n",
      "balcony                 23699 non-null float64\n",
      "locality_name           23650 non-null object\n",
      "airports_nearest        18157 non-null float64\n",
      "cityCenters_nearest     18180 non-null float64\n",
      "parks_around3000        18181 non-null float64\n",
      "parks_nearest           8079 non-null float64\n",
      "ponds_around3000        18181 non-null float64\n",
      "ponds_nearest           9110 non-null float64\n",
      "days_exposition         20518 non-null float64\n",
      "dtypes: bool(3), float64(14), int64(3), object(2)\n",
      "memory usage: 3.5+ MB\n",
      "None\n"
     ]
    }
   ],
   "source": [
    "print(data.info())"
   ]
  },
  {
   "cell_type": "markdown",
   "metadata": {},
   "source": [
    "Теперь ситуация посложнее - с пропущенными значениями в столбцах \"жилая площадь\" (living_area) и \"площадь кухни\" (kitchen_area). Для того, чтобы понять, чем можно заменить пропуски, сделаю сводную таблицу этих значений (заодно и по общей площади квартиры, total_area) по параметру \"количество комнат\" (rooms). Посчитаю сразу средние и медианные значения 3-х параметров."
   ]
  },
  {
   "cell_type": "code",
   "execution_count": 13,
   "metadata": {
    "scrolled": false
   },
   "outputs": [
    {
     "data": {
      "text/html": [
       "<div>\n",
       "<style scoped>\n",
       "    .dataframe tbody tr th:only-of-type {\n",
       "        vertical-align: middle;\n",
       "    }\n",
       "\n",
       "    .dataframe tbody tr th {\n",
       "        vertical-align: top;\n",
       "    }\n",
       "\n",
       "    .dataframe thead tr th {\n",
       "        text-align: left;\n",
       "    }\n",
       "\n",
       "    .dataframe thead tr:last-of-type th {\n",
       "        text-align: right;\n",
       "    }\n",
       "</style>\n",
       "<table border=\"1\" class=\"dataframe\">\n",
       "  <thead>\n",
       "    <tr>\n",
       "      <th></th>\n",
       "      <th colspan=\"3\" halign=\"left\">mean</th>\n",
       "      <th colspan=\"3\" halign=\"left\">median</th>\n",
       "    </tr>\n",
       "    <tr>\n",
       "      <th></th>\n",
       "      <th>kitchen_area</th>\n",
       "      <th>living_area</th>\n",
       "      <th>total_area</th>\n",
       "      <th>kitchen_area</th>\n",
       "      <th>living_area</th>\n",
       "      <th>total_area</th>\n",
       "    </tr>\n",
       "    <tr>\n",
       "      <th>rooms</th>\n",
       "      <th></th>\n",
       "      <th></th>\n",
       "      <th></th>\n",
       "      <th></th>\n",
       "      <th></th>\n",
       "      <th></th>\n",
       "    </tr>\n",
       "  </thead>\n",
       "  <tbody>\n",
       "    <tr>\n",
       "      <td>0</td>\n",
       "      <td>NaN</td>\n",
       "      <td>18.865246</td>\n",
       "      <td>29.279746</td>\n",
       "      <td>NaN</td>\n",
       "      <td>18.000</td>\n",
       "      <td>26.05</td>\n",
       "    </tr>\n",
       "    <tr>\n",
       "      <td>1</td>\n",
       "      <td>9.550118</td>\n",
       "      <td>17.893552</td>\n",
       "      <td>37.644669</td>\n",
       "      <td>9.04</td>\n",
       "      <td>17.600</td>\n",
       "      <td>36.56</td>\n",
       "    </tr>\n",
       "    <tr>\n",
       "      <td>2</td>\n",
       "      <td>9.979584</td>\n",
       "      <td>31.736849</td>\n",
       "      <td>55.855089</td>\n",
       "      <td>8.80</td>\n",
       "      <td>30.500</td>\n",
       "      <td>53.00</td>\n",
       "    </tr>\n",
       "    <tr>\n",
       "      <td>3</td>\n",
       "      <td>11.308580</td>\n",
       "      <td>47.387941</td>\n",
       "      <td>77.764580</td>\n",
       "      <td>9.50</td>\n",
       "      <td>45.000</td>\n",
       "      <td>73.00</td>\n",
       "    </tr>\n",
       "    <tr>\n",
       "      <td>4</td>\n",
       "      <td>13.664033</td>\n",
       "      <td>66.983223</td>\n",
       "      <td>107.610763</td>\n",
       "      <td>11.10</td>\n",
       "      <td>63.600</td>\n",
       "      <td>99.30</td>\n",
       "    </tr>\n",
       "    <tr>\n",
       "      <td>5</td>\n",
       "      <td>18.367649</td>\n",
       "      <td>100.009247</td>\n",
       "      <td>161.474816</td>\n",
       "      <td>15.10</td>\n",
       "      <td>91.785</td>\n",
       "      <td>146.45</td>\n",
       "    </tr>\n",
       "    <tr>\n",
       "      <td>6</td>\n",
       "      <td>21.048763</td>\n",
       "      <td>130.983636</td>\n",
       "      <td>201.537619</td>\n",
       "      <td>19.50</td>\n",
       "      <td>123.900</td>\n",
       "      <td>184.30</td>\n",
       "    </tr>\n",
       "    <tr>\n",
       "      <td>7</td>\n",
       "      <td>21.998077</td>\n",
       "      <td>163.564151</td>\n",
       "      <td>265.325424</td>\n",
       "      <td>20.00</td>\n",
       "      <td>145.000</td>\n",
       "      <td>214.00</td>\n",
       "    </tr>\n",
       "    <tr>\n",
       "      <td>8</td>\n",
       "      <td>24.866667</td>\n",
       "      <td>168.683333</td>\n",
       "      <td>259.233333</td>\n",
       "      <td>25.00</td>\n",
       "      <td>161.000</td>\n",
       "      <td>235.70</td>\n",
       "    </tr>\n",
       "    <tr>\n",
       "      <td>9</td>\n",
       "      <td>25.071429</td>\n",
       "      <td>190.257143</td>\n",
       "      <td>305.975000</td>\n",
       "      <td>14.30</td>\n",
       "      <td>179.200</td>\n",
       "      <td>300.95</td>\n",
       "    </tr>\n",
       "    <tr>\n",
       "      <td>10</td>\n",
       "      <td>22.866667</td>\n",
       "      <td>165.566667</td>\n",
       "      <td>259.566667</td>\n",
       "      <td>19.80</td>\n",
       "      <td>161.400</td>\n",
       "      <td>272.60</td>\n",
       "    </tr>\n",
       "    <tr>\n",
       "      <td>11</td>\n",
       "      <td>12.600000</td>\n",
       "      <td>133.900000</td>\n",
       "      <td>188.900000</td>\n",
       "      <td>12.60</td>\n",
       "      <td>133.900</td>\n",
       "      <td>188.90</td>\n",
       "    </tr>\n",
       "    <tr>\n",
       "      <td>12</td>\n",
       "      <td>112.000000</td>\n",
       "      <td>409.700000</td>\n",
       "      <td>900.000000</td>\n",
       "      <td>112.00</td>\n",
       "      <td>409.700</td>\n",
       "      <td>900.00</td>\n",
       "    </tr>\n",
       "    <tr>\n",
       "      <td>14</td>\n",
       "      <td>21.250000</td>\n",
       "      <td>195.150000</td>\n",
       "      <td>304.200000</td>\n",
       "      <td>21.25</td>\n",
       "      <td>195.150</td>\n",
       "      <td>304.20</td>\n",
       "    </tr>\n",
       "    <tr>\n",
       "      <td>15</td>\n",
       "      <td>100.000000</td>\n",
       "      <td>409.000000</td>\n",
       "      <td>590.000000</td>\n",
       "      <td>100.00</td>\n",
       "      <td>409.000</td>\n",
       "      <td>590.00</td>\n",
       "    </tr>\n",
       "    <tr>\n",
       "      <td>16</td>\n",
       "      <td>13.000000</td>\n",
       "      <td>180.000000</td>\n",
       "      <td>270.000000</td>\n",
       "      <td>13.00</td>\n",
       "      <td>180.000</td>\n",
       "      <td>270.00</td>\n",
       "    </tr>\n",
       "    <tr>\n",
       "      <td>19</td>\n",
       "      <td>27.600000</td>\n",
       "      <td>264.500000</td>\n",
       "      <td>374.600000</td>\n",
       "      <td>27.60</td>\n",
       "      <td>264.500</td>\n",
       "      <td>374.60</td>\n",
       "    </tr>\n",
       "  </tbody>\n",
       "</table>\n",
       "</div>"
      ],
      "text/plain": [
       "              mean                               median                       \n",
       "      kitchen_area living_area  total_area kitchen_area living_area total_area\n",
       "rooms                                                                         \n",
       "0              NaN   18.865246   29.279746          NaN      18.000      26.05\n",
       "1         9.550118   17.893552   37.644669         9.04      17.600      36.56\n",
       "2         9.979584   31.736849   55.855089         8.80      30.500      53.00\n",
       "3        11.308580   47.387941   77.764580         9.50      45.000      73.00\n",
       "4        13.664033   66.983223  107.610763        11.10      63.600      99.30\n",
       "5        18.367649  100.009247  161.474816        15.10      91.785     146.45\n",
       "6        21.048763  130.983636  201.537619        19.50     123.900     184.30\n",
       "7        21.998077  163.564151  265.325424        20.00     145.000     214.00\n",
       "8        24.866667  168.683333  259.233333        25.00     161.000     235.70\n",
       "9        25.071429  190.257143  305.975000        14.30     179.200     300.95\n",
       "10       22.866667  165.566667  259.566667        19.80     161.400     272.60\n",
       "11       12.600000  133.900000  188.900000        12.60     133.900     188.90\n",
       "12      112.000000  409.700000  900.000000       112.00     409.700     900.00\n",
       "14       21.250000  195.150000  304.200000        21.25     195.150     304.20\n",
       "15      100.000000  409.000000  590.000000       100.00     409.000     590.00\n",
       "16       13.000000  180.000000  270.000000        13.00     180.000     270.00\n",
       "19       27.600000  264.500000  374.600000        27.60     264.500     374.60"
      ]
     },
     "execution_count": 13,
     "metadata": {},
     "output_type": "execute_result"
    }
   ],
   "source": [
    "data.pivot_table(index='rooms', values = ['total_area', 'living_area', 'kitchen_area'], aggfunc=['mean', 'median'])"
   ]
  },
  {
   "cell_type": "markdown",
   "metadata": {},
   "source": [
    "Решил заменить пропущенные значения в living_area и kitchen_area медианными значениями, полученными для квартир в разрезе количества комнат. Для этого сначала создам новый датафрейм - better_data - чтобы рассчитать эти параметры без пропущенных строк."
   ]
  },
  {
   "cell_type": "code",
   "execution_count": 14,
   "metadata": {},
   "outputs": [],
   "source": [
    "better_data = data.copy()"
   ]
  },
  {
   "cell_type": "code",
   "execution_count": 15,
   "metadata": {
    "scrolled": false
   },
   "outputs": [],
   "source": [
    "better_data = better_data.dropna(subset=['kitchen_area', 'living_area'])"
   ]
  },
  {
   "cell_type": "code",
   "execution_count": 16,
   "metadata": {},
   "outputs": [
    {
     "name": "stdout",
     "output_type": "stream",
     "text": [
      "<class 'pandas.core.frame.DataFrame'>\n",
      "Int64Index: 20982 entries, 0 to 23698\n",
      "Data columns (total 22 columns):\n",
      "total_images            20982 non-null int64\n",
      "last_price              20982 non-null float64\n",
      "total_area              20982 non-null float64\n",
      "first_day_exposition    20982 non-null object\n",
      "rooms                   20982 non-null int64\n",
      "ceiling_height          13336 non-null float64\n",
      "floors_total            20943 non-null float64\n",
      "living_area             20982 non-null float64\n",
      "floor                   20982 non-null int64\n",
      "is_apartment            20982 non-null bool\n",
      "studio                  20982 non-null bool\n",
      "open_plan               20982 non-null bool\n",
      "kitchen_area            20982 non-null float64\n",
      "balcony                 20982 non-null float64\n",
      "locality_name           20943 non-null object\n",
      "airports_nearest        16308 non-null float64\n",
      "cityCenters_nearest     16329 non-null float64\n",
      "parks_around3000        16330 non-null float64\n",
      "parks_nearest           7266 non-null float64\n",
      "ponds_around3000        16330 non-null float64\n",
      "ponds_nearest           8100 non-null float64\n",
      "days_exposition         18091 non-null float64\n",
      "dtypes: bool(3), float64(14), int64(3), object(2)\n",
      "memory usage: 3.3+ MB\n",
      "None\n"
     ]
    }
   ],
   "source": [
    "print(better_data.info())"
   ]
  },
  {
   "cell_type": "markdown",
   "metadata": {},
   "source": [
    "Сделаю по датафрейму better_data аналогичную сводную таблицу. В него не будет уже включены квартиры-студии - что логично: ведь в студиях жилая площадь включает в себя и площадь кухни."
   ]
  },
  {
   "cell_type": "code",
   "execution_count": 17,
   "metadata": {
    "scrolled": false
   },
   "outputs": [
    {
     "data": {
      "text/html": [
       "<div>\n",
       "<style scoped>\n",
       "    .dataframe tbody tr th:only-of-type {\n",
       "        vertical-align: middle;\n",
       "    }\n",
       "\n",
       "    .dataframe tbody tr th {\n",
       "        vertical-align: top;\n",
       "    }\n",
       "\n",
       "    .dataframe thead tr th {\n",
       "        text-align: left;\n",
       "    }\n",
       "\n",
       "    .dataframe thead tr:last-of-type th {\n",
       "        text-align: right;\n",
       "    }\n",
       "</style>\n",
       "<table border=\"1\" class=\"dataframe\">\n",
       "  <thead>\n",
       "    <tr>\n",
       "      <th></th>\n",
       "      <th colspan=\"3\" halign=\"left\">mean</th>\n",
       "      <th colspan=\"3\" halign=\"left\">median</th>\n",
       "    </tr>\n",
       "    <tr>\n",
       "      <th></th>\n",
       "      <th>kitchen_area</th>\n",
       "      <th>living_area</th>\n",
       "      <th>total_area</th>\n",
       "      <th>kitchen_area</th>\n",
       "      <th>living_area</th>\n",
       "      <th>total_area</th>\n",
       "    </tr>\n",
       "    <tr>\n",
       "      <th>rooms</th>\n",
       "      <th></th>\n",
       "      <th></th>\n",
       "      <th></th>\n",
       "      <th></th>\n",
       "      <th></th>\n",
       "      <th></th>\n",
       "    </tr>\n",
       "  </thead>\n",
       "  <tbody>\n",
       "    <tr>\n",
       "      <td>1</td>\n",
       "      <td>9.518178</td>\n",
       "      <td>17.880307</td>\n",
       "      <td>37.733649</td>\n",
       "      <td>9.00</td>\n",
       "      <td>17.60</td>\n",
       "      <td>36.80</td>\n",
       "    </tr>\n",
       "    <tr>\n",
       "      <td>2</td>\n",
       "      <td>9.918594</td>\n",
       "      <td>31.704335</td>\n",
       "      <td>55.715265</td>\n",
       "      <td>8.70</td>\n",
       "      <td>30.50</td>\n",
       "      <td>53.00</td>\n",
       "    </tr>\n",
       "    <tr>\n",
       "      <td>3</td>\n",
       "      <td>11.250916</td>\n",
       "      <td>47.354498</td>\n",
       "      <td>77.388570</td>\n",
       "      <td>9.50</td>\n",
       "      <td>45.00</td>\n",
       "      <td>72.70</td>\n",
       "    </tr>\n",
       "    <tr>\n",
       "      <td>4</td>\n",
       "      <td>13.558296</td>\n",
       "      <td>66.820640</td>\n",
       "      <td>106.617062</td>\n",
       "      <td>11.00</td>\n",
       "      <td>63.50</td>\n",
       "      <td>98.90</td>\n",
       "    </tr>\n",
       "    <tr>\n",
       "      <td>5</td>\n",
       "      <td>18.381906</td>\n",
       "      <td>100.808993</td>\n",
       "      <td>161.236727</td>\n",
       "      <td>15.25</td>\n",
       "      <td>93.05</td>\n",
       "      <td>147.35</td>\n",
       "    </tr>\n",
       "    <tr>\n",
       "      <td>6</td>\n",
       "      <td>20.851354</td>\n",
       "      <td>130.998750</td>\n",
       "      <td>201.159896</td>\n",
       "      <td>19.30</td>\n",
       "      <td>123.75</td>\n",
       "      <td>182.85</td>\n",
       "    </tr>\n",
       "    <tr>\n",
       "      <td>7</td>\n",
       "      <td>21.252941</td>\n",
       "      <td>161.547059</td>\n",
       "      <td>253.772549</td>\n",
       "      <td>20.00</td>\n",
       "      <td>145.00</td>\n",
       "      <td>211.00</td>\n",
       "    </tr>\n",
       "    <tr>\n",
       "      <td>8</td>\n",
       "      <td>24.866667</td>\n",
       "      <td>162.466667</td>\n",
       "      <td>257.722222</td>\n",
       "      <td>25.00</td>\n",
       "      <td>160.00</td>\n",
       "      <td>235.00</td>\n",
       "    </tr>\n",
       "    <tr>\n",
       "      <td>9</td>\n",
       "      <td>25.071429</td>\n",
       "      <td>190.257143</td>\n",
       "      <td>316.114286</td>\n",
       "      <td>14.30</td>\n",
       "      <td>179.20</td>\n",
       "      <td>309.70</td>\n",
       "    </tr>\n",
       "    <tr>\n",
       "      <td>10</td>\n",
       "      <td>22.866667</td>\n",
       "      <td>165.566667</td>\n",
       "      <td>259.566667</td>\n",
       "      <td>19.80</td>\n",
       "      <td>161.40</td>\n",
       "      <td>272.60</td>\n",
       "    </tr>\n",
       "    <tr>\n",
       "      <td>11</td>\n",
       "      <td>12.600000</td>\n",
       "      <td>133.900000</td>\n",
       "      <td>188.900000</td>\n",
       "      <td>12.60</td>\n",
       "      <td>133.90</td>\n",
       "      <td>188.90</td>\n",
       "    </tr>\n",
       "    <tr>\n",
       "      <td>12</td>\n",
       "      <td>112.000000</td>\n",
       "      <td>409.700000</td>\n",
       "      <td>900.000000</td>\n",
       "      <td>112.00</td>\n",
       "      <td>409.70</td>\n",
       "      <td>900.00</td>\n",
       "    </tr>\n",
       "    <tr>\n",
       "      <td>14</td>\n",
       "      <td>21.250000</td>\n",
       "      <td>195.150000</td>\n",
       "      <td>304.200000</td>\n",
       "      <td>21.25</td>\n",
       "      <td>195.15</td>\n",
       "      <td>304.20</td>\n",
       "    </tr>\n",
       "    <tr>\n",
       "      <td>15</td>\n",
       "      <td>100.000000</td>\n",
       "      <td>409.000000</td>\n",
       "      <td>590.000000</td>\n",
       "      <td>100.00</td>\n",
       "      <td>409.00</td>\n",
       "      <td>590.00</td>\n",
       "    </tr>\n",
       "    <tr>\n",
       "      <td>16</td>\n",
       "      <td>13.000000</td>\n",
       "      <td>180.000000</td>\n",
       "      <td>270.000000</td>\n",
       "      <td>13.00</td>\n",
       "      <td>180.00</td>\n",
       "      <td>270.00</td>\n",
       "    </tr>\n",
       "    <tr>\n",
       "      <td>19</td>\n",
       "      <td>27.600000</td>\n",
       "      <td>264.500000</td>\n",
       "      <td>374.600000</td>\n",
       "      <td>27.60</td>\n",
       "      <td>264.50</td>\n",
       "      <td>374.60</td>\n",
       "    </tr>\n",
       "  </tbody>\n",
       "</table>\n",
       "</div>"
      ],
      "text/plain": [
       "              mean                               median                       \n",
       "      kitchen_area living_area  total_area kitchen_area living_area total_area\n",
       "rooms                                                                         \n",
       "1         9.518178   17.880307   37.733649         9.00       17.60      36.80\n",
       "2         9.918594   31.704335   55.715265         8.70       30.50      53.00\n",
       "3        11.250916   47.354498   77.388570         9.50       45.00      72.70\n",
       "4        13.558296   66.820640  106.617062        11.00       63.50      98.90\n",
       "5        18.381906  100.808993  161.236727        15.25       93.05     147.35\n",
       "6        20.851354  130.998750  201.159896        19.30      123.75     182.85\n",
       "7        21.252941  161.547059  253.772549        20.00      145.00     211.00\n",
       "8        24.866667  162.466667  257.722222        25.00      160.00     235.00\n",
       "9        25.071429  190.257143  316.114286        14.30      179.20     309.70\n",
       "10       22.866667  165.566667  259.566667        19.80      161.40     272.60\n",
       "11       12.600000  133.900000  188.900000        12.60      133.90     188.90\n",
       "12      112.000000  409.700000  900.000000       112.00      409.70     900.00\n",
       "14       21.250000  195.150000  304.200000        21.25      195.15     304.20\n",
       "15      100.000000  409.000000  590.000000       100.00      409.00     590.00\n",
       "16       13.000000  180.000000  270.000000        13.00      180.00     270.00\n",
       "19       27.600000  264.500000  374.600000        27.60      264.50     374.60"
      ]
     },
     "execution_count": 17,
     "metadata": {},
     "output_type": "execute_result"
    }
   ],
   "source": [
    "better_data_grouped = better_data.pivot_table(index='rooms', values = ['total_area', 'living_area', 'kitchen_area'], aggfunc=['mean', 'median'])\n",
    "better_data_grouped"
   ]
  },
  {
   "cell_type": "code",
   "execution_count": 18,
   "metadata": {
    "scrolled": true
   },
   "outputs": [
    {
     "name": "stdout",
     "output_type": "stream",
     "text": [
      "[1, 2, 3, 4, 5, 6, 7, 8, 9, 10, 11, 12, 14, 15, 16, 19]\n"
     ]
    }
   ],
   "source": [
    "# Сохраню значения количества комнат в список - он мне пригодится для циклов по заполнению пропусков:\n",
    "rooms_list = better_data_grouped.index.tolist()\n",
    "print(rooms_list)"
   ]
  },
  {
   "cell_type": "markdown",
   "metadata": {},
   "source": [
    "Теперь сохраню медианные значения жилой площади, в зависимости от количества комнат, в список living_area_list:"
   ]
  },
  {
   "cell_type": "code",
   "execution_count": 19,
   "metadata": {
    "scrolled": false
   },
   "outputs": [
    {
     "name": "stdout",
     "output_type": "stream",
     "text": [
      "[17.6, 30.5, 45.0, 63.5, 93.05000000000001, 123.75, 145.0, 160.0, 179.2, 161.4, 133.9, 409.7, 195.15, 409.0, 180.0, 264.5]\n"
     ]
    }
   ],
   "source": [
    "living_area_stat = better_data.pivot_table(index='rooms', values = ['total_area', 'living_area'], aggfunc='median')\n",
    "living_area_list = living_area_stat['living_area'].tolist()\n",
    "print(living_area_list)"
   ]
  },
  {
   "cell_type": "code",
   "execution_count": 20,
   "metadata": {},
   "outputs": [
    {
     "data": {
      "text/plain": [
       "1903"
      ]
     },
     "execution_count": 20,
     "metadata": {},
     "output_type": "execute_result"
    }
   ],
   "source": [
    "# Проверю текущее наличие пропущенных значений в living_area в изначальном датафрейме, до их замены:\n",
    "data['living_area'].isna().sum()"
   ]
  },
  {
   "cell_type": "markdown",
   "metadata": {},
   "source": [
    "Теперь заменю пропущенные значения теми, которые получил из датафрейма без пропусков (better_data) в разрезе по количеству комнат. А значение в студиях приму по умолчанию равное медианному, полученному из сводной таблицы по data."
   ]
  },
  {
   "cell_type": "code",
   "execution_count": 21,
   "metadata": {},
   "outputs": [],
   "source": [
    "data.loc[(data['living_area'].isna()) & (data['rooms'] == 0), 'living_area'] = 18.00\n",
    "for i in range(len(rooms_list)):\n",
    "    data.loc[(data['living_area'].isna()) & (data['rooms'] == rooms_list[i]), 'living_area'] = living_area_list[i]"
   ]
  },
  {
   "cell_type": "code",
   "execution_count": 22,
   "metadata": {},
   "outputs": [
    {
     "data": {
      "text/plain": [
       "0"
      ]
     },
     "execution_count": 22,
     "metadata": {},
     "output_type": "execute_result"
    }
   ],
   "source": [
    "# Проверю теперь наличие пропущенных значений:\n",
    "data['living_area'].isna().sum()"
   ]
  },
  {
   "cell_type": "markdown",
   "metadata": {},
   "source": [
    "Теперь проделаю аналогичные операции для заполнения пропущенных значений в столбце kitchen_area:"
   ]
  },
  {
   "cell_type": "code",
   "execution_count": 23,
   "metadata": {
    "scrolled": true
   },
   "outputs": [
    {
     "data": {
      "text/plain": [
       "2278"
      ]
     },
     "execution_count": 23,
     "metadata": {},
     "output_type": "execute_result"
    }
   ],
   "source": [
    "data['kitchen_area'].isna().sum()"
   ]
  },
  {
   "cell_type": "code",
   "execution_count": 24,
   "metadata": {},
   "outputs": [
    {
     "name": "stdout",
     "output_type": "stream",
     "text": [
      "[9.0, 8.7, 9.5, 11.0, 15.25, 19.3, 20.0, 25.0, 14.3, 19.8, 12.600000000000001, 112.0, 21.25, 100.0, 13.0, 27.6]\n"
     ]
    }
   ],
   "source": [
    "kitchen_area_stat = better_data.pivot_table(index='rooms', values = ['total_area', 'kitchen_area'], aggfunc='median')\n",
    "kitchen_area_list = kitchen_area_stat['kitchen_area'].tolist()\n",
    "print(kitchen_area_list)"
   ]
  },
  {
   "cell_type": "code",
   "execution_count": 25,
   "metadata": {},
   "outputs": [],
   "source": [
    "data.loc[(data['kitchen_area'].isna()) & (data['rooms'] == 0), 'kitchen_area'] = 0\n",
    "for i in range(len(rooms_list)):\n",
    "    data.loc[(data['kitchen_area'].isna()) & (data['rooms'] == rooms_list[i]), 'kitchen_area'] = kitchen_area_list[i]"
   ]
  },
  {
   "cell_type": "code",
   "execution_count": 26,
   "metadata": {},
   "outputs": [
    {
     "data": {
      "text/plain": [
       "0"
      ]
     },
     "execution_count": 26,
     "metadata": {},
     "output_type": "execute_result"
    }
   ],
   "source": [
    "data['kitchen_area'].isna().sum()"
   ]
  },
  {
   "cell_type": "code",
   "execution_count": 27,
   "metadata": {
    "scrolled": false
   },
   "outputs": [
    {
     "name": "stdout",
     "output_type": "stream",
     "text": [
      "<class 'pandas.core.frame.DataFrame'>\n",
      "RangeIndex: 23699 entries, 0 to 23698\n",
      "Data columns (total 22 columns):\n",
      "total_images            23699 non-null int64\n",
      "last_price              23699 non-null float64\n",
      "total_area              23699 non-null float64\n",
      "first_day_exposition    23699 non-null object\n",
      "rooms                   23699 non-null int64\n",
      "ceiling_height          14504 non-null float64\n",
      "floors_total            23613 non-null float64\n",
      "living_area             23699 non-null float64\n",
      "floor                   23699 non-null int64\n",
      "is_apartment            23699 non-null bool\n",
      "studio                  23699 non-null bool\n",
      "open_plan               23699 non-null bool\n",
      "kitchen_area            23699 non-null float64\n",
      "balcony                 23699 non-null float64\n",
      "locality_name           23650 non-null object\n",
      "airports_nearest        18157 non-null float64\n",
      "cityCenters_nearest     18180 non-null float64\n",
      "parks_around3000        18181 non-null float64\n",
      "parks_nearest           8079 non-null float64\n",
      "ponds_around3000        18181 non-null float64\n",
      "ponds_nearest           9110 non-null float64\n",
      "days_exposition         20518 non-null float64\n",
      "dtypes: bool(3), float64(14), int64(3), object(2)\n",
      "memory usage: 3.5+ MB\n",
      "None\n"
     ]
    }
   ],
   "source": [
    "print(data.info())"
   ]
  },
  {
   "cell_type": "markdown",
   "metadata": {},
   "source": [
    "Заполню пропущенные значения в столбцах \"количество парков в радиусе 3 км\" ('parks_around3000') и \"количество прудов в радиусе 3 км\" ('ponds_around3000'): предположу, что если информация о количестве прудов и парков не заполнена, то и парки и пруды в этом радиусе, скорее всего, отсутствуют. Заменю пропуски на 0."
   ]
  },
  {
   "cell_type": "code",
   "execution_count": 28,
   "metadata": {},
   "outputs": [],
   "source": [
    "data['parks_around3000'] = data['parks_around3000'].fillna(0)\n",
    "data['ponds_around3000'] = data['ponds_around3000'].fillna(0)"
   ]
  },
  {
   "cell_type": "markdown",
   "metadata": {},
   "source": [
    "##### Поменяю типы данных в столбцах:\n",
    "    - last_price - на целочисленные (нет смысла хранить их в float)\n",
    "    - balcony - на целочисленные (это логично)\n",
    "    - park_around3000 и ponds_around3000 - также на целочисленные (логично)\n",
    "    - first_day_exposition - на datetime, сразу поставив формат.\n",
    "Проверю, что получилось."
   ]
  },
  {
   "cell_type": "code",
   "execution_count": 29,
   "metadata": {
    "scrolled": false
   },
   "outputs": [
    {
     "name": "stdout",
     "output_type": "stream",
     "text": [
      "<class 'pandas.core.frame.DataFrame'>\n",
      "RangeIndex: 23699 entries, 0 to 23698\n",
      "Data columns (total 22 columns):\n",
      "total_images            23699 non-null int64\n",
      "last_price              23699 non-null int64\n",
      "total_area              23699 non-null float64\n",
      "first_day_exposition    23699 non-null datetime64[ns]\n",
      "rooms                   23699 non-null int64\n",
      "ceiling_height          14504 non-null float64\n",
      "floors_total            23613 non-null float64\n",
      "living_area             23699 non-null float64\n",
      "floor                   23699 non-null int64\n",
      "is_apartment            23699 non-null bool\n",
      "studio                  23699 non-null bool\n",
      "open_plan               23699 non-null bool\n",
      "kitchen_area            23699 non-null float64\n",
      "balcony                 23699 non-null int64\n",
      "locality_name           23650 non-null object\n",
      "airports_nearest        18157 non-null float64\n",
      "cityCenters_nearest     18180 non-null float64\n",
      "parks_around3000        23699 non-null int64\n",
      "parks_nearest           8079 non-null float64\n",
      "ponds_around3000        23699 non-null int64\n",
      "ponds_nearest           9110 non-null float64\n",
      "days_exposition         20518 non-null float64\n",
      "dtypes: bool(3), datetime64[ns](1), float64(10), int64(7), object(1)\n",
      "memory usage: 3.5+ MB\n",
      "None\n"
     ]
    }
   ],
   "source": [
    "data['last_price'] = data['last_price'].astype('int')\n",
    "data['balcony'] = data['balcony'].astype('int')\n",
    "\n",
    "try:\n",
    "    data['parks_around3000'] = data['parks_around3000'].astype('int')\n",
    "except ValueError:\n",
    "    pass\n",
    "\n",
    "try:\n",
    "    data['ponds_around3000'] = data['ponds_around3000'].astype('int')\n",
    "except ValueError:\n",
    "    pass\n",
    "\n",
    "data['first_day_exposition'] = pd.to_datetime(data['first_day_exposition'], format='%Y.%m.%dT%H:%M:%S')\n",
    "\n",
    "print(data.info())"
   ]
  },
  {
   "cell_type": "code",
   "execution_count": 30,
   "metadata": {},
   "outputs": [
    {
     "data": {
      "text/html": [
       "<div>\n",
       "<style scoped>\n",
       "    .dataframe tbody tr th:only-of-type {\n",
       "        vertical-align: middle;\n",
       "    }\n",
       "\n",
       "    .dataframe tbody tr th {\n",
       "        vertical-align: top;\n",
       "    }\n",
       "\n",
       "    .dataframe thead th {\n",
       "        text-align: right;\n",
       "    }\n",
       "</style>\n",
       "<table border=\"1\" class=\"dataframe\">\n",
       "  <thead>\n",
       "    <tr style=\"text-align: right;\">\n",
       "      <th></th>\n",
       "      <th>total_images</th>\n",
       "      <th>last_price</th>\n",
       "      <th>total_area</th>\n",
       "      <th>first_day_exposition</th>\n",
       "      <th>rooms</th>\n",
       "      <th>ceiling_height</th>\n",
       "      <th>floors_total</th>\n",
       "      <th>living_area</th>\n",
       "      <th>floor</th>\n",
       "      <th>is_apartment</th>\n",
       "      <th>...</th>\n",
       "      <th>kitchen_area</th>\n",
       "      <th>balcony</th>\n",
       "      <th>locality_name</th>\n",
       "      <th>airports_nearest</th>\n",
       "      <th>cityCenters_nearest</th>\n",
       "      <th>parks_around3000</th>\n",
       "      <th>parks_nearest</th>\n",
       "      <th>ponds_around3000</th>\n",
       "      <th>ponds_nearest</th>\n",
       "      <th>days_exposition</th>\n",
       "    </tr>\n",
       "  </thead>\n",
       "  <tbody>\n",
       "    <tr>\n",
       "      <td>0</td>\n",
       "      <td>20</td>\n",
       "      <td>13000000</td>\n",
       "      <td>108.0</td>\n",
       "      <td>2019-03-07</td>\n",
       "      <td>3</td>\n",
       "      <td>2.70</td>\n",
       "      <td>16.0</td>\n",
       "      <td>51.0</td>\n",
       "      <td>8</td>\n",
       "      <td>False</td>\n",
       "      <td>...</td>\n",
       "      <td>25.0</td>\n",
       "      <td>0</td>\n",
       "      <td>Санкт-Петербург</td>\n",
       "      <td>18863.0</td>\n",
       "      <td>16028.0</td>\n",
       "      <td>1</td>\n",
       "      <td>482.0</td>\n",
       "      <td>2</td>\n",
       "      <td>755.0</td>\n",
       "      <td>NaN</td>\n",
       "    </tr>\n",
       "    <tr>\n",
       "      <td>1</td>\n",
       "      <td>7</td>\n",
       "      <td>3350000</td>\n",
       "      <td>40.4</td>\n",
       "      <td>2018-12-04</td>\n",
       "      <td>1</td>\n",
       "      <td>NaN</td>\n",
       "      <td>11.0</td>\n",
       "      <td>18.6</td>\n",
       "      <td>1</td>\n",
       "      <td>False</td>\n",
       "      <td>...</td>\n",
       "      <td>11.0</td>\n",
       "      <td>2</td>\n",
       "      <td>посёлок Шушары</td>\n",
       "      <td>12817.0</td>\n",
       "      <td>18603.0</td>\n",
       "      <td>0</td>\n",
       "      <td>NaN</td>\n",
       "      <td>0</td>\n",
       "      <td>NaN</td>\n",
       "      <td>81.0</td>\n",
       "    </tr>\n",
       "    <tr>\n",
       "      <td>2</td>\n",
       "      <td>10</td>\n",
       "      <td>5196000</td>\n",
       "      <td>56.0</td>\n",
       "      <td>2015-08-20</td>\n",
       "      <td>2</td>\n",
       "      <td>NaN</td>\n",
       "      <td>5.0</td>\n",
       "      <td>34.3</td>\n",
       "      <td>4</td>\n",
       "      <td>False</td>\n",
       "      <td>...</td>\n",
       "      <td>8.3</td>\n",
       "      <td>0</td>\n",
       "      <td>Санкт-Петербург</td>\n",
       "      <td>21741.0</td>\n",
       "      <td>13933.0</td>\n",
       "      <td>1</td>\n",
       "      <td>90.0</td>\n",
       "      <td>2</td>\n",
       "      <td>574.0</td>\n",
       "      <td>558.0</td>\n",
       "    </tr>\n",
       "    <tr>\n",
       "      <td>3</td>\n",
       "      <td>0</td>\n",
       "      <td>64900000</td>\n",
       "      <td>159.0</td>\n",
       "      <td>2015-07-24</td>\n",
       "      <td>3</td>\n",
       "      <td>NaN</td>\n",
       "      <td>14.0</td>\n",
       "      <td>45.0</td>\n",
       "      <td>9</td>\n",
       "      <td>False</td>\n",
       "      <td>...</td>\n",
       "      <td>9.5</td>\n",
       "      <td>0</td>\n",
       "      <td>Санкт-Петербург</td>\n",
       "      <td>28098.0</td>\n",
       "      <td>6800.0</td>\n",
       "      <td>2</td>\n",
       "      <td>84.0</td>\n",
       "      <td>3</td>\n",
       "      <td>234.0</td>\n",
       "      <td>424.0</td>\n",
       "    </tr>\n",
       "    <tr>\n",
       "      <td>4</td>\n",
       "      <td>2</td>\n",
       "      <td>10000000</td>\n",
       "      <td>100.0</td>\n",
       "      <td>2018-06-19</td>\n",
       "      <td>2</td>\n",
       "      <td>3.03</td>\n",
       "      <td>14.0</td>\n",
       "      <td>32.0</td>\n",
       "      <td>13</td>\n",
       "      <td>False</td>\n",
       "      <td>...</td>\n",
       "      <td>41.0</td>\n",
       "      <td>0</td>\n",
       "      <td>Санкт-Петербург</td>\n",
       "      <td>31856.0</td>\n",
       "      <td>8098.0</td>\n",
       "      <td>2</td>\n",
       "      <td>112.0</td>\n",
       "      <td>1</td>\n",
       "      <td>48.0</td>\n",
       "      <td>121.0</td>\n",
       "    </tr>\n",
       "  </tbody>\n",
       "</table>\n",
       "<p>5 rows × 22 columns</p>\n",
       "</div>"
      ],
      "text/plain": [
       "   total_images  last_price  total_area first_day_exposition  rooms  \\\n",
       "0            20    13000000       108.0           2019-03-07      3   \n",
       "1             7     3350000        40.4           2018-12-04      1   \n",
       "2            10     5196000        56.0           2015-08-20      2   \n",
       "3             0    64900000       159.0           2015-07-24      3   \n",
       "4             2    10000000       100.0           2018-06-19      2   \n",
       "\n",
       "   ceiling_height  floors_total  living_area  floor  is_apartment  ...  \\\n",
       "0            2.70          16.0         51.0      8         False  ...   \n",
       "1             NaN          11.0         18.6      1         False  ...   \n",
       "2             NaN           5.0         34.3      4         False  ...   \n",
       "3             NaN          14.0         45.0      9         False  ...   \n",
       "4            3.03          14.0         32.0     13         False  ...   \n",
       "\n",
       "   kitchen_area  balcony    locality_name  airports_nearest  \\\n",
       "0          25.0        0  Санкт-Петербург           18863.0   \n",
       "1          11.0        2   посёлок Шушары           12817.0   \n",
       "2           8.3        0  Санкт-Петербург           21741.0   \n",
       "3           9.5        0  Санкт-Петербург           28098.0   \n",
       "4          41.0        0  Санкт-Петербург           31856.0   \n",
       "\n",
       "  cityCenters_nearest  parks_around3000  parks_nearest  ponds_around3000  \\\n",
       "0             16028.0                 1          482.0                 2   \n",
       "1             18603.0                 0            NaN                 0   \n",
       "2             13933.0                 1           90.0                 2   \n",
       "3              6800.0                 2           84.0                 3   \n",
       "4              8098.0                 2          112.0                 1   \n",
       "\n",
       "   ponds_nearest  days_exposition  \n",
       "0          755.0              NaN  \n",
       "1            NaN             81.0  \n",
       "2          574.0            558.0  \n",
       "3          234.0            424.0  \n",
       "4           48.0            121.0  \n",
       "\n",
       "[5 rows x 22 columns]"
      ]
     },
     "execution_count": 30,
     "metadata": {},
     "output_type": "execute_result"
    }
   ],
   "source": [
    "data.head()"
   ]
  },
  {
   "cell_type": "markdown",
   "metadata": {},
   "source": [
    "#### Шаг 3. Посчитать и добавить в таблицу:"
   ]
  },
  {
   "cell_type": "markdown",
   "metadata": {},
   "source": [
    "* цену квадратного метра"
   ]
  },
  {
   "cell_type": "code",
   "execution_count": 31,
   "metadata": {},
   "outputs": [
    {
     "data": {
      "text/html": [
       "<div>\n",
       "<style scoped>\n",
       "    .dataframe tbody tr th:only-of-type {\n",
       "        vertical-align: middle;\n",
       "    }\n",
       "\n",
       "    .dataframe tbody tr th {\n",
       "        vertical-align: top;\n",
       "    }\n",
       "\n",
       "    .dataframe thead th {\n",
       "        text-align: right;\n",
       "    }\n",
       "</style>\n",
       "<table border=\"1\" class=\"dataframe\">\n",
       "  <thead>\n",
       "    <tr style=\"text-align: right;\">\n",
       "      <th></th>\n",
       "      <th>total_images</th>\n",
       "      <th>last_price</th>\n",
       "      <th>total_area</th>\n",
       "      <th>first_day_exposition</th>\n",
       "      <th>rooms</th>\n",
       "      <th>ceiling_height</th>\n",
       "      <th>floors_total</th>\n",
       "      <th>living_area</th>\n",
       "      <th>floor</th>\n",
       "      <th>is_apartment</th>\n",
       "      <th>...</th>\n",
       "      <th>balcony</th>\n",
       "      <th>locality_name</th>\n",
       "      <th>airports_nearest</th>\n",
       "      <th>cityCenters_nearest</th>\n",
       "      <th>parks_around3000</th>\n",
       "      <th>parks_nearest</th>\n",
       "      <th>ponds_around3000</th>\n",
       "      <th>ponds_nearest</th>\n",
       "      <th>days_exposition</th>\n",
       "      <th>price_per_sqm</th>\n",
       "    </tr>\n",
       "  </thead>\n",
       "  <tbody>\n",
       "    <tr>\n",
       "      <td>0</td>\n",
       "      <td>20</td>\n",
       "      <td>13000000</td>\n",
       "      <td>108.0</td>\n",
       "      <td>2019-03-07</td>\n",
       "      <td>3</td>\n",
       "      <td>2.70</td>\n",
       "      <td>16.0</td>\n",
       "      <td>51.0</td>\n",
       "      <td>8</td>\n",
       "      <td>False</td>\n",
       "      <td>...</td>\n",
       "      <td>0</td>\n",
       "      <td>Санкт-Петербург</td>\n",
       "      <td>18863.0</td>\n",
       "      <td>16028.0</td>\n",
       "      <td>1</td>\n",
       "      <td>482.0</td>\n",
       "      <td>2</td>\n",
       "      <td>755.0</td>\n",
       "      <td>NaN</td>\n",
       "      <td>120370.37</td>\n",
       "    </tr>\n",
       "    <tr>\n",
       "      <td>1</td>\n",
       "      <td>7</td>\n",
       "      <td>3350000</td>\n",
       "      <td>40.4</td>\n",
       "      <td>2018-12-04</td>\n",
       "      <td>1</td>\n",
       "      <td>NaN</td>\n",
       "      <td>11.0</td>\n",
       "      <td>18.6</td>\n",
       "      <td>1</td>\n",
       "      <td>False</td>\n",
       "      <td>...</td>\n",
       "      <td>2</td>\n",
       "      <td>посёлок Шушары</td>\n",
       "      <td>12817.0</td>\n",
       "      <td>18603.0</td>\n",
       "      <td>0</td>\n",
       "      <td>NaN</td>\n",
       "      <td>0</td>\n",
       "      <td>NaN</td>\n",
       "      <td>81.0</td>\n",
       "      <td>82920.79</td>\n",
       "    </tr>\n",
       "    <tr>\n",
       "      <td>2</td>\n",
       "      <td>10</td>\n",
       "      <td>5196000</td>\n",
       "      <td>56.0</td>\n",
       "      <td>2015-08-20</td>\n",
       "      <td>2</td>\n",
       "      <td>NaN</td>\n",
       "      <td>5.0</td>\n",
       "      <td>34.3</td>\n",
       "      <td>4</td>\n",
       "      <td>False</td>\n",
       "      <td>...</td>\n",
       "      <td>0</td>\n",
       "      <td>Санкт-Петербург</td>\n",
       "      <td>21741.0</td>\n",
       "      <td>13933.0</td>\n",
       "      <td>1</td>\n",
       "      <td>90.0</td>\n",
       "      <td>2</td>\n",
       "      <td>574.0</td>\n",
       "      <td>558.0</td>\n",
       "      <td>92785.71</td>\n",
       "    </tr>\n",
       "    <tr>\n",
       "      <td>3</td>\n",
       "      <td>0</td>\n",
       "      <td>64900000</td>\n",
       "      <td>159.0</td>\n",
       "      <td>2015-07-24</td>\n",
       "      <td>3</td>\n",
       "      <td>NaN</td>\n",
       "      <td>14.0</td>\n",
       "      <td>45.0</td>\n",
       "      <td>9</td>\n",
       "      <td>False</td>\n",
       "      <td>...</td>\n",
       "      <td>0</td>\n",
       "      <td>Санкт-Петербург</td>\n",
       "      <td>28098.0</td>\n",
       "      <td>6800.0</td>\n",
       "      <td>2</td>\n",
       "      <td>84.0</td>\n",
       "      <td>3</td>\n",
       "      <td>234.0</td>\n",
       "      <td>424.0</td>\n",
       "      <td>408176.10</td>\n",
       "    </tr>\n",
       "    <tr>\n",
       "      <td>4</td>\n",
       "      <td>2</td>\n",
       "      <td>10000000</td>\n",
       "      <td>100.0</td>\n",
       "      <td>2018-06-19</td>\n",
       "      <td>2</td>\n",
       "      <td>3.03</td>\n",
       "      <td>14.0</td>\n",
       "      <td>32.0</td>\n",
       "      <td>13</td>\n",
       "      <td>False</td>\n",
       "      <td>...</td>\n",
       "      <td>0</td>\n",
       "      <td>Санкт-Петербург</td>\n",
       "      <td>31856.0</td>\n",
       "      <td>8098.0</td>\n",
       "      <td>2</td>\n",
       "      <td>112.0</td>\n",
       "      <td>1</td>\n",
       "      <td>48.0</td>\n",
       "      <td>121.0</td>\n",
       "      <td>100000.00</td>\n",
       "    </tr>\n",
       "  </tbody>\n",
       "</table>\n",
       "<p>5 rows × 23 columns</p>\n",
       "</div>"
      ],
      "text/plain": [
       "   total_images  last_price  total_area first_day_exposition  rooms  \\\n",
       "0            20    13000000       108.0           2019-03-07      3   \n",
       "1             7     3350000        40.4           2018-12-04      1   \n",
       "2            10     5196000        56.0           2015-08-20      2   \n",
       "3             0    64900000       159.0           2015-07-24      3   \n",
       "4             2    10000000       100.0           2018-06-19      2   \n",
       "\n",
       "   ceiling_height  floors_total  living_area  floor  is_apartment  ...  \\\n",
       "0            2.70          16.0         51.0      8         False  ...   \n",
       "1             NaN          11.0         18.6      1         False  ...   \n",
       "2             NaN           5.0         34.3      4         False  ...   \n",
       "3             NaN          14.0         45.0      9         False  ...   \n",
       "4            3.03          14.0         32.0     13         False  ...   \n",
       "\n",
       "   balcony    locality_name  airports_nearest  cityCenters_nearest  \\\n",
       "0        0  Санкт-Петербург           18863.0              16028.0   \n",
       "1        2   посёлок Шушары           12817.0              18603.0   \n",
       "2        0  Санкт-Петербург           21741.0              13933.0   \n",
       "3        0  Санкт-Петербург           28098.0               6800.0   \n",
       "4        0  Санкт-Петербург           31856.0               8098.0   \n",
       "\n",
       "  parks_around3000  parks_nearest  ponds_around3000  ponds_nearest  \\\n",
       "0                1          482.0                 2          755.0   \n",
       "1                0            NaN                 0            NaN   \n",
       "2                1           90.0                 2          574.0   \n",
       "3                2           84.0                 3          234.0   \n",
       "4                2          112.0                 1           48.0   \n",
       "\n",
       "   days_exposition  price_per_sqm  \n",
       "0              NaN      120370.37  \n",
       "1             81.0       82920.79  \n",
       "2            558.0       92785.71  \n",
       "3            424.0      408176.10  \n",
       "4            121.0      100000.00  \n",
       "\n",
       "[5 rows x 23 columns]"
      ]
     },
     "execution_count": 31,
     "metadata": {},
     "output_type": "execute_result"
    }
   ],
   "source": [
    "data['price_per_sqm'] = round(data['last_price'] / data['total_area'], 2)\n",
    "data.head()"
   ]
  },
  {
   "cell_type": "markdown",
   "metadata": {},
   "source": [
    "* день недели, месяц и год публикации объявления"
   ]
  },
  {
   "cell_type": "code",
   "execution_count": 32,
   "metadata": {},
   "outputs": [
    {
     "data": {
      "text/html": [
       "<div>\n",
       "<style scoped>\n",
       "    .dataframe tbody tr th:only-of-type {\n",
       "        vertical-align: middle;\n",
       "    }\n",
       "\n",
       "    .dataframe tbody tr th {\n",
       "        vertical-align: top;\n",
       "    }\n",
       "\n",
       "    .dataframe thead th {\n",
       "        text-align: right;\n",
       "    }\n",
       "</style>\n",
       "<table border=\"1\" class=\"dataframe\">\n",
       "  <thead>\n",
       "    <tr style=\"text-align: right;\">\n",
       "      <th></th>\n",
       "      <th>total_images</th>\n",
       "      <th>last_price</th>\n",
       "      <th>total_area</th>\n",
       "      <th>first_day_exposition</th>\n",
       "      <th>rooms</th>\n",
       "      <th>ceiling_height</th>\n",
       "      <th>floors_total</th>\n",
       "      <th>living_area</th>\n",
       "      <th>floor</th>\n",
       "      <th>is_apartment</th>\n",
       "      <th>...</th>\n",
       "      <th>cityCenters_nearest</th>\n",
       "      <th>parks_around3000</th>\n",
       "      <th>parks_nearest</th>\n",
       "      <th>ponds_around3000</th>\n",
       "      <th>ponds_nearest</th>\n",
       "      <th>days_exposition</th>\n",
       "      <th>price_per_sqm</th>\n",
       "      <th>weekday</th>\n",
       "      <th>month_exposition</th>\n",
       "      <th>year_exposition</th>\n",
       "    </tr>\n",
       "  </thead>\n",
       "  <tbody>\n",
       "    <tr>\n",
       "      <td>0</td>\n",
       "      <td>20</td>\n",
       "      <td>13000000</td>\n",
       "      <td>108.0</td>\n",
       "      <td>2019-03-07</td>\n",
       "      <td>3</td>\n",
       "      <td>2.70</td>\n",
       "      <td>16.0</td>\n",
       "      <td>51.0</td>\n",
       "      <td>8</td>\n",
       "      <td>False</td>\n",
       "      <td>...</td>\n",
       "      <td>16028.0</td>\n",
       "      <td>1</td>\n",
       "      <td>482.0</td>\n",
       "      <td>2</td>\n",
       "      <td>755.0</td>\n",
       "      <td>NaN</td>\n",
       "      <td>120370.37</td>\n",
       "      <td>3</td>\n",
       "      <td>3</td>\n",
       "      <td>2019</td>\n",
       "    </tr>\n",
       "    <tr>\n",
       "      <td>1</td>\n",
       "      <td>7</td>\n",
       "      <td>3350000</td>\n",
       "      <td>40.4</td>\n",
       "      <td>2018-12-04</td>\n",
       "      <td>1</td>\n",
       "      <td>NaN</td>\n",
       "      <td>11.0</td>\n",
       "      <td>18.6</td>\n",
       "      <td>1</td>\n",
       "      <td>False</td>\n",
       "      <td>...</td>\n",
       "      <td>18603.0</td>\n",
       "      <td>0</td>\n",
       "      <td>NaN</td>\n",
       "      <td>0</td>\n",
       "      <td>NaN</td>\n",
       "      <td>81.0</td>\n",
       "      <td>82920.79</td>\n",
       "      <td>1</td>\n",
       "      <td>12</td>\n",
       "      <td>2018</td>\n",
       "    </tr>\n",
       "    <tr>\n",
       "      <td>2</td>\n",
       "      <td>10</td>\n",
       "      <td>5196000</td>\n",
       "      <td>56.0</td>\n",
       "      <td>2015-08-20</td>\n",
       "      <td>2</td>\n",
       "      <td>NaN</td>\n",
       "      <td>5.0</td>\n",
       "      <td>34.3</td>\n",
       "      <td>4</td>\n",
       "      <td>False</td>\n",
       "      <td>...</td>\n",
       "      <td>13933.0</td>\n",
       "      <td>1</td>\n",
       "      <td>90.0</td>\n",
       "      <td>2</td>\n",
       "      <td>574.0</td>\n",
       "      <td>558.0</td>\n",
       "      <td>92785.71</td>\n",
       "      <td>3</td>\n",
       "      <td>8</td>\n",
       "      <td>2015</td>\n",
       "    </tr>\n",
       "    <tr>\n",
       "      <td>3</td>\n",
       "      <td>0</td>\n",
       "      <td>64900000</td>\n",
       "      <td>159.0</td>\n",
       "      <td>2015-07-24</td>\n",
       "      <td>3</td>\n",
       "      <td>NaN</td>\n",
       "      <td>14.0</td>\n",
       "      <td>45.0</td>\n",
       "      <td>9</td>\n",
       "      <td>False</td>\n",
       "      <td>...</td>\n",
       "      <td>6800.0</td>\n",
       "      <td>2</td>\n",
       "      <td>84.0</td>\n",
       "      <td>3</td>\n",
       "      <td>234.0</td>\n",
       "      <td>424.0</td>\n",
       "      <td>408176.10</td>\n",
       "      <td>4</td>\n",
       "      <td>7</td>\n",
       "      <td>2015</td>\n",
       "    </tr>\n",
       "    <tr>\n",
       "      <td>4</td>\n",
       "      <td>2</td>\n",
       "      <td>10000000</td>\n",
       "      <td>100.0</td>\n",
       "      <td>2018-06-19</td>\n",
       "      <td>2</td>\n",
       "      <td>3.03</td>\n",
       "      <td>14.0</td>\n",
       "      <td>32.0</td>\n",
       "      <td>13</td>\n",
       "      <td>False</td>\n",
       "      <td>...</td>\n",
       "      <td>8098.0</td>\n",
       "      <td>2</td>\n",
       "      <td>112.0</td>\n",
       "      <td>1</td>\n",
       "      <td>48.0</td>\n",
       "      <td>121.0</td>\n",
       "      <td>100000.00</td>\n",
       "      <td>1</td>\n",
       "      <td>6</td>\n",
       "      <td>2018</td>\n",
       "    </tr>\n",
       "  </tbody>\n",
       "</table>\n",
       "<p>5 rows × 26 columns</p>\n",
       "</div>"
      ],
      "text/plain": [
       "   total_images  last_price  total_area first_day_exposition  rooms  \\\n",
       "0            20    13000000       108.0           2019-03-07      3   \n",
       "1             7     3350000        40.4           2018-12-04      1   \n",
       "2            10     5196000        56.0           2015-08-20      2   \n",
       "3             0    64900000       159.0           2015-07-24      3   \n",
       "4             2    10000000       100.0           2018-06-19      2   \n",
       "\n",
       "   ceiling_height  floors_total  living_area  floor  is_apartment  ...  \\\n",
       "0            2.70          16.0         51.0      8         False  ...   \n",
       "1             NaN          11.0         18.6      1         False  ...   \n",
       "2             NaN           5.0         34.3      4         False  ...   \n",
       "3             NaN          14.0         45.0      9         False  ...   \n",
       "4            3.03          14.0         32.0     13         False  ...   \n",
       "\n",
       "   cityCenters_nearest  parks_around3000  parks_nearest  ponds_around3000  \\\n",
       "0              16028.0                 1          482.0                 2   \n",
       "1              18603.0                 0            NaN                 0   \n",
       "2              13933.0                 1           90.0                 2   \n",
       "3               6800.0                 2           84.0                 3   \n",
       "4               8098.0                 2          112.0                 1   \n",
       "\n",
       "  ponds_nearest  days_exposition  price_per_sqm  weekday  month_exposition  \\\n",
       "0         755.0              NaN      120370.37        3                 3   \n",
       "1           NaN             81.0       82920.79        1                12   \n",
       "2         574.0            558.0       92785.71        3                 8   \n",
       "3         234.0            424.0      408176.10        4                 7   \n",
       "4          48.0            121.0      100000.00        1                 6   \n",
       "\n",
       "   year_exposition  \n",
       "0             2019  \n",
       "1             2018  \n",
       "2             2015  \n",
       "3             2015  \n",
       "4             2018  \n",
       "\n",
       "[5 rows x 26 columns]"
      ]
     },
     "execution_count": 32,
     "metadata": {},
     "output_type": "execute_result"
    }
   ],
   "source": [
    "data['weekday'] = data['first_day_exposition'].dt.weekday\n",
    "data['month_exposition'] = data['first_day_exposition'].dt.month\n",
    "data['year_exposition'] = data['first_day_exposition'].dt.year\n",
    "data.head()"
   ]
  },
  {
   "cell_type": "markdown",
   "metadata": {},
   "source": [
    "* этаж квартиры; варианты - первый, последний, другой"
   ]
  },
  {
   "cell_type": "code",
   "execution_count": 33,
   "metadata": {},
   "outputs": [],
   "source": [
    "# Создам два списка: с этажами квартир и с общим количеством этажей в зданиях, в которых расположены квартиры:\n",
    "floors_list = data['floor'].tolist()\n",
    "floors_total_list = data['floors_total'].tolist()"
   ]
  },
  {
   "cell_type": "code",
   "execution_count": 34,
   "metadata": {},
   "outputs": [],
   "source": [
    "# Переберу списки и добавлю значения в новый список - со сгруппированными названиями этажей:\n",
    "grouped_floors_list = []\n",
    "for i in range(len(floors_list)):\n",
    "    if floors_list[i] == 1:\n",
    "        grouped_floors_list.append('первый')\n",
    "    elif floors_list[i] == floors_total_list[i]:\n",
    "        grouped_floors_list.append('последний')\n",
    "    else:\n",
    "        grouped_floors_list.append('другой')\n",
    "                "
   ]
  },
  {
   "cell_type": "markdown",
   "metadata": {},
   "source": [
    "Так как перебор производился в нужном порядке, то можно просто добавить новый столбец grouped_floors и вставить в него значения полученного перебором нового списка."
   ]
  },
  {
   "cell_type": "code",
   "execution_count": 35,
   "metadata": {},
   "outputs": [],
   "source": [
    "data['grouped_floors'] = pd.Series(grouped_floors_list)"
   ]
  },
  {
   "cell_type": "code",
   "execution_count": 36,
   "metadata": {
    "scrolled": false
   },
   "outputs": [
    {
     "data": {
      "text/html": [
       "<div>\n",
       "<style scoped>\n",
       "    .dataframe tbody tr th:only-of-type {\n",
       "        vertical-align: middle;\n",
       "    }\n",
       "\n",
       "    .dataframe tbody tr th {\n",
       "        vertical-align: top;\n",
       "    }\n",
       "\n",
       "    .dataframe thead th {\n",
       "        text-align: right;\n",
       "    }\n",
       "</style>\n",
       "<table border=\"1\" class=\"dataframe\">\n",
       "  <thead>\n",
       "    <tr style=\"text-align: right;\">\n",
       "      <th></th>\n",
       "      <th>total_images</th>\n",
       "      <th>last_price</th>\n",
       "      <th>total_area</th>\n",
       "      <th>first_day_exposition</th>\n",
       "      <th>rooms</th>\n",
       "      <th>ceiling_height</th>\n",
       "      <th>floors_total</th>\n",
       "      <th>living_area</th>\n",
       "      <th>floor</th>\n",
       "      <th>is_apartment</th>\n",
       "      <th>...</th>\n",
       "      <th>parks_around3000</th>\n",
       "      <th>parks_nearest</th>\n",
       "      <th>ponds_around3000</th>\n",
       "      <th>ponds_nearest</th>\n",
       "      <th>days_exposition</th>\n",
       "      <th>price_per_sqm</th>\n",
       "      <th>weekday</th>\n",
       "      <th>month_exposition</th>\n",
       "      <th>year_exposition</th>\n",
       "      <th>grouped_floors</th>\n",
       "    </tr>\n",
       "  </thead>\n",
       "  <tbody>\n",
       "    <tr>\n",
       "      <td>0</td>\n",
       "      <td>20</td>\n",
       "      <td>13000000</td>\n",
       "      <td>108.0</td>\n",
       "      <td>2019-03-07</td>\n",
       "      <td>3</td>\n",
       "      <td>2.70</td>\n",
       "      <td>16.0</td>\n",
       "      <td>51.0</td>\n",
       "      <td>8</td>\n",
       "      <td>False</td>\n",
       "      <td>...</td>\n",
       "      <td>1</td>\n",
       "      <td>482.0</td>\n",
       "      <td>2</td>\n",
       "      <td>755.0</td>\n",
       "      <td>NaN</td>\n",
       "      <td>120370.37</td>\n",
       "      <td>3</td>\n",
       "      <td>3</td>\n",
       "      <td>2019</td>\n",
       "      <td>другой</td>\n",
       "    </tr>\n",
       "    <tr>\n",
       "      <td>1</td>\n",
       "      <td>7</td>\n",
       "      <td>3350000</td>\n",
       "      <td>40.4</td>\n",
       "      <td>2018-12-04</td>\n",
       "      <td>1</td>\n",
       "      <td>NaN</td>\n",
       "      <td>11.0</td>\n",
       "      <td>18.6</td>\n",
       "      <td>1</td>\n",
       "      <td>False</td>\n",
       "      <td>...</td>\n",
       "      <td>0</td>\n",
       "      <td>NaN</td>\n",
       "      <td>0</td>\n",
       "      <td>NaN</td>\n",
       "      <td>81.0</td>\n",
       "      <td>82920.79</td>\n",
       "      <td>1</td>\n",
       "      <td>12</td>\n",
       "      <td>2018</td>\n",
       "      <td>первый</td>\n",
       "    </tr>\n",
       "    <tr>\n",
       "      <td>2</td>\n",
       "      <td>10</td>\n",
       "      <td>5196000</td>\n",
       "      <td>56.0</td>\n",
       "      <td>2015-08-20</td>\n",
       "      <td>2</td>\n",
       "      <td>NaN</td>\n",
       "      <td>5.0</td>\n",
       "      <td>34.3</td>\n",
       "      <td>4</td>\n",
       "      <td>False</td>\n",
       "      <td>...</td>\n",
       "      <td>1</td>\n",
       "      <td>90.0</td>\n",
       "      <td>2</td>\n",
       "      <td>574.0</td>\n",
       "      <td>558.0</td>\n",
       "      <td>92785.71</td>\n",
       "      <td>3</td>\n",
       "      <td>8</td>\n",
       "      <td>2015</td>\n",
       "      <td>другой</td>\n",
       "    </tr>\n",
       "    <tr>\n",
       "      <td>3</td>\n",
       "      <td>0</td>\n",
       "      <td>64900000</td>\n",
       "      <td>159.0</td>\n",
       "      <td>2015-07-24</td>\n",
       "      <td>3</td>\n",
       "      <td>NaN</td>\n",
       "      <td>14.0</td>\n",
       "      <td>45.0</td>\n",
       "      <td>9</td>\n",
       "      <td>False</td>\n",
       "      <td>...</td>\n",
       "      <td>2</td>\n",
       "      <td>84.0</td>\n",
       "      <td>3</td>\n",
       "      <td>234.0</td>\n",
       "      <td>424.0</td>\n",
       "      <td>408176.10</td>\n",
       "      <td>4</td>\n",
       "      <td>7</td>\n",
       "      <td>2015</td>\n",
       "      <td>другой</td>\n",
       "    </tr>\n",
       "    <tr>\n",
       "      <td>4</td>\n",
       "      <td>2</td>\n",
       "      <td>10000000</td>\n",
       "      <td>100.0</td>\n",
       "      <td>2018-06-19</td>\n",
       "      <td>2</td>\n",
       "      <td>3.03</td>\n",
       "      <td>14.0</td>\n",
       "      <td>32.0</td>\n",
       "      <td>13</td>\n",
       "      <td>False</td>\n",
       "      <td>...</td>\n",
       "      <td>2</td>\n",
       "      <td>112.0</td>\n",
       "      <td>1</td>\n",
       "      <td>48.0</td>\n",
       "      <td>121.0</td>\n",
       "      <td>100000.00</td>\n",
       "      <td>1</td>\n",
       "      <td>6</td>\n",
       "      <td>2018</td>\n",
       "      <td>другой</td>\n",
       "    </tr>\n",
       "  </tbody>\n",
       "</table>\n",
       "<p>5 rows × 27 columns</p>\n",
       "</div>"
      ],
      "text/plain": [
       "   total_images  last_price  total_area first_day_exposition  rooms  \\\n",
       "0            20    13000000       108.0           2019-03-07      3   \n",
       "1             7     3350000        40.4           2018-12-04      1   \n",
       "2            10     5196000        56.0           2015-08-20      2   \n",
       "3             0    64900000       159.0           2015-07-24      3   \n",
       "4             2    10000000       100.0           2018-06-19      2   \n",
       "\n",
       "   ceiling_height  floors_total  living_area  floor  is_apartment  ...  \\\n",
       "0            2.70          16.0         51.0      8         False  ...   \n",
       "1             NaN          11.0         18.6      1         False  ...   \n",
       "2             NaN           5.0         34.3      4         False  ...   \n",
       "3             NaN          14.0         45.0      9         False  ...   \n",
       "4            3.03          14.0         32.0     13         False  ...   \n",
       "\n",
       "   parks_around3000  parks_nearest  ponds_around3000  ponds_nearest  \\\n",
       "0                 1          482.0                 2          755.0   \n",
       "1                 0            NaN                 0            NaN   \n",
       "2                 1           90.0                 2          574.0   \n",
       "3                 2           84.0                 3          234.0   \n",
       "4                 2          112.0                 1           48.0   \n",
       "\n",
       "  days_exposition  price_per_sqm  weekday  month_exposition  year_exposition  \\\n",
       "0             NaN      120370.37        3                 3             2019   \n",
       "1            81.0       82920.79        1                12             2018   \n",
       "2           558.0       92785.71        3                 8             2015   \n",
       "3           424.0      408176.10        4                 7             2015   \n",
       "4           121.0      100000.00        1                 6             2018   \n",
       "\n",
       "   grouped_floors  \n",
       "0          другой  \n",
       "1          первый  \n",
       "2          другой  \n",
       "3          другой  \n",
       "4          другой  \n",
       "\n",
       "[5 rows x 27 columns]"
      ]
     },
     "execution_count": 36,
     "metadata": {},
     "output_type": "execute_result"
    }
   ],
   "source": [
    "data.head()"
   ]
  },
  {
   "cell_type": "code",
   "execution_count": 37,
   "metadata": {},
   "outputs": [
    {
     "data": {
      "text/plain": [
       "другой       17446\n",
       "последний     3336\n",
       "первый        2917\n",
       "Name: grouped_floors, dtype: int64"
      ]
     },
     "execution_count": 37,
     "metadata": {},
     "output_type": "execute_result"
    }
   ],
   "source": [
    "# Посчитаю общее количество квартир, расположенных на том или ином сгруппированном значении этажа:\n",
    "data['grouped_floors'].value_counts()"
   ]
  },
  {
   "cell_type": "markdown",
   "metadata": {},
   "source": [
    "* соотношение жилой и общей площади, а также отношение площади кухни к общей"
   ]
  },
  {
   "cell_type": "code",
   "execution_count": 38,
   "metadata": {},
   "outputs": [],
   "source": [
    "data['living_to_total'] = data['living_area'] / data['total_area']\n",
    "data['kitchen_to_total'] = data['kitchen_area'] / data['total_area']"
   ]
  },
  {
   "cell_type": "code",
   "execution_count": 39,
   "metadata": {},
   "outputs": [
    {
     "name": "stdout",
     "output_type": "stream",
     "text": [
      "<class 'pandas.core.frame.DataFrame'>\n",
      "RangeIndex: 23699 entries, 0 to 23698\n",
      "Data columns (total 29 columns):\n",
      "total_images            23699 non-null int64\n",
      "last_price              23699 non-null int64\n",
      "total_area              23699 non-null float64\n",
      "first_day_exposition    23699 non-null datetime64[ns]\n",
      "rooms                   23699 non-null int64\n",
      "ceiling_height          14504 non-null float64\n",
      "floors_total            23613 non-null float64\n",
      "living_area             23699 non-null float64\n",
      "floor                   23699 non-null int64\n",
      "is_apartment            23699 non-null bool\n",
      "studio                  23699 non-null bool\n",
      "open_plan               23699 non-null bool\n",
      "kitchen_area            23699 non-null float64\n",
      "balcony                 23699 non-null int64\n",
      "locality_name           23650 non-null object\n",
      "airports_nearest        18157 non-null float64\n",
      "cityCenters_nearest     18180 non-null float64\n",
      "parks_around3000        23699 non-null int64\n",
      "parks_nearest           8079 non-null float64\n",
      "ponds_around3000        23699 non-null int64\n",
      "ponds_nearest           9110 non-null float64\n",
      "days_exposition         20518 non-null float64\n",
      "price_per_sqm           23699 non-null float64\n",
      "weekday                 23699 non-null int64\n",
      "month_exposition        23699 non-null int64\n",
      "year_exposition         23699 non-null int64\n",
      "grouped_floors          23699 non-null object\n",
      "living_to_total         23699 non-null float64\n",
      "kitchen_to_total        23699 non-null float64\n",
      "dtypes: bool(3), datetime64[ns](1), float64(13), int64(10), object(2)\n",
      "memory usage: 4.8+ MB\n"
     ]
    }
   ],
   "source": [
    "data.info()"
   ]
  },
  {
   "cell_type": "markdown",
   "metadata": {},
   "source": [
    "#### Шаг 4. Провести исследовательский анализ данных:"
   ]
  },
  {
   "cell_type": "markdown",
   "metadata": {},
   "source": [
    "##### Изучу параметр общая площадь:"
   ]
  },
  {
   "cell_type": "code",
   "execution_count": 40,
   "metadata": {},
   "outputs": [
    {
     "name": "stdout",
     "output_type": "stream",
     "text": [
      "Средняя площадь всех квартир, представленных к продаже: 60.35 кв.м.\n",
      "Минимальная площадь квартиры, представленной к продаже: 12.0 кв.м.\n",
      "Максимальная площадь квартиры, представленной к продаже: 900.0 кв.м.\n",
      "Общая площадь всех квартир, представленных к продаже: 1430202.68 кв.м.\n"
     ]
    }
   ],
   "source": [
    "print('Средняя площадь всех квартир, представленных к продаже:', round(data['total_area'].mean(), 2) , 'кв.м.')\n",
    "print('Минимальная площадь квартиры, представленной к продаже:', round(data['total_area'].min(), 2), 'кв.м.')\n",
    "print('Максимальная площадь квартиры, представленной к продаже:', round(data['total_area'].max(), 2), 'кв.м.')\n",
    "print('Общая площадь всех квартир, представленных к продаже:', round(data['total_area'].sum(), 2), 'кв.м.')"
   ]
  },
  {
   "cell_type": "markdown",
   "metadata": {},
   "source": []
  },
  {
   "cell_type": "code",
   "execution_count": 41,
   "metadata": {
    "scrolled": true
   },
   "outputs": [
    {
     "data": {
      "text/plain": [
       "<matplotlib.axes._subplots.AxesSubplot at 0x7f059f4d4110>"
      ]
     },
     "execution_count": 41,
     "metadata": {},
     "output_type": "execute_result"
    },
    {
     "data": {
      "image/png": "[encoded data removed]",
      "text/plain": [
       "<Figure size 432x288 with 1 Axes>"
      ]
     },
     "metadata": {
      "needs_background": "light"
     },
     "output_type": "display_data"
    }
   ],
   "source": [
    "# Построю гистограмму значений общей площади квартир:\n",
    "data['total_area'].hist(bins=50)"
   ]
  },
  {
   "cell_type": "markdown",
   "metadata": {},
   "source": []
  },
  {
   "cell_type": "code",
   "execution_count": 42,
   "metadata": {},
   "outputs": [
    {
     "data": {
      "text/plain": [
       "<matplotlib.axes._subplots.AxesSubplot at 0x7f059ef89a10>"
      ]
     },
     "execution_count": 42,
     "metadata": {},
     "output_type": "execute_result"
    },
    {
     "data": {
      "image/png": "[encoded data removed]",
      "text/plain": [
       "<Figure size 432x288 with 1 Axes>"
      ]
     },
     "metadata": {
      "needs_background": "light"
     },
     "output_type": "display_data"
    }
   ],
   "source": [
    "# Ограничу интервал значений общей площади до 600, чтобы увидеть распределение основной массы детальнее:\n",
    "data['total_area'].hist(bins=50, range=(0, 600))"
   ]
  },
  {
   "cell_type": "markdown",
   "metadata": {},
   "source": [
    "##### Изучу параметр \"цена\":"
   ]
  },
  {
   "cell_type": "code",
   "execution_count": 43,
   "metadata": {},
   "outputs": [
    {
     "name": "stdout",
     "output_type": "stream",
     "text": [
      "Минимальная стоимость квартиры, представленной к продаже: 12190\n",
      "Максимальная стоимость квартиры, представленной к продаже: 763000000\n",
      "Средняя стоимость всех квартир, представленных к продаже: 6541549.0\n"
     ]
    }
   ],
   "source": [
    "print('Минимальная стоимость квартиры, представленной к продаже:', data['last_price'].min())\n",
    "print('Максимальная стоимость квартиры, представленной к продаже:', data['last_price'].max())\n",
    "print('Средняя стоимость всех квартир, представленных к продаже:', round(data['last_price'].mean()))"
   ]
  },
  {
   "cell_type": "code",
   "execution_count": 44,
   "metadata": {},
   "outputs": [
    {
     "data": {
      "text/plain": [
       "<matplotlib.axes._subplots.AxesSubplot at 0x7f059e72e050>"
      ]
     },
     "execution_count": 44,
     "metadata": {},
     "output_type": "execute_result"
    },
    {
     "data": {
      "image/png": "[encoded data removed]",
      "text/plain": [
       "<Figure size 432x288 with 1 Axes>"
      ]
     },
     "metadata": {
      "needs_background": "light"
     },
     "output_type": "display_data"
    }
   ],
   "source": [
    "# Построю гистограмму значений цены на квартиры:\n",
    "data['last_price'].hist(bins=50)"
   ]
  },
  {
   "cell_type": "markdown",
   "metadata": {},
   "source": [
    "Эта диаграмма вообще не может хоть как-то отобразить реальное распределение значений цены, т.к. разброс очень значительный: от 12 тыс. до 763 млн. Так как 12 тыс. ден. ед. - это нереалистичная цена для любой квартиры - полагаю, это выбивающееся значение. Так же, как и 763 млн. - это слишком огромное значение для цены на квартиру (не дом)."
   ]
  },
  {
   "cell_type": "code",
   "execution_count": 45,
   "metadata": {},
   "outputs": [
    {
     "data": {
      "text/plain": [
       "<matplotlib.axes._subplots.AxesSubplot at 0x7f059e5ff210>"
      ]
     },
     "execution_count": 45,
     "metadata": {},
     "output_type": "execute_result"
    },
    {
     "data": {
      "image/png": "[encoded data removed]",
      "text/plain": [
       "<Figure size 432x288 with 1 Axes>"
      ]
     },
     "metadata": {
      "needs_background": "light"
     },
     "output_type": "display_data"
    }
   ],
   "source": [
    "# Попробую ограничить выборку значений до параметра от 200 тыс. до 100 млн. и построить новую гистограмму:\n",
    "data['last_price'].hist(bins=50, range=(200000, 100000000))"
   ]
  },
  {
   "cell_type": "markdown",
   "metadata": {},
   "source": [
    "Попробую разбить данные по цене за квартиру на категории, для начала получив средние значения в первой половине интервала (от мин. до медианного значения цены) и во второй половине (от медианы до макс. значения)"
   ]
  },
  {
   "cell_type": "code",
   "execution_count": 46,
   "metadata": {},
   "outputs": [
    {
     "name": "stdout",
     "output_type": "stream",
     "text": [
      "6541549.0\n",
      "4650000.0\n"
     ]
    }
   ],
   "source": [
    "print(round(data['last_price'].mean()))\n",
    "print(round(data['last_price'].median()))"
   ]
  },
  {
   "cell_type": "markdown",
   "metadata": {},
   "source": [
    "Решил выбрать для проверки всё-таки медианное значения и интервалы от мин. до него и от него до макс."
   ]
  },
  {
   "cell_type": "code",
   "execution_count": 47,
   "metadata": {},
   "outputs": [
    {
     "name": "stdout",
     "output_type": "stream",
     "text": [
      "3400000.0\n",
      "6800000.0\n"
     ]
    }
   ],
   "source": [
    "print(data[data['last_price'] < 4650000]['last_price'].median())\n",
    "print(data[data['last_price'] > 4650000]['last_price'].median())"
   ]
  },
  {
   "cell_type": "markdown",
   "metadata": {},
   "source": [
    "Теперь построю 4 гистограммы для распределения значений цены - по 4-м полученным сегментам"
   ]
  },
  {
   "cell_type": "code",
   "execution_count": 48,
   "metadata": {},
   "outputs": [
    {
     "data": {
      "text/plain": [
       "<matplotlib.axes._subplots.AxesSubplot at 0x7f059e4dab50>"
      ]
     },
     "execution_count": 48,
     "metadata": {},
     "output_type": "execute_result"
    },
    {
     "data": {
      "image/png": "[encoded data removed]",
      "text/plain": [
       "<Figure size 432x288 with 1 Axes>"
      ]
     },
     "metadata": {
      "needs_background": "light"
     },
     "output_type": "display_data"
    }
   ],
   "source": [
    "data[data['last_price'] < 3400000]['last_price'].hist(bins=20)"
   ]
  },
  {
   "cell_type": "markdown",
   "metadata": {},
   "source": [
    "В этом диапазоне сразу видны выбивающиеся значения: скорее всего, информация о цене на квартиры ниже 500 000 - нереалистична и внесена в этот раздел объявлений (\"продажа\") ошибочно. Можно еще попробовать построить диаграмму размаха, сразу, для этого диапазона, чтобы подтвердить это утверждение:"
   ]
  },
  {
   "cell_type": "code",
   "execution_count": 49,
   "metadata": {},
   "outputs": [],
   "source": [
    "import matplotlib.pyplot as plt"
   ]
  },
  {
   "cell_type": "code",
   "execution_count": 50,
   "metadata": {},
   "outputs": [
    {
     "data": {
      "text/plain": [
       "(12000, 3399999)"
      ]
     },
     "execution_count": 50,
     "metadata": {},
     "output_type": "execute_result"
    },
    {
     "data": {
      "image/png": "[encoded data removed]",
      "text/plain": [
       "<Figure size 432x288 with 1 Axes>"
      ]
     },
     "metadata": {
      "needs_background": "light"
     },
     "output_type": "display_data"
    }
   ],
   "source": [
    "data[data['last_price'] < 3400000].boxplot()\n",
    "plt.ylim(12000, 3399999)"
   ]
  },
  {
   "cell_type": "markdown",
   "metadata": {},
   "source": [
    "По-хорошему, исходя из диаграммы размаха и теоретического деления на квартили, к выбросам следовало бы отнести значения цены, не превышающие 1 000 000 руб. Но пока ограничусь 500 000 руб. В дальнейшем еще вернусь к этому параметру."
   ]
  },
  {
   "cell_type": "code",
   "execution_count": 51,
   "metadata": {},
   "outputs": [
    {
     "data": {
      "text/plain": [
       "<matplotlib.axes._subplots.AxesSubplot at 0x7f059e3f3350>"
      ]
     },
     "execution_count": 51,
     "metadata": {},
     "output_type": "execute_result"
    },
    {
     "data": {
      "image/png": "[encoded data removed]",
      "text/plain": [
       "<Figure size 432x288 with 1 Axes>"
      ]
     },
     "metadata": {
      "needs_background": "light"
     },
     "output_type": "display_data"
    }
   ],
   "source": [
    "data[(data['last_price'] >= 3400000) & (data['last_price'] < 4650000)]['last_price'].hist(bins=20)"
   ]
  },
  {
   "cell_type": "markdown",
   "metadata": {},
   "source": [
    "В этом диапазоне цен распределение тоже выглядит весьма интересно, но колебания понятны, т.к. интервал взят совсем небольшой, а других критериев, влияющих на цену, может быть много."
   ]
  },
  {
   "cell_type": "code",
   "execution_count": 52,
   "metadata": {},
   "outputs": [
    {
     "data": {
      "text/plain": [
       "<matplotlib.axes._subplots.AxesSubplot at 0x7f059c1887d0>"
      ]
     },
     "execution_count": 52,
     "metadata": {},
     "output_type": "execute_result"
    },
    {
     "data": {
      "image/png": "[encoded data removed]",
      "text/plain": [
       "<Figure size 432x288 with 1 Axes>"
      ]
     },
     "metadata": {
      "needs_background": "light"
     },
     "output_type": "display_data"
    }
   ],
   "source": [
    "data[(data['last_price'] >= 4650000) & (data['last_price'] < 6800000)]['last_price'].hist(bins=20)"
   ]
  },
  {
   "cell_type": "markdown",
   "metadata": {},
   "source": [
    "В этом диапазоне также видно, что после медианного значения количество квартир по мере увеличения цены постепенно сокращается. Наблюдается корреляция, которую, впрочем, еще буду изучать позже."
   ]
  },
  {
   "cell_type": "code",
   "execution_count": 53,
   "metadata": {},
   "outputs": [
    {
     "data": {
      "text/plain": [
       "<matplotlib.axes._subplots.AxesSubplot at 0x7f059bd56ed0>"
      ]
     },
     "execution_count": 53,
     "metadata": {},
     "output_type": "execute_result"
    },
    {
     "data": {
      "image/png": "[encoded data removed]",
      "text/plain": [
       "<Figure size 432x288 with 1 Axes>"
      ]
     },
     "metadata": {
      "needs_background": "light"
     },
     "output_type": "display_data"
    }
   ],
   "source": [
    "data[data['last_price'] > 6800000]['last_price'].hist(bins=20)"
   ]
  },
  {
   "cell_type": "markdown",
   "metadata": {},
   "source": [
    "Этот диапазон - загадка. Видно, что есть некое множество значений цен, сильно выбивающихся из общей картины. Попробую также построить диаграмму размаха - возможно, она что-то покажет."
   ]
  },
  {
   "cell_type": "code",
   "execution_count": 54,
   "metadata": {},
   "outputs": [
    {
     "data": {
      "text/plain": [
       "(6800001, 800000000)"
      ]
     },
     "execution_count": 54,
     "metadata": {},
     "output_type": "execute_result"
    },
    {
     "data": {
      "image/png": "[encoded data removed]",
      "text/plain": [
       "<Figure size 432x288 with 1 Axes>"
      ]
     },
     "metadata": {
      "needs_background": "light"
     },
     "output_type": "display_data"
    }
   ],
   "source": [
    "data[data['last_price'] > 6800000].boxplot()\n",
    "plt.ylim(6800001, 800000000)"
   ]
  },
  {
   "cell_type": "markdown",
   "metadata": {},
   "source": [
    "Как минимум одно значение точно выбивается из общей картины - максимальная цена на квартиру - ок. 763 млн. руб.! Полагаю, что это либо случайно попавшийся особняк, либо какая-то невероятных размахов квартира в центре Невского проспекта. Ну или в самом Эрмитаже!"
   ]
  },
  {
   "cell_type": "markdown",
   "metadata": {},
   "source": [
    "Пока оставлю цены."
   ]
  },
  {
   "cell_type": "markdown",
   "metadata": {},
   "source": [
    "##### Займусь параметром \"число комнат\""
   ]
  },
  {
   "cell_type": "code",
   "execution_count": 55,
   "metadata": {},
   "outputs": [
    {
     "name": "stdout",
     "output_type": "stream",
     "text": [
      "Минимальное количество комнат в квартирах, выставленных на продажу: 0\n",
      "Максимальное количество комнат в квартирах, выставленных на продажу: 19\n",
      "Среднее количество комнат в квартирах, выставленных на продажу: 2.0\n"
     ]
    }
   ],
   "source": [
    "print('Минимальное количество комнат в квартирах, выставленных на продажу:', data['rooms'].min())\n",
    "print('Максимальное количество комнат в квартирах, выставленных на продажу:', data['rooms'].max())\n",
    "print('Среднее количество комнат в квартирах, выставленных на продажу:', round(data['rooms'].mean()))"
   ]
  },
  {
   "cell_type": "code",
   "execution_count": 56,
   "metadata": {},
   "outputs": [
    {
     "data": {
      "text/plain": [
       "<matplotlib.axes._subplots.AxesSubplot at 0x7f059b8f0950>"
      ]
     },
     "execution_count": 56,
     "metadata": {},
     "output_type": "execute_result"
    },
    {
     "data": {
      "image/png": "[encoded data removed]",
      "text/plain": [
       "<Figure size 432x288 with 1 Axes>"
      ]
     },
     "metadata": {
      "needs_background": "light"
     },
     "output_type": "display_data"
    }
   ],
   "source": [
    "# Построю гистограмму по этому параметру:\n",
    "data['rooms'].hist(bins=20)"
   ]
  },
  {
   "cell_type": "markdown",
   "metadata": {},
   "source": [
    "Заметно выбивающееся значение в 19 комнат, которое лежит далеко за основным распределением значений. В общем, я решил проверить цену на квартиру с 19-ю комнатами. Если окажется, что это еще и квартира с максимальной стоимостью, то стоит сразу избавить от нее в изучаемом датафрейме как от сильно выбивающегося значения."
   ]
  },
  {
   "cell_type": "code",
   "execution_count": 57,
   "metadata": {},
   "outputs": [
    {
     "name": "stdout",
     "output_type": "stream",
     "text": [
      "14498    32250000\n",
      "Name: last_price, dtype: int64\n"
     ]
    }
   ],
   "source": [
    "print(data[data['rooms'] == 19]['last_price'])"
   ]
  },
  {
   "cell_type": "markdown",
   "metadata": {},
   "source": [
    "Нет, это оказалась не эта квартира. Хотя ее цена также находится в зоне \"выпадающих\" значений, но конкретно к этой зоне вернемся позже. Попробую найти квартиру с максимальной ценой, узнать количество комнат в ней."
   ]
  },
  {
   "cell_type": "code",
   "execution_count": 58,
   "metadata": {},
   "outputs": [
    {
     "data": {
      "text/html": [
       "<div>\n",
       "<style scoped>\n",
       "    .dataframe tbody tr th:only-of-type {\n",
       "        vertical-align: middle;\n",
       "    }\n",
       "\n",
       "    .dataframe tbody tr th {\n",
       "        vertical-align: top;\n",
       "    }\n",
       "\n",
       "    .dataframe thead th {\n",
       "        text-align: right;\n",
       "    }\n",
       "</style>\n",
       "<table border=\"1\" class=\"dataframe\">\n",
       "  <thead>\n",
       "    <tr style=\"text-align: right;\">\n",
       "      <th></th>\n",
       "      <th>total_images</th>\n",
       "      <th>last_price</th>\n",
       "      <th>total_area</th>\n",
       "      <th>first_day_exposition</th>\n",
       "      <th>rooms</th>\n",
       "      <th>ceiling_height</th>\n",
       "      <th>floors_total</th>\n",
       "      <th>living_area</th>\n",
       "      <th>floor</th>\n",
       "      <th>is_apartment</th>\n",
       "      <th>...</th>\n",
       "      <th>ponds_around3000</th>\n",
       "      <th>ponds_nearest</th>\n",
       "      <th>days_exposition</th>\n",
       "      <th>price_per_sqm</th>\n",
       "      <th>weekday</th>\n",
       "      <th>month_exposition</th>\n",
       "      <th>year_exposition</th>\n",
       "      <th>grouped_floors</th>\n",
       "      <th>living_to_total</th>\n",
       "      <th>kitchen_to_total</th>\n",
       "    </tr>\n",
       "  </thead>\n",
       "  <tbody>\n",
       "    <tr>\n",
       "      <td>12971</td>\n",
       "      <td>19</td>\n",
       "      <td>763000000</td>\n",
       "      <td>400.0</td>\n",
       "      <td>2017-09-30</td>\n",
       "      <td>7</td>\n",
       "      <td>NaN</td>\n",
       "      <td>10.0</td>\n",
       "      <td>250.0</td>\n",
       "      <td>10</td>\n",
       "      <td>False</td>\n",
       "      <td>...</td>\n",
       "      <td>3</td>\n",
       "      <td>756.0</td>\n",
       "      <td>33.0</td>\n",
       "      <td>1907500.0</td>\n",
       "      <td>5</td>\n",
       "      <td>9</td>\n",
       "      <td>2017</td>\n",
       "      <td>последний</td>\n",
       "      <td>0.625</td>\n",
       "      <td>0.05</td>\n",
       "    </tr>\n",
       "  </tbody>\n",
       "</table>\n",
       "<p>1 rows × 29 columns</p>\n",
       "</div>"
      ],
      "text/plain": [
       "       total_images  last_price  total_area first_day_exposition  rooms  \\\n",
       "12971            19   763000000       400.0           2017-09-30      7   \n",
       "\n",
       "       ceiling_height  floors_total  living_area  floor  is_apartment  ...  \\\n",
       "12971             NaN          10.0        250.0     10         False  ...   \n",
       "\n",
       "       ponds_around3000  ponds_nearest  days_exposition  price_per_sqm  \\\n",
       "12971                 3          756.0             33.0      1907500.0   \n",
       "\n",
       "      weekday  month_exposition  year_exposition  grouped_floors  \\\n",
       "12971       5                 9             2017       последний   \n",
       "\n",
       "       living_to_total  kitchen_to_total  \n",
       "12971            0.625              0.05  \n",
       "\n",
       "[1 rows x 29 columns]"
      ]
     },
     "execution_count": 58,
     "metadata": {},
     "output_type": "execute_result"
    }
   ],
   "source": [
    "data[data['last_price'] == 763000000]"
   ]
  },
  {
   "cell_type": "markdown",
   "metadata": {},
   "source": [
    "Интересно: это квартира с площадью 400 кв.м. и 7-ю комнатами, расположенная на 10 (последнем) этаже. Пока оставлю ее в изучаемом датафрейме, вернусь к выбивающимся значениям позже."
   ]
  },
  {
   "cell_type": "code",
   "execution_count": 59,
   "metadata": {},
   "outputs": [
    {
     "data": {
      "text/plain": [
       "1     8047\n",
       "2     7940\n",
       "3     5814\n",
       "4     1180\n",
       "5      326\n",
       "0      197\n",
       "6      105\n",
       "7       59\n",
       "8       12\n",
       "9        8\n",
       "10       3\n",
       "14       2\n",
       "11       2\n",
       "19       1\n",
       "12       1\n",
       "16       1\n",
       "15       1\n",
       "Name: rooms, dtype: int64"
      ]
     },
     "execution_count": 59,
     "metadata": {},
     "output_type": "execute_result"
    }
   ],
   "source": [
    "data['rooms'].value_counts()"
   ]
  },
  {
   "cell_type": "markdown",
   "metadata": {},
   "source": [
    "##### Последний параметр, который необходимо изучить, высота потолков:"
   ]
  },
  {
   "cell_type": "code",
   "execution_count": 60,
   "metadata": {},
   "outputs": [
    {
     "name": "stdout",
     "output_type": "stream",
     "text": [
      "Минимальная высота потолков среди квартир, выставленных на продажу: 1.0\n",
      "Максимальная высота потолков среди квартир, выставленных на продажу: 100.0\n",
      "Средняя высота потолков среди квартир, выставленных на продажу: 2.77\n"
     ]
    }
   ],
   "source": [
    "print('Минимальная высота потолков среди квартир, выставленных на продажу:', data['ceiling_height'].min())\n",
    "print('Максимальная высота потолков среди квартир, выставленных на продажу:', data['ceiling_height'].max())\n",
    "print('Средняя высота потолков среди квартир, выставленных на продажу:', round(data['ceiling_height'].mean(), 2))"
   ]
  },
  {
   "cell_type": "markdown",
   "metadata": {},
   "source": [
    "Сразу понятно, что квартир с высотой потолков 1,0 метр в реальности не бывает. От этого значения необходимо будет избавиться. Точно так же, как и от значения высоты потолков в 100 метров. Но пока построю гистограмму."
   ]
  },
  {
   "cell_type": "code",
   "execution_count": 61,
   "metadata": {},
   "outputs": [
    {
     "data": {
      "text/plain": [
       "<matplotlib.axes._subplots.AxesSubplot at 0x7f059c074250>"
      ]
     },
     "execution_count": 61,
     "metadata": {},
     "output_type": "execute_result"
    },
    {
     "data": {
      "image/png": "[encoded data removed]",
      "text/plain": [
       "<Figure size 432x288 with 1 Axes>"
      ]
     },
     "metadata": {
      "needs_background": "light"
     },
     "output_type": "display_data"
    }
   ],
   "source": [
    "data['ceiling_height'].hist(bins=50)"
   ]
  },
  {
   "cell_type": "code",
   "execution_count": 62,
   "metadata": {},
   "outputs": [
    {
     "data": {
      "text/plain": [
       "<matplotlib.axes._subplots.AxesSubplot at 0x7f059b92bc50>"
      ]
     },
     "execution_count": 62,
     "metadata": {},
     "output_type": "execute_result"
    },
    {
     "data": {
      "image/png": "[encoded data removed]",
      "text/plain": [
       "<Figure size 432x288 with 1 Axes>"
      ]
     },
     "metadata": {
      "needs_background": "light"
     },
     "output_type": "display_data"
    }
   ],
   "source": [
    "data['ceiling_height'].hist(bins=50, range=(0, 15))"
   ]
  },
  {
   "cell_type": "markdown",
   "metadata": {},
   "source": [
    "##### Теперь изучу время продажи квартиры:"
   ]
  },
  {
   "cell_type": "code",
   "execution_count": 63,
   "metadata": {},
   "outputs": [
    {
     "name": "stdout",
     "output_type": "stream",
     "text": [
      "Минимальное время продажи квартир, выставленных на продажу: 1.0 дн.\n",
      "Максимальное время продажи квартир, выставленных на продажу: 1580.0 дн.\n",
      "Среднее время продажи квартир, выставленных на продажу: 180.89\n",
      "Медианное значение срока продажи квартир, выставленных на продажу: 95.0 дн.\n"
     ]
    }
   ],
   "source": [
    "print('Минимальное время продажи квартир, выставленных на продажу:', data['days_exposition'].min(), 'дн.')\n",
    "print('Максимальное время продажи квартир, выставленных на продажу:', data['days_exposition'].max(), 'дн.')\n",
    "print('Среднее время продажи квартир, выставленных на продажу:', round(data['days_exposition'].mean(), 2))\n",
    "print('Медианное значение срока продажи квартир, выставленных на продажу:', data['days_exposition'].median(), 'дн.')"
   ]
  },
  {
   "cell_type": "markdown",
   "metadata": {},
   "source": [
    "Есть квартиры, проданные всего за 1 день. А вот максимально квартира находилась в продаже более 4-х лет. В среднем квартиры продавались около полугода. Построю гистограмму времени продажи квартир."
   ]
  },
  {
   "cell_type": "code",
   "execution_count": 64,
   "metadata": {},
   "outputs": [
    {
     "data": {
      "text/plain": [
       "<matplotlib.axes._subplots.AxesSubplot at 0x7f059c087990>"
      ]
     },
     "execution_count": 64,
     "metadata": {},
     "output_type": "execute_result"
    },
    {
     "data": {
      "image/png": "[encoded data removed]",
      "text/plain": [
       "<Figure size 432x288 with 1 Axes>"
      ]
     },
     "metadata": {
      "needs_background": "light"
     },
     "output_type": "display_data"
    }
   ],
   "source": [
    "data['days_exposition'].hist(bins=50)"
   ]
  },
  {
   "cell_type": "markdown",
   "metadata": {},
   "source": [
    "Основная масса квартир продавалась очень быстро: от 1 дня до 2-х (ок. 60 дней) месяцев. Исходя из данного графика медианное значение продажи квартир (95 дней) гораздо реалистичнее отражает усредненное значение этого параметра. А вот срок продажи квартиры свыше 1000 дней - выглядит как необычно долгий. Также следует отметить, что есть определенное количество квартир, в данных о продаже которых вообще не указано количество дней размещения объявлений.\n",
    "Попробую изучить этот срез данных, выяснив год выставления объявления о продаже этих квартир. Возможно, в срезе есть супер-старые объявления."
   ]
  },
  {
   "cell_type": "code",
   "execution_count": 65,
   "metadata": {},
   "outputs": [
    {
     "data": {
      "text/plain": [
       "2019    1796\n",
       "2018     959\n",
       "2017     271\n",
       "2015      70\n",
       "2016      67\n",
       "2014      18\n",
       "Name: year_exposition, dtype: int64"
      ]
     },
     "execution_count": 65,
     "metadata": {},
     "output_type": "execute_result"
    }
   ],
   "source": [
    "data[data['days_exposition'].isna()]['year_exposition'].value_counts()"
   ]
  },
  {
   "cell_type": "markdown",
   "metadata": {},
   "source": [
    "Скорее всего, эти квартиры до сих пор не были проданы. Но это никак не мешает мне посчитать по ним количество дней, в течение которого эти объявления до сих пор активны."
   ]
  },
  {
   "cell_type": "code",
   "execution_count": 66,
   "metadata": {},
   "outputs": [
    {
     "name": "stdout",
     "output_type": "stream",
     "text": [
      "23699\n"
     ]
    }
   ],
   "source": [
    "# Переведу сначала все значения столбца days_exposition в список:\n",
    "days_exposition_list = data['days_exposition'].tolist()\n",
    "print(len(days_exposition_list))"
   ]
  },
  {
   "cell_type": "markdown",
   "metadata": {},
   "source": [
    "Добавлю переменную today - означающую сегодняшнюю дату. И пропуски по не проданным до сих пор квартирам можно, в принципе, заменить количеством дней от даты выставления объявления на продажу до сегодняшней даты."
   ]
  },
  {
   "cell_type": "code",
   "execution_count": 67,
   "metadata": {},
   "outputs": [],
   "source": [
    "today = pd.to_datetime('today')"
   ]
  },
  {
   "cell_type": "code",
   "execution_count": 68,
   "metadata": {},
   "outputs": [
    {
     "name": "stdout",
     "output_type": "stream",
     "text": [
      "3181\n"
     ]
    }
   ],
   "source": [
    "# Посчитаю количество пропущенных значений в этом столбце, заодно тоже переведу их в список.\n",
    "first_day = data[data['days_exposition'].isna()]['first_day_exposition'].reset_index(drop=True)\n",
    "first_day_list = first_day.tolist()\n",
    "print(len(first_day_list))"
   ]
  },
  {
   "cell_type": "markdown",
   "metadata": {},
   "source": [
    "И теперь заполню пропущенные значения в общем списке разницей в днях между датой выставления объявления и до сегодняшней даты. А также переведу все значения в общем списке в целочисленные (int). На проверке - длина списка - она должна совпадать с изначальной."
   ]
  },
  {
   "cell_type": "code",
   "execution_count": 69,
   "metadata": {
    "scrolled": false
   },
   "outputs": [
    {
     "name": "stdout",
     "output_type": "stream",
     "text": [
      "23699\n"
     ]
    }
   ],
   "source": [
    "import math\n",
    "k = 0\n",
    "for i in range(len(days_exposition_list)):\n",
    "    if math.isnan(days_exposition_list[i]) is True:\n",
    "        days_exposition_list[i] = pd.Timedelta(today - first_day_list[k]).days\n",
    "        k += 1\n",
    "    days_exposition_list[i] = int(days_exposition_list[i])\n",
    "print(len(days_exposition_list))"
   ]
  },
  {
   "cell_type": "code",
   "execution_count": 70,
   "metadata": {
    "scrolled": true
   },
   "outputs": [],
   "source": [
    "# И заменю значения в столбце days_exposition на заполненные новые значения из этого списка:\n",
    "data['days_exposition'] = pd.Series(days_exposition_list)"
   ]
  },
  {
   "cell_type": "code",
   "execution_count": 71,
   "metadata": {},
   "outputs": [
    {
     "name": "stdout",
     "output_type": "stream",
     "text": [
      "<class 'pandas.core.frame.DataFrame'>\n",
      "RangeIndex: 23699 entries, 0 to 23698\n",
      "Data columns (total 29 columns):\n",
      "total_images            23699 non-null int64\n",
      "last_price              23699 non-null int64\n",
      "total_area              23699 non-null float64\n",
      "first_day_exposition    23699 non-null datetime64[ns]\n",
      "rooms                   23699 non-null int64\n",
      "ceiling_height          14504 non-null float64\n",
      "floors_total            23613 non-null float64\n",
      "living_area             23699 non-null float64\n",
      "floor                   23699 non-null int64\n",
      "is_apartment            23699 non-null bool\n",
      "studio                  23699 non-null bool\n",
      "open_plan               23699 non-null bool\n",
      "kitchen_area            23699 non-null float64\n",
      "balcony                 23699 non-null int64\n",
      "locality_name           23650 non-null object\n",
      "airports_nearest        18157 non-null float64\n",
      "cityCenters_nearest     18180 non-null float64\n",
      "parks_around3000        23699 non-null int64\n",
      "parks_nearest           8079 non-null float64\n",
      "ponds_around3000        23699 non-null int64\n",
      "ponds_nearest           9110 non-null float64\n",
      "days_exposition         23699 non-null int64\n",
      "price_per_sqm           23699 non-null float64\n",
      "weekday                 23699 non-null int64\n",
      "month_exposition        23699 non-null int64\n",
      "year_exposition         23699 non-null int64\n",
      "grouped_floors          23699 non-null object\n",
      "living_to_total         23699 non-null float64\n",
      "kitchen_to_total        23699 non-null float64\n",
      "dtypes: bool(3), datetime64[ns](1), float64(12), int64(11), object(2)\n",
      "memory usage: 4.8+ MB\n"
     ]
    }
   ],
   "source": [
    "data.info()"
   ]
  },
  {
   "cell_type": "code",
   "execution_count": 72,
   "metadata": {},
   "outputs": [
    {
     "data": {
      "text/plain": [
       "<matplotlib.axes._subplots.AxesSubplot at 0x7f059b8e9d50>"
      ]
     },
     "execution_count": 72,
     "metadata": {},
     "output_type": "execute_result"
    },
    {
     "data": {
      "image/png": "[encoded data removed]",
      "text/plain": [
       "<Figure size 432x288 with 1 Axes>"
      ]
     },
     "metadata": {
      "needs_background": "light"
     },
     "output_type": "display_data"
    }
   ],
   "source": [
    "# Посмотрю, как теперь распределились значения на гистограмме:\n",
    "data['days_exposition'].hist(bins=50)"
   ]
  },
  {
   "cell_type": "code",
   "execution_count": 73,
   "metadata": {
    "scrolled": true
   },
   "outputs": [
    {
     "data": {
      "text/html": [
       "<div>\n",
       "<style scoped>\n",
       "    .dataframe tbody tr th:only-of-type {\n",
       "        vertical-align: middle;\n",
       "    }\n",
       "\n",
       "    .dataframe tbody tr th {\n",
       "        vertical-align: top;\n",
       "    }\n",
       "\n",
       "    .dataframe thead th {\n",
       "        text-align: right;\n",
       "    }\n",
       "</style>\n",
       "<table border=\"1\" class=\"dataframe\">\n",
       "  <thead>\n",
       "    <tr style=\"text-align: right;\">\n",
       "      <th></th>\n",
       "      <th>total_images</th>\n",
       "      <th>last_price</th>\n",
       "      <th>total_area</th>\n",
       "      <th>rooms</th>\n",
       "      <th>ceiling_height</th>\n",
       "      <th>floors_total</th>\n",
       "      <th>living_area</th>\n",
       "      <th>floor</th>\n",
       "      <th>kitchen_area</th>\n",
       "      <th>balcony</th>\n",
       "      <th>...</th>\n",
       "      <th>parks_nearest</th>\n",
       "      <th>ponds_around3000</th>\n",
       "      <th>ponds_nearest</th>\n",
       "      <th>days_exposition</th>\n",
       "      <th>price_per_sqm</th>\n",
       "      <th>weekday</th>\n",
       "      <th>month_exposition</th>\n",
       "      <th>year_exposition</th>\n",
       "      <th>living_to_total</th>\n",
       "      <th>kitchen_to_total</th>\n",
       "    </tr>\n",
       "  </thead>\n",
       "  <tbody>\n",
       "    <tr>\n",
       "      <td>count</td>\n",
       "      <td>23699.000000</td>\n",
       "      <td>2.369900e+04</td>\n",
       "      <td>23699.000000</td>\n",
       "      <td>23699.000000</td>\n",
       "      <td>14504.000000</td>\n",
       "      <td>23613.000000</td>\n",
       "      <td>23699.000000</td>\n",
       "      <td>23699.000000</td>\n",
       "      <td>23699.000000</td>\n",
       "      <td>23699.000000</td>\n",
       "      <td>...</td>\n",
       "      <td>8079.000000</td>\n",
       "      <td>23699.000000</td>\n",
       "      <td>9110.000000</td>\n",
       "      <td>23699.000000</td>\n",
       "      <td>2.369900e+04</td>\n",
       "      <td>23699.000000</td>\n",
       "      <td>23699.000000</td>\n",
       "      <td>23699.000000</td>\n",
       "      <td>23699.000000</td>\n",
       "      <td>23699.000000</td>\n",
       "    </tr>\n",
       "    <tr>\n",
       "      <td>mean</td>\n",
       "      <td>9.858475</td>\n",
       "      <td>6.541549e+06</td>\n",
       "      <td>60.348651</td>\n",
       "      <td>2.070636</td>\n",
       "      <td>2.771499</td>\n",
       "      <td>10.673824</td>\n",
       "      <td>34.323374</td>\n",
       "      <td>5.892358</td>\n",
       "      <td>10.373121</td>\n",
       "      <td>0.591080</td>\n",
       "      <td>...</td>\n",
       "      <td>490.804555</td>\n",
       "      <td>0.590911</td>\n",
       "      <td>517.980900</td>\n",
       "      <td>224.210093</td>\n",
       "      <td>9.942166e+04</td>\n",
       "      <td>2.569307</td>\n",
       "      <td>6.400101</td>\n",
       "      <td>2017.367146</td>\n",
       "      <td>0.563854</td>\n",
       "      <td>0.186583</td>\n",
       "    </tr>\n",
       "    <tr>\n",
       "      <td>std</td>\n",
       "      <td>5.682529</td>\n",
       "      <td>1.088701e+07</td>\n",
       "      <td>35.654083</td>\n",
       "      <td>1.078405</td>\n",
       "      <td>1.261056</td>\n",
       "      <td>6.597173</td>\n",
       "      <td>21.704811</td>\n",
       "      <td>4.885249</td>\n",
       "      <td>5.721337</td>\n",
       "      <td>0.959298</td>\n",
       "      <td>...</td>\n",
       "      <td>342.317995</td>\n",
       "      <td>0.883999</td>\n",
       "      <td>277.720643</td>\n",
       "      <td>257.712097</td>\n",
       "      <td>5.030680e+04</td>\n",
       "      <td>1.789082</td>\n",
       "      <td>3.491561</td>\n",
       "      <td>1.039771</td>\n",
       "      <td>0.110948</td>\n",
       "      <td>0.075746</td>\n",
       "    </tr>\n",
       "    <tr>\n",
       "      <td>min</td>\n",
       "      <td>0.000000</td>\n",
       "      <td>1.219000e+04</td>\n",
       "      <td>12.000000</td>\n",
       "      <td>0.000000</td>\n",
       "      <td>1.000000</td>\n",
       "      <td>1.000000</td>\n",
       "      <td>2.000000</td>\n",
       "      <td>1.000000</td>\n",
       "      <td>0.000000</td>\n",
       "      <td>0.000000</td>\n",
       "      <td>...</td>\n",
       "      <td>1.000000</td>\n",
       "      <td>0.000000</td>\n",
       "      <td>13.000000</td>\n",
       "      <td>1.000000</td>\n",
       "      <td>1.118300e+02</td>\n",
       "      <td>0.000000</td>\n",
       "      <td>1.000000</td>\n",
       "      <td>2014.000000</td>\n",
       "      <td>0.021583</td>\n",
       "      <td>0.000000</td>\n",
       "    </tr>\n",
       "    <tr>\n",
       "      <td>25%</td>\n",
       "      <td>6.000000</td>\n",
       "      <td>3.400000e+06</td>\n",
       "      <td>40.000000</td>\n",
       "      <td>1.000000</td>\n",
       "      <td>2.520000</td>\n",
       "      <td>5.000000</td>\n",
       "      <td>18.400000</td>\n",
       "      <td>2.000000</td>\n",
       "      <td>7.200000</td>\n",
       "      <td>0.000000</td>\n",
       "      <td>...</td>\n",
       "      <td>288.000000</td>\n",
       "      <td>0.000000</td>\n",
       "      <td>294.000000</td>\n",
       "      <td>45.000000</td>\n",
       "      <td>7.658547e+04</td>\n",
       "      <td>1.000000</td>\n",
       "      <td>3.000000</td>\n",
       "      <td>2017.000000</td>\n",
       "      <td>0.490388</td>\n",
       "      <td>0.133126</td>\n",
       "    </tr>\n",
       "    <tr>\n",
       "      <td>50%</td>\n",
       "      <td>9.000000</td>\n",
       "      <td>4.650000e+06</td>\n",
       "      <td>52.000000</td>\n",
       "      <td>2.000000</td>\n",
       "      <td>2.650000</td>\n",
       "      <td>9.000000</td>\n",
       "      <td>30.300000</td>\n",
       "      <td>4.000000</td>\n",
       "      <td>9.000000</td>\n",
       "      <td>0.000000</td>\n",
       "      <td>...</td>\n",
       "      <td>455.000000</td>\n",
       "      <td>0.000000</td>\n",
       "      <td>502.000000</td>\n",
       "      <td>124.000000</td>\n",
       "      <td>9.500000e+04</td>\n",
       "      <td>3.000000</td>\n",
       "      <td>6.000000</td>\n",
       "      <td>2017.000000</td>\n",
       "      <td>0.566596</td>\n",
       "      <td>0.172102</td>\n",
       "    </tr>\n",
       "    <tr>\n",
       "      <td>75%</td>\n",
       "      <td>14.000000</td>\n",
       "      <td>6.800000e+06</td>\n",
       "      <td>69.900000</td>\n",
       "      <td>3.000000</td>\n",
       "      <td>2.800000</td>\n",
       "      <td>16.000000</td>\n",
       "      <td>42.700000</td>\n",
       "      <td>8.000000</td>\n",
       "      <td>11.500000</td>\n",
       "      <td>1.000000</td>\n",
       "      <td>...</td>\n",
       "      <td>612.000000</td>\n",
       "      <td>1.000000</td>\n",
       "      <td>729.000000</td>\n",
       "      <td>321.000000</td>\n",
       "      <td>1.142563e+05</td>\n",
       "      <td>4.000000</td>\n",
       "      <td>10.000000</td>\n",
       "      <td>2018.000000</td>\n",
       "      <td>0.638298</td>\n",
       "      <td>0.232432</td>\n",
       "    </tr>\n",
       "    <tr>\n",
       "      <td>max</td>\n",
       "      <td>50.000000</td>\n",
       "      <td>7.630000e+08</td>\n",
       "      <td>900.000000</td>\n",
       "      <td>19.000000</td>\n",
       "      <td>100.000000</td>\n",
       "      <td>60.000000</td>\n",
       "      <td>409.700000</td>\n",
       "      <td>33.000000</td>\n",
       "      <td>112.000000</td>\n",
       "      <td>5.000000</td>\n",
       "      <td>...</td>\n",
       "      <td>3190.000000</td>\n",
       "      <td>3.000000</td>\n",
       "      <td>1344.000000</td>\n",
       "      <td>1904.000000</td>\n",
       "      <td>1.907500e+06</td>\n",
       "      <td>6.000000</td>\n",
       "      <td>12.000000</td>\n",
       "      <td>2019.000000</td>\n",
       "      <td>1.511905</td>\n",
       "      <td>0.787879</td>\n",
       "    </tr>\n",
       "  </tbody>\n",
       "</table>\n",
       "<p>8 rows × 23 columns</p>\n",
       "</div>"
      ],
      "text/plain": [
       "       total_images    last_price    total_area         rooms  ceiling_height  \\\n",
       "count  23699.000000  2.369900e+04  23699.000000  23699.000000    14504.000000   \n",
       "mean       9.858475  6.541549e+06     60.348651      2.070636        2.771499   \n",
       "std        5.682529  1.088701e+07     35.654083      1.078405        1.261056   \n",
       "min        0.000000  1.219000e+04     12.000000      0.000000        1.000000   \n",
       "25%        6.000000  3.400000e+06     40.000000      1.000000        2.520000   \n",
       "50%        9.000000  4.650000e+06     52.000000      2.000000        2.650000   \n",
       "75%       14.000000  6.800000e+06     69.900000      3.000000        2.800000   \n",
       "max       50.000000  7.630000e+08    900.000000     19.000000      100.000000   \n",
       "\n",
       "       floors_total   living_area         floor  kitchen_area       balcony  \\\n",
       "count  23613.000000  23699.000000  23699.000000  23699.000000  23699.000000   \n",
       "mean      10.673824     34.323374      5.892358     10.373121      0.591080   \n",
       "std        6.597173     21.704811      4.885249      5.721337      0.959298   \n",
       "min        1.000000      2.000000      1.000000      0.000000      0.000000   \n",
       "25%        5.000000     18.400000      2.000000      7.200000      0.000000   \n",
       "50%        9.000000     30.300000      4.000000      9.000000      0.000000   \n",
       "75%       16.000000     42.700000      8.000000     11.500000      1.000000   \n",
       "max       60.000000    409.700000     33.000000    112.000000      5.000000   \n",
       "\n",
       "       ...  parks_nearest  ponds_around3000  ponds_nearest  days_exposition  \\\n",
       "count  ...    8079.000000      23699.000000    9110.000000     23699.000000   \n",
       "mean   ...     490.804555          0.590911     517.980900       224.210093   \n",
       "std    ...     342.317995          0.883999     277.720643       257.712097   \n",
       "min    ...       1.000000          0.000000      13.000000         1.000000   \n",
       "25%    ...     288.000000          0.000000     294.000000        45.000000   \n",
       "50%    ...     455.000000          0.000000     502.000000       124.000000   \n",
       "75%    ...     612.000000          1.000000     729.000000       321.000000   \n",
       "max    ...    3190.000000          3.000000    1344.000000      1904.000000   \n",
       "\n",
       "       price_per_sqm       weekday  month_exposition  year_exposition  \\\n",
       "count   2.369900e+04  23699.000000      23699.000000     23699.000000   \n",
       "mean    9.942166e+04      2.569307          6.400101      2017.367146   \n",
       "std     5.030680e+04      1.789082          3.491561         1.039771   \n",
       "min     1.118300e+02      0.000000          1.000000      2014.000000   \n",
       "25%     7.658547e+04      1.000000          3.000000      2017.000000   \n",
       "50%     9.500000e+04      3.000000          6.000000      2017.000000   \n",
       "75%     1.142563e+05      4.000000         10.000000      2018.000000   \n",
       "max     1.907500e+06      6.000000         12.000000      2019.000000   \n",
       "\n",
       "       living_to_total  kitchen_to_total  \n",
       "count     23699.000000      23699.000000  \n",
       "mean          0.563854          0.186583  \n",
       "std           0.110948          0.075746  \n",
       "min           0.021583          0.000000  \n",
       "25%           0.490388          0.133126  \n",
       "50%           0.566596          0.172102  \n",
       "75%           0.638298          0.232432  \n",
       "max           1.511905          0.787879  \n",
       "\n",
       "[8 rows x 23 columns]"
      ]
     },
     "execution_count": 73,
     "metadata": {},
     "output_type": "execute_result"
    }
   ],
   "source": [
    "data.describe()"
   ]
  },
  {
   "cell_type": "markdown",
   "metadata": {},
   "source": [
    "Так как следующий параметр для изучения - время продажи квартиры, то я решил уже перед его изучением составить более подходящий датафрейм, убрав выбивающиеся значения по 4-м изученным параметрам:\n",
    "1. площадь квартиры - считаю, что будет правильным \"отсечь\" все квартиры с площадью более 150 кв.м.\n",
    "2. цена квартиры - думаю, что, учитывая изучение квартир в Санкт-Петербурге и Лен.области, а также ввиду распределения большей части значений в пределах +/- 3 млн. от среднего значения (6,5 млн. руб.), то было бы вполне разумным отказаться от значений цены свыше 15 000 000 руб. Как и от значений ниже 500 000 руб.\n",
    "3. число комнат - учитывая увиденное распределение по этому параметру на гистограмме, решил \"отсечь\" все квартиры с более, чем 8 комнат\n",
    "4. количество дней в продаже - по этому значению, как мне кажется можно убрать из датафрейма все объявления старше 3-х лет (1000 дней), так как по ним будет уже очень сложно оценить привлекательность квартиры, скорость продажи, адекватную цену и прочие параметры.\n",
    "\n",
    "##### Назову новый датафрейм improved_data, т.к. надеюсь на то, что изучаемый датафрейм действительно улучшится."
   ]
  },
  {
   "cell_type": "code",
   "execution_count": 74,
   "metadata": {},
   "outputs": [],
   "source": [
    "improved_data = data.query('total_area <= 150 and last_price >= 500000 and last_price <= 15000000 and rooms <= 8 and days_exposition <= 1000')"
   ]
  },
  {
   "cell_type": "code",
   "execution_count": 75,
   "metadata": {},
   "outputs": [],
   "source": [
    "improved_data = improved_data.reset_index(drop=True)"
   ]
  },
  {
   "cell_type": "code",
   "execution_count": 76,
   "metadata": {
    "scrolled": false
   },
   "outputs": [
    {
     "name": "stdout",
     "output_type": "stream",
     "text": [
      "<class 'pandas.core.frame.DataFrame'>\n",
      "RangeIndex: 22006 entries, 0 to 22005\n",
      "Data columns (total 29 columns):\n",
      "total_images            22006 non-null int64\n",
      "last_price              22006 non-null int64\n",
      "total_area              22006 non-null float64\n",
      "first_day_exposition    22006 non-null datetime64[ns]\n",
      "rooms                   22006 non-null int64\n",
      "ceiling_height          13344 non-null float64\n",
      "floors_total            21927 non-null float64\n",
      "living_area             22006 non-null float64\n",
      "floor                   22006 non-null int64\n",
      "is_apartment            22006 non-null bool\n",
      "studio                  22006 non-null bool\n",
      "open_plan               22006 non-null bool\n",
      "kitchen_area            22006 non-null float64\n",
      "balcony                 22006 non-null int64\n",
      "locality_name           21961 non-null object\n",
      "airports_nearest        16599 non-null float64\n",
      "cityCenters_nearest     16614 non-null float64\n",
      "parks_around3000        22006 non-null int64\n",
      "parks_nearest           7042 non-null float64\n",
      "ponds_around3000        22006 non-null int64\n",
      "ponds_nearest           8054 non-null float64\n",
      "days_exposition         22006 non-null int64\n",
      "price_per_sqm           22006 non-null float64\n",
      "weekday                 22006 non-null int64\n",
      "month_exposition        22006 non-null int64\n",
      "year_exposition         22006 non-null int64\n",
      "grouped_floors          22006 non-null object\n",
      "living_to_total         22006 non-null float64\n",
      "kitchen_to_total        22006 non-null float64\n",
      "dtypes: bool(3), datetime64[ns](1), float64(12), int64(11), object(2)\n",
      "memory usage: 4.4+ MB\n"
     ]
    }
   ],
   "source": [
    "improved_data.info()"
   ]
  },
  {
   "cell_type": "markdown",
   "metadata": {},
   "source": [
    "Кажется, что отсеченные значения (1691 объявлений) выбраны вполне адекватно и составляют ок. 7% от всего количества исследуемых объявлений."
   ]
  },
  {
   "cell_type": "markdown",
   "metadata": {},
   "source": [
    "Так как в дальнейшем будет изучаться влияние того или иного фактора/критерия на цену квартиры, то для наглядности расчетов я бы создал еще один столбец - цена квартиры в млн. руб. - чтобы потом выводились средние значения в нормальном виде, а не в значении экспоненты в степени."
   ]
  },
  {
   "cell_type": "code",
   "execution_count": 77,
   "metadata": {},
   "outputs": [],
   "source": [
    "improved_data['price_in_mln'] = improved_data['last_price'] / 1000000"
   ]
  },
  {
   "cell_type": "markdown",
   "metadata": {},
   "source": [
    "Теперь буду изучать факторы, которые могут влиять на стоимость квартиры.\n",
    "Первый фактор, на который можно посмотреть, количество комнат - попробую посмотреть, какая будет средняя стоимость квартир, в зависимости от количества комнат."
   ]
  },
  {
   "cell_type": "code",
   "execution_count": 78,
   "metadata": {
    "scrolled": false
   },
   "outputs": [
    {
     "data": {
      "text/html": [
       "<div>\n",
       "<style scoped>\n",
       "    .dataframe tbody tr th:only-of-type {\n",
       "        vertical-align: middle;\n",
       "    }\n",
       "\n",
       "    .dataframe tbody tr th {\n",
       "        vertical-align: top;\n",
       "    }\n",
       "\n",
       "    .dataframe thead th {\n",
       "        text-align: right;\n",
       "    }\n",
       "</style>\n",
       "<table border=\"1\" class=\"dataframe\">\n",
       "  <thead>\n",
       "    <tr style=\"text-align: right;\">\n",
       "      <th></th>\n",
       "      <th>price_in_mln</th>\n",
       "    </tr>\n",
       "    <tr>\n",
       "      <th>rooms</th>\n",
       "      <th></th>\n",
       "    </tr>\n",
       "  </thead>\n",
       "  <tbody>\n",
       "    <tr>\n",
       "      <td>0</td>\n",
       "      <td>2.929180</td>\n",
       "    </tr>\n",
       "    <tr>\n",
       "      <td>1</td>\n",
       "      <td>3.777312</td>\n",
       "    </tr>\n",
       "    <tr>\n",
       "      <td>2</td>\n",
       "      <td>5.171715</td>\n",
       "    </tr>\n",
       "    <tr>\n",
       "      <td>3</td>\n",
       "      <td>6.540104</td>\n",
       "    </tr>\n",
       "    <tr>\n",
       "      <td>4</td>\n",
       "      <td>7.767961</td>\n",
       "    </tr>\n",
       "    <tr>\n",
       "      <td>5</td>\n",
       "      <td>9.539304</td>\n",
       "    </tr>\n",
       "    <tr>\n",
       "      <td>6</td>\n",
       "      <td>10.769500</td>\n",
       "    </tr>\n",
       "    <tr>\n",
       "      <td>7</td>\n",
       "      <td>13.872500</td>\n",
       "    </tr>\n",
       "  </tbody>\n",
       "</table>\n",
       "</div>"
      ],
      "text/plain": [
       "       price_in_mln\n",
       "rooms              \n",
       "0          2.929180\n",
       "1          3.777312\n",
       "2          5.171715\n",
       "3          6.540104\n",
       "4          7.767961\n",
       "5          9.539304\n",
       "6         10.769500\n",
       "7         13.872500"
      ]
     },
     "execution_count": 78,
     "metadata": {},
     "output_type": "execute_result"
    }
   ],
   "source": [
    "price_rooms = improved_data.pivot_table(index='rooms', values='price_in_mln')\n",
    "price_rooms"
   ]
  },
  {
   "cell_type": "markdown",
   "metadata": {},
   "source": [
    "Судя по сводной таблице, видна прямая зависимость средней цены на квартиру от количества комнат, хотя, кажется, что уровень корреляции несколько снижается при большем количестве комнат."
   ]
  },
  {
   "cell_type": "code",
   "execution_count": 79,
   "metadata": {},
   "outputs": [
    {
     "data": {
      "text/plain": [
       "<matplotlib.axes._subplots.AxesSubplot at 0x7f059bf0e210>"
      ]
     },
     "execution_count": 79,
     "metadata": {},
     "output_type": "execute_result"
    },
    {
     "data": {
      "image/png": "[encoded data removed]",
      "text/plain": [
       "<Figure size 432x288 with 1 Axes>"
      ]
     },
     "metadata": {
      "needs_background": "light"
     },
     "output_type": "display_data"
    }
   ],
   "source": [
    "improved_data.plot(x='rooms', y='price_in_mln', grid=True)"
   ]
  },
  {
   "cell_type": "code",
   "execution_count": 80,
   "metadata": {},
   "outputs": [
    {
     "data": {
      "text/plain": [
       "<matplotlib.axes._subplots.AxesSubplot at 0x7f059bec8a90>"
      ]
     },
     "execution_count": 80,
     "metadata": {},
     "output_type": "execute_result"
    },
    {
     "data": {
      "image/png": "[encoded data removed]",
      "text/plain": [
       "<Figure size 432x288 with 1 Axes>"
      ]
     },
     "metadata": {
      "needs_background": "light"
     },
     "output_type": "display_data"
    }
   ],
   "source": [
    "improved_data.sort_values('price_in_mln').plot(x='rooms', y='price_in_mln', grid=True)"
   ]
  },
  {
   "cell_type": "markdown",
   "metadata": {},
   "source": [
    "Так, с обычным графиком ничего не вышло, даже при сортировке значений цены (их слишком много). Поэтому попробую построить простой график зависимости по сгруппированным значениям:"
   ]
  },
  {
   "cell_type": "code",
   "execution_count": 81,
   "metadata": {},
   "outputs": [
    {
     "data": {
      "text/plain": [
       "<matplotlib.axes._subplots.AxesSubplot at 0x7f059bed7950>"
      ]
     },
     "execution_count": 81,
     "metadata": {},
     "output_type": "execute_result"
    },
    {
     "data": {
      "image/png": "[encoded data removed]",
      "text/plain": [
       "<Figure size 864x360 with 1 Axes>"
      ]
     },
     "metadata": {
      "needs_background": "light"
     },
     "output_type": "display_data"
    }
   ],
   "source": [
    "price_rooms.plot(grid=True, figsize=(12, 5))"
   ]
  },
  {
   "cell_type": "markdown",
   "metadata": {},
   "source": [
    "Зависимость заметна, но непонятно, так ли она сильна."
   ]
  },
  {
   "cell_type": "code",
   "execution_count": 82,
   "metadata": {
    "scrolled": true
   },
   "outputs": [
    {
     "name": "stdout",
     "output_type": "stream",
     "text": [
      "0.47896988353116476\n"
     ]
    }
   ],
   "source": [
    "# Рассчитаю коэффициент корреляции:\n",
    "print(improved_data['price_in_mln'].corr(improved_data['rooms']))"
   ]
  },
  {
   "cell_type": "markdown",
   "metadata": {},
   "source": [
    "Зависимость существует, хотя и не очень сильная."
   ]
  },
  {
   "cell_type": "markdown",
   "metadata": {},
   "source": [
    "##### Следующий параметр, который может влиять на цену, это площадь квартиры. Изучу его."
   ]
  },
  {
   "cell_type": "code",
   "execution_count": 83,
   "metadata": {
    "scrolled": true
   },
   "outputs": [
    {
     "data": {
      "text/plain": [
       "<matplotlib.axes._subplots.AxesSubplot at 0x7f059bae6c90>"
      ]
     },
     "execution_count": 83,
     "metadata": {},
     "output_type": "execute_result"
    },
    {
     "data": {
      "image/png": "[encoded data removed]",
      "text/plain": [
       "<Figure size 432x288 with 1 Axes>"
      ]
     },
     "metadata": {
      "needs_background": "light"
     },
     "output_type": "display_data"
    }
   ],
   "source": [
    "improved_data.plot(x='total_area', y='price_in_mln', kind='scatter', grid=True)"
   ]
  },
  {
   "cell_type": "markdown",
   "metadata": {},
   "source": [
    "На диаграмме рассеивания заметно, что зависимость также существует, она прямо пропорциональна (цена растёт по мере увеличения площади квартир, выставленных на продажу) и, кажется, что зависимость вполне сильная. Сгруппировать значения по общей площади не получится, т.к. нет интервалов, поэтому попробую просто сразу рассчитать коэффициент Пирсона."
   ]
  },
  {
   "cell_type": "code",
   "execution_count": 84,
   "metadata": {},
   "outputs": [
    {
     "name": "stdout",
     "output_type": "stream",
     "text": [
      "0.7430010024694198\n"
     ]
    }
   ],
   "source": [
    "print(improved_data['price_in_mln'].corr(improved_data['total_area']))"
   ]
  },
  {
   "cell_type": "markdown",
   "metadata": {},
   "source": [
    "Да, корреляция определенно существенная - 0,74."
   ]
  },
  {
   "cell_type": "markdown",
   "metadata": {},
   "source": [
    "##### Следующий параметр, который попробую изучить - удаленность от центра."
   ]
  },
  {
   "cell_type": "code",
   "execution_count": 85,
   "metadata": {},
   "outputs": [
    {
     "data": {
      "text/plain": [
       "<matplotlib.axes._subplots.AxesSubplot at 0x7f059babe8d0>"
      ]
     },
     "execution_count": 85,
     "metadata": {},
     "output_type": "execute_result"
    },
    {
     "data": {
      "image/png": "[encoded data removed]",
      "text/plain": [
       "<Figure size 432x288 with 1 Axes>"
      ]
     },
     "metadata": {
      "needs_background": "light"
     },
     "output_type": "display_data"
    }
   ],
   "source": [
    "improved_data.plot(x='cityCenters_nearest', y='price_in_mln', kind='scatter', grid=True)"
   ]
  },
  {
   "cell_type": "markdown",
   "metadata": {},
   "source": [
    "В данном случае зависимость сложнее отследить, т.к. есть большое количество пропущенных значений. То есть, в объявлениях изначально не указывалась удаленность от центров населенных пунктов - то ли намеренно, то ли случайно. Всё равно попробую рассчитать коэффициент корреляции."
   ]
  },
  {
   "cell_type": "code",
   "execution_count": 86,
   "metadata": {},
   "outputs": [
    {
     "name": "stdout",
     "output_type": "stream",
     "text": [
      "-0.35466270794282995\n"
     ]
    }
   ],
   "source": [
    "print(improved_data['price_in_mln'].corr(improved_data['cityCenters_nearest']))"
   ]
  },
  {
   "cell_type": "markdown",
   "metadata": {},
   "source": [
    "Зависимость обратно пропорционально - что логично (чем дальше от центра, тем квартира дешевле). Но, при этом, она достаточно слабо выражена. Но вот если бы данные во всех объявлениях были заполнены, то, думаю, что зависимость выглядела бы существеннее."
   ]
  },
  {
   "cell_type": "markdown",
   "metadata": {},
   "source": [
    "##### Теперь изучу влияние этажа, на котором расположена квартира, на ее стоимость."
   ]
  },
  {
   "cell_type": "code",
   "execution_count": 87,
   "metadata": {},
   "outputs": [
    {
     "data": {
      "text/html": [
       "<div>\n",
       "<style scoped>\n",
       "    .dataframe tbody tr th:only-of-type {\n",
       "        vertical-align: middle;\n",
       "    }\n",
       "\n",
       "    .dataframe tbody tr th {\n",
       "        vertical-align: top;\n",
       "    }\n",
       "\n",
       "    .dataframe thead th {\n",
       "        text-align: right;\n",
       "    }\n",
       "</style>\n",
       "<table border=\"1\" class=\"dataframe\">\n",
       "  <thead>\n",
       "    <tr style=\"text-align: right;\">\n",
       "      <th></th>\n",
       "      <th>price_in_mln</th>\n",
       "    </tr>\n",
       "    <tr>\n",
       "      <th>grouped_floors</th>\n",
       "      <th></th>\n",
       "    </tr>\n",
       "  </thead>\n",
       "  <tbody>\n",
       "    <tr>\n",
       "      <td>другой</td>\n",
       "      <td>5.324879</td>\n",
       "    </tr>\n",
       "    <tr>\n",
       "      <td>первый</td>\n",
       "      <td>4.230957</td>\n",
       "    </tr>\n",
       "    <tr>\n",
       "      <td>последний</td>\n",
       "      <td>4.778577</td>\n",
       "    </tr>\n",
       "  </tbody>\n",
       "</table>\n",
       "</div>"
      ],
      "text/plain": [
       "                price_in_mln\n",
       "grouped_floors              \n",
       "другой              5.324879\n",
       "первый              4.230957\n",
       "последний           4.778577"
      ]
     },
     "execution_count": 87,
     "metadata": {},
     "output_type": "execute_result"
    }
   ],
   "source": [
    "#сделаю сводную таблицу уже по сгруппированным значениям этажей\n",
    "improved_data.pivot_table(index='grouped_floors', values='price_in_mln')"
   ]
  },
  {
   "cell_type": "markdown",
   "metadata": {},
   "source": [
    "Логично было ожидать, что квартиры на первом и последнем этажах имеют несколько ниже стоимость, чем квартиры на любых других этажах. Построю график зависимости и рассчитаю коэффицент Пирсона (не по сгруппированным значениям, а по стандартным - floor)."
   ]
  },
  {
   "cell_type": "code",
   "execution_count": 88,
   "metadata": {
    "scrolled": true
   },
   "outputs": [
    {
     "data": {
      "text/plain": [
       "<matplotlib.axes._subplots.AxesSubplot at 0x7f059b9ffc90>"
      ]
     },
     "execution_count": 88,
     "metadata": {},
     "output_type": "execute_result"
    },
    {
     "data": {
      "image/png": "[encoded data removed]",
      "text/plain": [
       "<Figure size 864x360 with 1 Axes>"
      ]
     },
     "metadata": {
      "needs_background": "light"
     },
     "output_type": "display_data"
    }
   ],
   "source": [
    "improved_data.pivot_table(index='grouped_floors', values='price_in_mln').sort_values('price_in_mln').plot(grid=True, figsize=(12, 5))"
   ]
  },
  {
   "cell_type": "markdown",
   "metadata": {},
   "source": [
    "Квартиры на первом этаже имеют самую низкую стоимость, квартиры на последнем - где-то посередине в распределении цен, а выше всего ценятся квартиры на любом другом этаже."
   ]
  },
  {
   "cell_type": "code",
   "execution_count": 89,
   "metadata": {},
   "outputs": [
    {
     "name": "stdout",
     "output_type": "stream",
     "text": [
      "0.11560539054679549\n"
     ]
    }
   ],
   "source": [
    "print(improved_data['price_in_mln'].corr(improved_data['floor']))"
   ]
  },
  {
   "cell_type": "markdown",
   "metadata": {},
   "source": [
    "Интересное наблюдение: при построении графика зависимости от сгруппированных этажей видна прямо пропорциональная зависимость, а вот при расчете коэффицента Пирсона уровень корреляции оказался очень низким - всего 0,116."
   ]
  },
  {
   "cell_type": "markdown",
   "metadata": {},
   "source": [
    "##### Далее - зависимость цены от дня недели размещения объявления о продаже:"
   ]
  },
  {
   "cell_type": "code",
   "execution_count": 90,
   "metadata": {
    "scrolled": true
   },
   "outputs": [
    {
     "data": {
      "text/html": [
       "<div>\n",
       "<style scoped>\n",
       "    .dataframe tbody tr th:only-of-type {\n",
       "        vertical-align: middle;\n",
       "    }\n",
       "\n",
       "    .dataframe tbody tr th {\n",
       "        vertical-align: top;\n",
       "    }\n",
       "\n",
       "    .dataframe thead th {\n",
       "        text-align: right;\n",
       "    }\n",
       "</style>\n",
       "<table border=\"1\" class=\"dataframe\">\n",
       "  <thead>\n",
       "    <tr style=\"text-align: right;\">\n",
       "      <th></th>\n",
       "      <th>price_in_mln</th>\n",
       "    </tr>\n",
       "    <tr>\n",
       "      <th>weekday</th>\n",
       "      <th></th>\n",
       "    </tr>\n",
       "  </thead>\n",
       "  <tbody>\n",
       "    <tr>\n",
       "      <td>0</td>\n",
       "      <td>5.099994</td>\n",
       "    </tr>\n",
       "    <tr>\n",
       "      <td>1</td>\n",
       "      <td>5.179960</td>\n",
       "    </tr>\n",
       "    <tr>\n",
       "      <td>2</td>\n",
       "      <td>5.141001</td>\n",
       "    </tr>\n",
       "    <tr>\n",
       "      <td>3</td>\n",
       "      <td>5.113430</td>\n",
       "    </tr>\n",
       "    <tr>\n",
       "      <td>4</td>\n",
       "      <td>5.102351</td>\n",
       "    </tr>\n",
       "    <tr>\n",
       "      <td>5</td>\n",
       "      <td>5.012485</td>\n",
       "    </tr>\n",
       "    <tr>\n",
       "      <td>6</td>\n",
       "      <td>5.036049</td>\n",
       "    </tr>\n",
       "  </tbody>\n",
       "</table>\n",
       "</div>"
      ],
      "text/plain": [
       "         price_in_mln\n",
       "weekday              \n",
       "0            5.099994\n",
       "1            5.179960\n",
       "2            5.141001\n",
       "3            5.113430\n",
       "4            5.102351\n",
       "5            5.012485\n",
       "6            5.036049"
      ]
     },
     "execution_count": 90,
     "metadata": {},
     "output_type": "execute_result"
    }
   ],
   "source": [
    "improved_data.pivot_table(index='weekday', values='price_in_mln')"
   ]
  },
  {
   "cell_type": "markdown",
   "metadata": {},
   "source": [
    "Судя по всему, никакой зависимости в данном случае не наблюдается. Это докажет и расчет коэффициент Пирсона:"
   ]
  },
  {
   "cell_type": "code",
   "execution_count": 91,
   "metadata": {},
   "outputs": [
    {
     "name": "stdout",
     "output_type": "stream",
     "text": [
      "-0.012204385148714478\n"
     ]
    }
   ],
   "source": [
    "print(improved_data['price_in_mln'].corr(improved_data['weekday']))"
   ]
  },
  {
   "cell_type": "markdown",
   "metadata": {},
   "source": [
    "##### Теперь посмотрю, есть ли зависимость от месяца размещения объявлений:"
   ]
  },
  {
   "cell_type": "code",
   "execution_count": 92,
   "metadata": {},
   "outputs": [
    {
     "data": {
      "text/html": [
       "<div>\n",
       "<style scoped>\n",
       "    .dataframe tbody tr th:only-of-type {\n",
       "        vertical-align: middle;\n",
       "    }\n",
       "\n",
       "    .dataframe tbody tr th {\n",
       "        vertical-align: top;\n",
       "    }\n",
       "\n",
       "    .dataframe thead th {\n",
       "        text-align: right;\n",
       "    }\n",
       "</style>\n",
       "<table border=\"1\" class=\"dataframe\">\n",
       "  <thead>\n",
       "    <tr style=\"text-align: right;\">\n",
       "      <th></th>\n",
       "      <th>price_in_mln</th>\n",
       "    </tr>\n",
       "    <tr>\n",
       "      <th>month_exposition</th>\n",
       "      <th></th>\n",
       "    </tr>\n",
       "  </thead>\n",
       "  <tbody>\n",
       "    <tr>\n",
       "      <td>1</td>\n",
       "      <td>5.058219</td>\n",
       "    </tr>\n",
       "    <tr>\n",
       "      <td>2</td>\n",
       "      <td>5.096932</td>\n",
       "    </tr>\n",
       "    <tr>\n",
       "      <td>3</td>\n",
       "      <td>5.098487</td>\n",
       "    </tr>\n",
       "    <tr>\n",
       "      <td>4</td>\n",
       "      <td>5.220171</td>\n",
       "    </tr>\n",
       "    <tr>\n",
       "      <td>5</td>\n",
       "      <td>5.103993</td>\n",
       "    </tr>\n",
       "    <tr>\n",
       "      <td>6</td>\n",
       "      <td>4.923335</td>\n",
       "    </tr>\n",
       "    <tr>\n",
       "      <td>7</td>\n",
       "      <td>5.142307</td>\n",
       "    </tr>\n",
       "    <tr>\n",
       "      <td>8</td>\n",
       "      <td>5.080573</td>\n",
       "    </tr>\n",
       "    <tr>\n",
       "      <td>9</td>\n",
       "      <td>5.246142</td>\n",
       "    </tr>\n",
       "    <tr>\n",
       "      <td>10</td>\n",
       "      <td>5.084118</td>\n",
       "    </tr>\n",
       "    <tr>\n",
       "      <td>11</td>\n",
       "      <td>5.165511</td>\n",
       "    </tr>\n",
       "    <tr>\n",
       "      <td>12</td>\n",
       "      <td>5.053089</td>\n",
       "    </tr>\n",
       "  </tbody>\n",
       "</table>\n",
       "</div>"
      ],
      "text/plain": [
       "                  price_in_mln\n",
       "month_exposition              \n",
       "1                     5.058219\n",
       "2                     5.096932\n",
       "3                     5.098487\n",
       "4                     5.220171\n",
       "5                     5.103993\n",
       "6                     4.923335\n",
       "7                     5.142307\n",
       "8                     5.080573\n",
       "9                     5.246142\n",
       "10                    5.084118\n",
       "11                    5.165511\n",
       "12                    5.053089"
      ]
     },
     "execution_count": 92,
     "metadata": {},
     "output_type": "execute_result"
    }
   ],
   "source": [
    "improved_data.pivot_table(index='month_exposition', values='price_in_mln')"
   ]
  },
  {
   "cell_type": "code",
   "execution_count": 93,
   "metadata": {},
   "outputs": [
    {
     "data": {
      "text/plain": [
       "<matplotlib.axes._subplots.AxesSubplot at 0x7f059b849750>"
      ]
     },
     "execution_count": 93,
     "metadata": {},
     "output_type": "execute_result"
    },
    {
     "data": {
      "image/png": "[encoded data removed]",
      "text/plain": [
       "<Figure size 864x360 with 1 Axes>"
      ]
     },
     "metadata": {
      "needs_background": "light"
     },
     "output_type": "display_data"
    }
   ],
   "source": [
    "improved_data.pivot_table(index='month_exposition', values='price_in_mln').plot(grid=True, figsize=(12, 5))"
   ]
  },
  {
   "cell_type": "markdown",
   "metadata": {},
   "source": [
    "В летние месяцы, особенно в июне, наблюдается спад - цена квартир в объявлениях ниже, чем в другие месяцы. Это весьма логично: в летний период недвижимость продаётся или сдаётся несколько хуже. Хотя, например, загородные дома и дачи, по идее, должны продаваться лучше. В любом случае, существенной зависимости, кроме лета, не наблюдается."
   ]
  },
  {
   "cell_type": "code",
   "execution_count": 94,
   "metadata": {},
   "outputs": [
    {
     "data": {
      "text/html": [
       "<div>\n",
       "<style scoped>\n",
       "    .dataframe tbody tr th:only-of-type {\n",
       "        vertical-align: middle;\n",
       "    }\n",
       "\n",
       "    .dataframe tbody tr th {\n",
       "        vertical-align: top;\n",
       "    }\n",
       "\n",
       "    .dataframe thead th {\n",
       "        text-align: right;\n",
       "    }\n",
       "</style>\n",
       "<table border=\"1\" class=\"dataframe\">\n",
       "  <thead>\n",
       "    <tr style=\"text-align: right;\">\n",
       "      <th></th>\n",
       "      <th>price_in_mln</th>\n",
       "    </tr>\n",
       "    <tr>\n",
       "      <th>year_exposition</th>\n",
       "      <th></th>\n",
       "    </tr>\n",
       "  </thead>\n",
       "  <tbody>\n",
       "    <tr>\n",
       "      <td>2014</td>\n",
       "      <td>6.587813</td>\n",
       "    </tr>\n",
       "    <tr>\n",
       "      <td>2015</td>\n",
       "      <td>5.458982</td>\n",
       "    </tr>\n",
       "    <tr>\n",
       "      <td>2016</td>\n",
       "      <td>5.083185</td>\n",
       "    </tr>\n",
       "    <tr>\n",
       "      <td>2017</td>\n",
       "      <td>5.043807</td>\n",
       "    </tr>\n",
       "    <tr>\n",
       "      <td>2018</td>\n",
       "      <td>5.030780</td>\n",
       "    </tr>\n",
       "    <tr>\n",
       "      <td>2019</td>\n",
       "      <td>5.432734</td>\n",
       "    </tr>\n",
       "  </tbody>\n",
       "</table>\n",
       "</div>"
      ],
      "text/plain": [
       "                 price_in_mln\n",
       "year_exposition              \n",
       "2014                 6.587813\n",
       "2015                 5.458982\n",
       "2016                 5.083185\n",
       "2017                 5.043807\n",
       "2018                 5.030780\n",
       "2019                 5.432734"
      ]
     },
     "execution_count": 94,
     "metadata": {},
     "output_type": "execute_result"
    }
   ],
   "source": [
    "improved_data.pivot_table(index='year_exposition', values='price_in_mln')"
   ]
  },
  {
   "cell_type": "code",
   "execution_count": 95,
   "metadata": {},
   "outputs": [
    {
     "data": {
      "text/plain": [
       "<matplotlib.axes._subplots.AxesSubplot at 0x7f059b83e8d0>"
      ]
     },
     "execution_count": 95,
     "metadata": {},
     "output_type": "execute_result"
    },
    {
     "data": {
      "image/png": "[encoded data removed]",
      "text/plain": [
       "<Figure size 864x360 with 1 Axes>"
      ]
     },
     "metadata": {
      "needs_background": "light"
     },
     "output_type": "display_data"
    }
   ],
   "source": [
    "improved_data.pivot_table(index='year_exposition', values='price_in_mln').plot(grid=True, figsize=(12, 5))"
   ]
  },
  {
   "cell_type": "markdown",
   "metadata": {},
   "source": [
    "Это интересно: в 2014 на фоне девальвации рубля, скорее всего, спрос на квартиры был очень высок - все стремились избавиться от резко падающего в курсе рубля, вложив средства в недвижимость. А затем ситуация выровнялась. Оживление началось в 2018-м году - скорее всего, ввиду стабилизации экономической и финансовой ситуации. Зависимость, при этом, сложно оценить как существенную. Это подтвердит и коэффициент Пирсона:"
   ]
  },
  {
   "cell_type": "code",
   "execution_count": 96,
   "metadata": {},
   "outputs": [
    {
     "name": "stdout",
     "output_type": "stream",
     "text": [
      "0.005075278729429493\n"
     ]
    }
   ],
   "source": [
    "print(improved_data['price_in_mln'].corr(improved_data['year_exposition']))"
   ]
  },
  {
   "cell_type": "markdown",
   "metadata": {},
   "source": [
    "##### Для выполнения следующего задания необходимо выбрать 10 населённых пунктов с наибольшим числом объявлений."
   ]
  },
  {
   "cell_type": "code",
   "execution_count": 97,
   "metadata": {},
   "outputs": [
    {
     "data": {
      "text/plain": [
       "Санкт-Петербург      14229\n",
       "посёлок Мурино         517\n",
       "посёлок Шушары         436\n",
       "Всеволожск             385\n",
       "Пушкин                 342\n",
       "Колпино                333\n",
       "посёлок Парголово      324\n",
       "Гатчина                305\n",
       "деревня Кудрово        294\n",
       "Выборг                 233\n",
       "Name: locality_name, dtype: int64"
      ]
     },
     "execution_count": 97,
     "metadata": {},
     "output_type": "execute_result"
    }
   ],
   "source": [
    "improved_data['locality_name'].value_counts().head(10)"
   ]
  },
  {
   "cell_type": "code",
   "execution_count": 98,
   "metadata": {
    "scrolled": true
   },
   "outputs": [
    {
     "name": "stdout",
     "output_type": "stream",
     "text": [
      "['Санкт-Петербург', 'посёлок Мурино', 'посёлок Шушары', 'Всеволожск', 'Пушкин', 'Колпино', 'посёлок Парголово', 'Гатчина', 'деревня Кудрово', 'Выборг']\n"
     ]
    }
   ],
   "source": [
    "#Сохраню названия этих 10-ти населенных пунктов в список и сохраню в переменной top10_list:\n",
    "top10_list = improved_data['locality_name'].value_counts().head(10).index.tolist()\n",
    "print(top10_list)"
   ]
  },
  {
   "cell_type": "code",
   "execution_count": 99,
   "metadata": {
    "scrolled": false
   },
   "outputs": [],
   "source": [
    "#Теперь сделаю срез данных (сохраню в датафрейме top10_data) по ограниченю названия населенного пункта:\n",
    "top10_data = improved_data.query('locality_name in @top10_list')"
   ]
  },
  {
   "cell_type": "markdown",
   "metadata": {},
   "source": [
    "И теперь сгруппирую значения цены (средние) по этим 10-ти населённым пунктам. Сразу отсортирую эти значения по убыванию."
   ]
  },
  {
   "cell_type": "code",
   "execution_count": 100,
   "metadata": {},
   "outputs": [
    {
     "data": {
      "text/html": [
       "<div>\n",
       "<style scoped>\n",
       "    .dataframe tbody tr th:only-of-type {\n",
       "        vertical-align: middle;\n",
       "    }\n",
       "\n",
       "    .dataframe tbody tr th {\n",
       "        vertical-align: top;\n",
       "    }\n",
       "\n",
       "    .dataframe thead th {\n",
       "        text-align: right;\n",
       "    }\n",
       "</style>\n",
       "<table border=\"1\" class=\"dataframe\">\n",
       "  <thead>\n",
       "    <tr style=\"text-align: right;\">\n",
       "      <th></th>\n",
       "      <th>price_in_mln</th>\n",
       "    </tr>\n",
       "    <tr>\n",
       "      <th>locality_name</th>\n",
       "      <th></th>\n",
       "    </tr>\n",
       "  </thead>\n",
       "  <tbody>\n",
       "    <tr>\n",
       "      <td>Санкт-Петербург</td>\n",
       "      <td>6.024976</td>\n",
       "    </tr>\n",
       "    <tr>\n",
       "      <td>Пушкин</td>\n",
       "      <td>5.628817</td>\n",
       "    </tr>\n",
       "    <tr>\n",
       "      <td>посёлок Парголово</td>\n",
       "      <td>4.469662</td>\n",
       "    </tr>\n",
       "    <tr>\n",
       "      <td>деревня Кудрово</td>\n",
       "      <td>4.233760</td>\n",
       "    </tr>\n",
       "    <tr>\n",
       "      <td>посёлок Шушары</td>\n",
       "      <td>4.114374</td>\n",
       "    </tr>\n",
       "    <tr>\n",
       "      <td>Колпино</td>\n",
       "      <td>3.860601</td>\n",
       "    </tr>\n",
       "    <tr>\n",
       "      <td>Всеволожск</td>\n",
       "      <td>3.729886</td>\n",
       "    </tr>\n",
       "    <tr>\n",
       "      <td>посёлок Мурино</td>\n",
       "      <td>3.665115</td>\n",
       "    </tr>\n",
       "    <tr>\n",
       "      <td>Гатчина</td>\n",
       "      <td>3.487277</td>\n",
       "    </tr>\n",
       "    <tr>\n",
       "      <td>Выборг</td>\n",
       "      <td>3.167781</td>\n",
       "    </tr>\n",
       "  </tbody>\n",
       "</table>\n",
       "</div>"
      ],
      "text/plain": [
       "                   price_in_mln\n",
       "locality_name                  \n",
       "Санкт-Петербург        6.024976\n",
       "Пушкин                 5.628817\n",
       "посёлок Парголово      4.469662\n",
       "деревня Кудрово        4.233760\n",
       "посёлок Шушары         4.114374\n",
       "Колпино                3.860601\n",
       "Всеволожск             3.729886\n",
       "посёлок Мурино         3.665115\n",
       "Гатчина                3.487277\n",
       "Выборг                 3.167781"
      ]
     },
     "execution_count": 100,
     "metadata": {},
     "output_type": "execute_result"
    }
   ],
   "source": [
    "top10_data.pivot_table(index='locality_name', values='price_in_mln').sort_values('price_in_mln', ascending=False)"
   ]
  },
  {
   "cell_type": "markdown",
   "metadata": {},
   "source": [
    "Самая высокая стоимость жилья - в Санкт-Петербурге (закономерно) - в среднем 6.02 млн. руб., самая низкая из первых 10-ти пунктов - в Выборге - в среднем 3.17 млн. руб."
   ]
  },
  {
   "cell_type": "markdown",
   "metadata": {},
   "source": [
    "##### Следующий анализ - уже по квартирам в Санкт-Петербурге, для чего выделю датафрейм spb_data."
   ]
  },
  {
   "cell_type": "code",
   "execution_count": 101,
   "metadata": {},
   "outputs": [
    {
     "name": "stdout",
     "output_type": "stream",
     "text": [
      "<class 'pandas.core.frame.DataFrame'>\n",
      "Int64Index: 14229 entries, 0 to 22004\n",
      "Data columns (total 30 columns):\n",
      "total_images            14229 non-null int64\n",
      "last_price              14229 non-null int64\n",
      "total_area              14229 non-null float64\n",
      "first_day_exposition    14229 non-null datetime64[ns]\n",
      "rooms                   14229 non-null int64\n",
      "ceiling_height          9081 non-null float64\n",
      "floors_total            14166 non-null float64\n",
      "living_area             14229 non-null float64\n",
      "floor                   14229 non-null int64\n",
      "is_apartment            14229 non-null bool\n",
      "studio                  14229 non-null bool\n",
      "open_plan               14229 non-null bool\n",
      "kitchen_area            14229 non-null float64\n",
      "balcony                 14229 non-null int64\n",
      "locality_name           14229 non-null object\n",
      "airports_nearest        14170 non-null float64\n",
      "cityCenters_nearest     14186 non-null float64\n",
      "parks_around3000        14229 non-null int64\n",
      "parks_nearest           6294 non-null float64\n",
      "ponds_around3000        14229 non-null int64\n",
      "ponds_nearest           6980 non-null float64\n",
      "days_exposition         14229 non-null int64\n",
      "price_per_sqm           14229 non-null float64\n",
      "weekday                 14229 non-null int64\n",
      "month_exposition        14229 non-null int64\n",
      "year_exposition         14229 non-null int64\n",
      "grouped_floors          14229 non-null object\n",
      "living_to_total         14229 non-null float64\n",
      "kitchen_to_total        14229 non-null float64\n",
      "price_in_mln            14229 non-null float64\n",
      "dtypes: bool(3), datetime64[ns](1), float64(13), int64(11), object(2)\n",
      "memory usage: 3.1+ MB\n"
     ]
    }
   ],
   "source": [
    "spb = 'Санкт-Петербург'\n",
    "spb_data = improved_data.query('locality_name == @spb')\n",
    "spb_data.info()"
   ]
  },
  {
   "cell_type": "markdown",
   "metadata": {},
   "source": [
    "Добавлю в новый датафрейм новый столбец center_in_km - расчет расстояния до центра в км. Удалю na значения по столбцам с расстоянием, т.к. необходимо исследовать именно расстояние от центра и влияние этого параметра на цену квартиры. После сброса nan-значений можно перевести значения нового столбца center_in_km в целочисленные."
   ]
  },
  {
   "cell_type": "code",
   "execution_count": 102,
   "metadata": {
    "scrolled": false
   },
   "outputs": [
    {
     "name": "stdout",
     "output_type": "stream",
     "text": [
      "<class 'pandas.core.frame.DataFrame'>\n",
      "RangeIndex: 14186 entries, 0 to 14185\n",
      "Data columns (total 31 columns):\n",
      "total_images            14186 non-null int64\n",
      "last_price              14186 non-null int64\n",
      "total_area              14186 non-null float64\n",
      "first_day_exposition    14186 non-null datetime64[ns]\n",
      "rooms                   14186 non-null int64\n",
      "ceiling_height          9060 non-null float64\n",
      "floors_total            14124 non-null float64\n",
      "living_area             14186 non-null float64\n",
      "floor                   14186 non-null int64\n",
      "is_apartment            14186 non-null bool\n",
      "studio                  14186 non-null bool\n",
      "open_plan               14186 non-null bool\n",
      "kitchen_area            14186 non-null float64\n",
      "balcony                 14186 non-null int64\n",
      "locality_name           14186 non-null object\n",
      "airports_nearest        14170 non-null float64\n",
      "cityCenters_nearest     14186 non-null float64\n",
      "parks_around3000        14186 non-null int64\n",
      "parks_nearest           6294 non-null float64\n",
      "ponds_around3000        14186 non-null int64\n",
      "ponds_nearest           6980 non-null float64\n",
      "days_exposition         14186 non-null int64\n",
      "price_per_sqm           14186 non-null float64\n",
      "weekday                 14186 non-null int64\n",
      "month_exposition        14186 non-null int64\n",
      "year_exposition         14186 non-null int64\n",
      "grouped_floors          14186 non-null object\n",
      "living_to_total         14186 non-null float64\n",
      "kitchen_to_total        14186 non-null float64\n",
      "price_in_mln            14186 non-null float64\n",
      "center_in_km            14186 non-null int64\n",
      "dtypes: bool(3), datetime64[ns](1), float64(13), int64(12), object(2)\n",
      "memory usage: 3.1+ MB\n"
     ]
    },
    {
     "name": "stderr",
     "output_type": "stream",
     "text": [
      "/opt/conda/lib/python3.7/site-packages/ipykernel_launcher.py:1: SettingWithCopyWarning: \n",
      "A value is trying to be set on a copy of a slice from a DataFrame.\n",
      "Try using .loc[row_indexer,col_indexer] = value instead\n",
      "\n",
      "See the caveats in the documentation: http://pandas.pydata.org/pandas-docs/stable/user_guide/indexing.html#returning-a-view-versus-a-copy\n",
      "  \"\"\"Entry point for launching an IPython kernel.\n"
     ]
    }
   ],
   "source": [
    "spb_data['center_in_km'] = spb_data['cityCenters_nearest'] / 1000\n",
    "spb_data = spb_data.dropna(subset=['cityCenters_nearest', 'center_in_km'])\n",
    "spb_data = spb_data.reset_index(drop=True)\n",
    "spb_data['center_in_km'] = spb_data['center_in_km'].astype('int')\n",
    "spb_data.info()"
   ]
  },
  {
   "cell_type": "code",
   "execution_count": 103,
   "metadata": {
    "scrolled": false
   },
   "outputs": [
    {
     "data": {
      "text/html": [
       "<div>\n",
       "<style scoped>\n",
       "    .dataframe tbody tr th:only-of-type {\n",
       "        vertical-align: middle;\n",
       "    }\n",
       "\n",
       "    .dataframe tbody tr th {\n",
       "        vertical-align: top;\n",
       "    }\n",
       "\n",
       "    .dataframe thead th {\n",
       "        text-align: right;\n",
       "    }\n",
       "</style>\n",
       "<table border=\"1\" class=\"dataframe\">\n",
       "  <thead>\n",
       "    <tr style=\"text-align: right;\">\n",
       "      <th></th>\n",
       "      <th>price_in_mln</th>\n",
       "    </tr>\n",
       "    <tr>\n",
       "      <th>center_in_km</th>\n",
       "      <th></th>\n",
       "    </tr>\n",
       "  </thead>\n",
       "  <tbody>\n",
       "    <tr>\n",
       "      <td>0</td>\n",
       "      <td>9.281000</td>\n",
       "    </tr>\n",
       "    <tr>\n",
       "      <td>1</td>\n",
       "      <td>9.123640</td>\n",
       "    </tr>\n",
       "    <tr>\n",
       "      <td>2</td>\n",
       "      <td>8.463227</td>\n",
       "    </tr>\n",
       "    <tr>\n",
       "      <td>3</td>\n",
       "      <td>8.220415</td>\n",
       "    </tr>\n",
       "    <tr>\n",
       "      <td>4</td>\n",
       "      <td>8.598066</td>\n",
       "    </tr>\n",
       "    <tr>\n",
       "      <td>5</td>\n",
       "      <td>7.930921</td>\n",
       "    </tr>\n",
       "    <tr>\n",
       "      <td>6</td>\n",
       "      <td>7.534826</td>\n",
       "    </tr>\n",
       "    <tr>\n",
       "      <td>7</td>\n",
       "      <td>7.290983</td>\n",
       "    </tr>\n",
       "    <tr>\n",
       "      <td>8</td>\n",
       "      <td>6.773934</td>\n",
       "    </tr>\n",
       "    <tr>\n",
       "      <td>9</td>\n",
       "      <td>5.738528</td>\n",
       "    </tr>\n",
       "    <tr>\n",
       "      <td>10</td>\n",
       "      <td>5.606455</td>\n",
       "    </tr>\n",
       "    <tr>\n",
       "      <td>11</td>\n",
       "      <td>5.510373</td>\n",
       "    </tr>\n",
       "    <tr>\n",
       "      <td>12</td>\n",
       "      <td>5.674428</td>\n",
       "    </tr>\n",
       "    <tr>\n",
       "      <td>13</td>\n",
       "      <td>5.770215</td>\n",
       "    </tr>\n",
       "    <tr>\n",
       "      <td>14</td>\n",
       "      <td>5.447371</td>\n",
       "    </tr>\n",
       "    <tr>\n",
       "      <td>15</td>\n",
       "      <td>5.337661</td>\n",
       "    </tr>\n",
       "    <tr>\n",
       "      <td>16</td>\n",
       "      <td>5.178565</td>\n",
       "    </tr>\n",
       "    <tr>\n",
       "      <td>17</td>\n",
       "      <td>4.752480</td>\n",
       "    </tr>\n",
       "    <tr>\n",
       "      <td>18</td>\n",
       "      <td>4.928453</td>\n",
       "    </tr>\n",
       "    <tr>\n",
       "      <td>19</td>\n",
       "      <td>4.664925</td>\n",
       "    </tr>\n",
       "    <tr>\n",
       "      <td>20</td>\n",
       "      <td>6.365864</td>\n",
       "    </tr>\n",
       "    <tr>\n",
       "      <td>21</td>\n",
       "      <td>5.075824</td>\n",
       "    </tr>\n",
       "    <tr>\n",
       "      <td>22</td>\n",
       "      <td>5.095368</td>\n",
       "    </tr>\n",
       "    <tr>\n",
       "      <td>23</td>\n",
       "      <td>4.073429</td>\n",
       "    </tr>\n",
       "    <tr>\n",
       "      <td>24</td>\n",
       "      <td>3.862235</td>\n",
       "    </tr>\n",
       "    <tr>\n",
       "      <td>25</td>\n",
       "      <td>4.014913</td>\n",
       "    </tr>\n",
       "    <tr>\n",
       "      <td>26</td>\n",
       "      <td>3.575000</td>\n",
       "    </tr>\n",
       "    <tr>\n",
       "      <td>27</td>\n",
       "      <td>8.300000</td>\n",
       "    </tr>\n",
       "    <tr>\n",
       "      <td>28</td>\n",
       "      <td>4.910500</td>\n",
       "    </tr>\n",
       "    <tr>\n",
       "      <td>29</td>\n",
       "      <td>3.833333</td>\n",
       "    </tr>\n",
       "  </tbody>\n",
       "</table>\n",
       "</div>"
      ],
      "text/plain": [
       "              price_in_mln\n",
       "center_in_km              \n",
       "0                 9.281000\n",
       "1                 9.123640\n",
       "2                 8.463227\n",
       "3                 8.220415\n",
       "4                 8.598066\n",
       "5                 7.930921\n",
       "6                 7.534826\n",
       "7                 7.290983\n",
       "8                 6.773934\n",
       "9                 5.738528\n",
       "10                5.606455\n",
       "11                5.510373\n",
       "12                5.674428\n",
       "13                5.770215\n",
       "14                5.447371\n",
       "15                5.337661\n",
       "16                5.178565\n",
       "17                4.752480\n",
       "18                4.928453\n",
       "19                4.664925\n",
       "20                6.365864\n",
       "21                5.075824\n",
       "22                5.095368\n",
       "23                4.073429\n",
       "24                3.862235\n",
       "25                4.014913\n",
       "26                3.575000\n",
       "27                8.300000\n",
       "28                4.910500\n",
       "29                3.833333"
      ]
     },
     "execution_count": 103,
     "metadata": {},
     "output_type": "execute_result"
    }
   ],
   "source": [
    "# Посчитаю среднюю цену для каждого километра удаленности от центра:\n",
    "spb_data.pivot_table(index='center_in_km', values='price_in_mln')"
   ]
  },
  {
   "cell_type": "code",
   "execution_count": 104,
   "metadata": {
    "scrolled": true
   },
   "outputs": [
    {
     "data": {
      "text/plain": [
       "<matplotlib.axes._subplots.AxesSubplot at 0x7f059b788550>"
      ]
     },
     "execution_count": 104,
     "metadata": {},
     "output_type": "execute_result"
    },
    {
     "data": {
      "image/png": "[encoded data removed]",
      "text/plain": [
       "<Figure size 864x360 with 1 Axes>"
      ]
     },
     "metadata": {
      "needs_background": "light"
     },
     "output_type": "display_data"
    }
   ],
   "source": [
    "# Построю график, показывающий зависимость цены от удалённоти от центра (в км):\n",
    "spb_data.pivot_table(index='center_in_km', values='price_in_mln').plot(grid=True, figsize=(12, 5))"
   ]
  },
  {
   "cell_type": "markdown",
   "metadata": {},
   "source": [
    "Из графика видно, что цена, в целом, снижается по мере того, как расположение квартир удаляется от центра. Есть резкий скачок в 27-ми км от центра, но можно предположить, что это какой-то элитный жилой комплекс или целый район с элитной недвижимостью, поэтому стоимость жилья там выше.\n",
    "Также из графика видно, что после отметки в 4-5 км от центра цена начинает резко снижаться. Можно предположить, что где-то в интервале от 4 до 5 км от центра и заканчивается центральная зона. Буду считать ее всё-таки в пределах 5-ти км - круглой цифры."
   ]
  },
  {
   "cell_type": "code",
   "execution_count": 105,
   "metadata": {},
   "outputs": [
    {
     "name": "stdout",
     "output_type": "stream",
     "text": [
      "<class 'pandas.core.frame.DataFrame'>\n",
      "RangeIndex: 2046 entries, 0 to 2045\n",
      "Data columns (total 31 columns):\n",
      "total_images            2046 non-null int64\n",
      "last_price              2046 non-null int64\n",
      "total_area              2046 non-null float64\n",
      "first_day_exposition    2046 non-null datetime64[ns]\n",
      "rooms                   2046 non-null int64\n",
      "ceiling_height          1317 non-null float64\n",
      "floors_total            2043 non-null float64\n",
      "living_area             2046 non-null float64\n",
      "floor                   2046 non-null int64\n",
      "is_apartment            2046 non-null bool\n",
      "studio                  2046 non-null bool\n",
      "open_plan               2046 non-null bool\n",
      "kitchen_area            2046 non-null float64\n",
      "balcony                 2046 non-null int64\n",
      "locality_name           2046 non-null object\n",
      "airports_nearest        2044 non-null float64\n",
      "cityCenters_nearest     2046 non-null float64\n",
      "parks_around3000        2046 non-null int64\n",
      "parks_nearest           1287 non-null float64\n",
      "ponds_around3000        2046 non-null int64\n",
      "ponds_nearest           1474 non-null float64\n",
      "days_exposition         2046 non-null int64\n",
      "price_per_sqm           2046 non-null float64\n",
      "weekday                 2046 non-null int64\n",
      "month_exposition        2046 non-null int64\n",
      "year_exposition         2046 non-null int64\n",
      "grouped_floors          2046 non-null object\n",
      "living_to_total         2046 non-null float64\n",
      "kitchen_to_total        2046 non-null float64\n",
      "price_in_mln            2046 non-null float64\n",
      "center_in_km            2046 non-null int64\n",
      "dtypes: bool(3), datetime64[ns](1), float64(13), int64(12), object(2)\n",
      "memory usage: 453.7+ KB\n"
     ]
    }
   ],
   "source": [
    "central_data = spb_data.query('center_in_km <= 5').reset_index(drop=True)\n",
    "central_data.info()"
   ]
  },
  {
   "cell_type": "markdown",
   "metadata": {},
   "source": [
    "Итак, количество квартир, расположенных в центральной зоне Санкт-Петербурга, всего 2046. Теперь изучу параметры по этому датафрейму: площадь, цену, число комнат, высоту потолков."
   ]
  },
  {
   "cell_type": "code",
   "execution_count": 106,
   "metadata": {},
   "outputs": [
    {
     "name": "stdout",
     "output_type": "stream",
     "text": [
      "Средняя площадь квартир, расположенных в центре СПб: 72.96 кв.м.\n",
      "Минимальная площадь квартиры из расположенных в центре СПб: 12.0 кв.м.\n",
      "Максимальная площадь квартиры из расположенных в центре СПб: 150.0 кв.м.\n",
      "Общая площадь всех квартир, расположенных в центре СПб: 149268.66 кв.м.\n"
     ]
    }
   ],
   "source": [
    "print('Средняя площадь квартир, расположенных в центре СПб:', round(central_data['total_area'].mean(), 2) , 'кв.м.')\n",
    "print('Минимальная площадь квартиры из расположенных в центре СПб:', round(central_data['total_area'].min(), 2), 'кв.м.')\n",
    "print('Максимальная площадь квартиры из расположенных в центре СПб:', round(central_data['total_area'].max(), 2), 'кв.м.')\n",
    "print('Общая площадь всех квартир, расположенных в центре СПб:', round(central_data['total_area'].sum(), 2), 'кв.м.')"
   ]
  },
  {
   "cell_type": "markdown",
   "metadata": {},
   "source": [
    "Сделаю сравнительную табличку по площади квартир: для сравнения этого параметра у всех квартир в СПб и у квартир, расположенных в центре."
   ]
  },
  {
   "cell_type": "code",
   "execution_count": 107,
   "metadata": {},
   "outputs": [
    {
     "data": {
      "text/html": [
       "<div>\n",
       "<style scoped>\n",
       "    .dataframe tbody tr th:only-of-type {\n",
       "        vertical-align: middle;\n",
       "    }\n",
       "\n",
       "    .dataframe tbody tr th {\n",
       "        vertical-align: top;\n",
       "    }\n",
       "\n",
       "    .dataframe thead th {\n",
       "        text-align: right;\n",
       "    }\n",
       "</style>\n",
       "<table border=\"1\" class=\"dataframe\">\n",
       "  <thead>\n",
       "    <tr style=\"text-align: right;\">\n",
       "      <th></th>\n",
       "      <th>Все квартиры в СПб</th>\n",
       "      <th>Квартиры в центре СПб</th>\n",
       "    </tr>\n",
       "  </thead>\n",
       "  <tbody>\n",
       "    <tr>\n",
       "      <td>Мин. площадь</td>\n",
       "      <td>12.00</td>\n",
       "      <td>12.00</td>\n",
       "    </tr>\n",
       "    <tr>\n",
       "      <td>Макс. площадь</td>\n",
       "      <td>150.00</td>\n",
       "      <td>150.00</td>\n",
       "    </tr>\n",
       "    <tr>\n",
       "      <td>Средняя площадь</td>\n",
       "      <td>56.63</td>\n",
       "      <td>72.96</td>\n",
       "    </tr>\n",
       "    <tr>\n",
       "      <td>Общая площадь</td>\n",
       "      <td>803346.35</td>\n",
       "      <td>149268.66</td>\n",
       "    </tr>\n",
       "  </tbody>\n",
       "</table>\n",
       "</div>"
      ],
      "text/plain": [
       "                 Все квартиры в СПб  Квартиры в центре СПб\n",
       "Мин. площадь                  12.00                  12.00\n",
       "Макс. площадь                150.00                 150.00\n",
       "Средняя площадь               56.63                  72.96\n",
       "Общая площадь             803346.35              149268.66"
      ]
     },
     "execution_count": 107,
     "metadata": {},
     "output_type": "execute_result"
    }
   ],
   "source": [
    "indeces_area = ['Мин. площадь', 'Макс. площадь', 'Средняя площадь', 'Общая площадь']\n",
    "columns_area = ['Все квартиры в СПб', 'Квартиры в центре СПб']\n",
    "area_list = [[round(spb_data['total_area'].min(), 2), round(central_data['total_area'].min(), 2)], [round(spb_data['total_area'].max(), 2), round(central_data['total_area'].max(), 2)], [round(spb_data['total_area'].mean(), 2), round(central_data['total_area'].mean(), 2)], [round(spb_data['total_area'].sum(), 2), round(central_data['total_area'].sum(), 2)]]\n",
    "total_area_compar = pd.DataFrame(data=area_list, columns=columns_area, index=indeces_area)\n",
    "total_area_compar"
   ]
  },
  {
   "cell_type": "markdown",
   "metadata": {},
   "source": [
    "Квартиры с минимальной и максимальной площадями, как выяснилось, расположены в центре. А вот средняя площаль квартир в центре больше, чем в среднем у всех квартир в Санкт-Петербурге."
   ]
  },
  {
   "cell_type": "code",
   "execution_count": 108,
   "metadata": {
    "scrolled": false
   },
   "outputs": [
    {
     "data": {
      "text/plain": [
       "<matplotlib.axes._subplots.AxesSubplot at 0x7f059b747310>"
      ]
     },
     "execution_count": 108,
     "metadata": {},
     "output_type": "execute_result"
    },
    {
     "data": {
      "image/png": "[encoded data removed]",
      "text/plain": [
       "<Figure size 432x288 with 1 Axes>"
      ]
     },
     "metadata": {
      "needs_background": "light"
     },
     "output_type": "display_data"
    }
   ],
   "source": [
    "# Построю еще для наглядности график распределения площади квартир в центре\n",
    "central_data['total_area'].hist(bins=50)"
   ]
  },
  {
   "cell_type": "markdown",
   "metadata": {},
   "source": [
    "##### Теперь посмотрю на цену квартир, расположенных в центре СПб:"
   ]
  },
  {
   "cell_type": "code",
   "execution_count": 109,
   "metadata": {
    "scrolled": true
   },
   "outputs": [
    {
     "name": "stdout",
     "output_type": "stream",
     "text": [
      "Минимальная стоимость квартиры, расположенной в центре: 1.6 млн.\n",
      "Максимальная стоимость квартиры, расположенной в центре: 15.0 млн.\n",
      "Средняя стоимость всех квартир, расположенных в центре: 8.0 млн.\n"
     ]
    }
   ],
   "source": [
    "print('Минимальная стоимость квартиры, расположенной в центре:', central_data['price_in_mln'].min(), 'млн.')\n",
    "print('Максимальная стоимость квартиры, расположенной в центре:', central_data['price_in_mln'].max(), 'млн.')\n",
    "print('Средняя стоимость всех квартир, расположенных в центре:', round(central_data['price_in_mln'].mean()), 'млн.')"
   ]
  },
  {
   "cell_type": "code",
   "execution_count": 110,
   "metadata": {
    "scrolled": true
   },
   "outputs": [
    {
     "data": {
      "text/html": [
       "<div>\n",
       "<style scoped>\n",
       "    .dataframe tbody tr th:only-of-type {\n",
       "        vertical-align: middle;\n",
       "    }\n",
       "\n",
       "    .dataframe tbody tr th {\n",
       "        vertical-align: top;\n",
       "    }\n",
       "\n",
       "    .dataframe thead th {\n",
       "        text-align: right;\n",
       "    }\n",
       "</style>\n",
       "<table border=\"1\" class=\"dataframe\">\n",
       "  <thead>\n",
       "    <tr style=\"text-align: right;\">\n",
       "      <th></th>\n",
       "      <th>Все квартиры в СПб</th>\n",
       "      <th>Квартиры в центре СПб</th>\n",
       "    </tr>\n",
       "  </thead>\n",
       "  <tbody>\n",
       "    <tr>\n",
       "      <td>Мин. цена</td>\n",
       "      <td>1.19</td>\n",
       "      <td>1.6</td>\n",
       "    </tr>\n",
       "    <tr>\n",
       "      <td>Макс. цена</td>\n",
       "      <td>15.00</td>\n",
       "      <td>15.0</td>\n",
       "    </tr>\n",
       "    <tr>\n",
       "      <td>Средняя цена</td>\n",
       "      <td>6.00</td>\n",
       "      <td>8.0</td>\n",
       "    </tr>\n",
       "  </tbody>\n",
       "</table>\n",
       "</div>"
      ],
      "text/plain": [
       "              Все квартиры в СПб  Квартиры в центре СПб\n",
       "Мин. цена                   1.19                    1.6\n",
       "Макс. цена                 15.00                   15.0\n",
       "Средняя цена                6.00                    8.0"
      ]
     },
     "execution_count": 110,
     "metadata": {},
     "output_type": "execute_result"
    }
   ],
   "source": [
    "# Сделаю снова сравнительную таблицу для сравнения цен квартир по всему городу и квартир в центре:\n",
    "indeces_price = ['Мин. цена', 'Макс. цена', 'Средняя цена']\n",
    "columns_price = ['Все квартиры в СПб', 'Квартиры в центре СПб']\n",
    "price_list = [[spb_data['price_in_mln'].min(), central_data['price_in_mln'].min()], [spb_data['price_in_mln'].max(), central_data['price_in_mln'].max()], [round(spb_data['price_in_mln'].mean()), round(central_data['price_in_mln'].mean())]]\n",
    "total_price_compar = pd.DataFrame(data=price_list, columns=columns_price, index=indeces_price)\n",
    "total_price_compar"
   ]
  },
  {
   "cell_type": "markdown",
   "metadata": {},
   "source": [
    "Минимальная цена поменялась, а самая дорогая квартира, что логично, находится в центре. Средняя цена за квартиры в центре также выше, чем за квартиры во всём городе - на 2 млн. руб."
   ]
  },
  {
   "cell_type": "code",
   "execution_count": 111,
   "metadata": {},
   "outputs": [
    {
     "data": {
      "text/plain": [
       "<matplotlib.axes._subplots.AxesSubplot at 0x7f059b67efd0>"
      ]
     },
     "execution_count": 111,
     "metadata": {},
     "output_type": "execute_result"
    },
    {
     "data": {
      "image/png": "[encoded data removed]",
      "text/plain": [
       "<Figure size 432x288 with 1 Axes>"
      ]
     },
     "metadata": {
      "needs_background": "light"
     },
     "output_type": "display_data"
    }
   ],
   "source": [
    "# Построю еще для наглядности график распределения цены на квартиры в центре\n",
    "central_data['price_in_mln'].hist(bins=50)"
   ]
  },
  {
   "cell_type": "markdown",
   "metadata": {},
   "source": [
    "##### Посмотрю на ситуацию с количеством комнат в квартирах в центре города"
   ]
  },
  {
   "cell_type": "code",
   "execution_count": 112,
   "metadata": {
    "scrolled": true
   },
   "outputs": [
    {
     "name": "stdout",
     "output_type": "stream",
     "text": [
      "Минимальное количество комнат в квартирах в центре СПб: 0\n",
      "Максимальное количество комнат в квартирах в центре СПб: 7\n",
      "Среднее количество комнат в квартирах в квартирах в центре СПб: 2.54\n"
     ]
    }
   ],
   "source": [
    "print('Минимальное количество комнат в квартирах в центре СПб:', central_data['rooms'].min())\n",
    "print('Максимальное количество комнат в квартирах в центре СПб:', central_data['rooms'].max())\n",
    "print('Среднее количество комнат в квартирах в квартирах в центре СПб:', round(central_data['rooms'].mean(), 2))"
   ]
  },
  {
   "cell_type": "markdown",
   "metadata": {},
   "source": [
    "Посмотрю на распределение квартир в зависимости от количества комнат, в обоих датафреймах - в центральной зоне и в целом по Санкт-Петербургу"
   ]
  },
  {
   "cell_type": "code",
   "execution_count": 113,
   "metadata": {},
   "outputs": [
    {
     "data": {
      "text/plain": [
       "2    675\n",
       "3    626\n",
       "1    362\n",
       "4    274\n",
       "5     85\n",
       "6     10\n",
       "0     10\n",
       "7      4\n",
       "Name: rooms, dtype: int64"
      ]
     },
     "execution_count": 113,
     "metadata": {},
     "output_type": "execute_result"
    }
   ],
   "source": [
    "central_data['rooms'].value_counts()"
   ]
  },
  {
   "cell_type": "code",
   "execution_count": 114,
   "metadata": {},
   "outputs": [
    {
     "data": {
      "text/plain": [
       "2    4845\n",
       "1    4842\n",
       "3    3592\n",
       "4     660\n",
       "5     118\n",
       "0     107\n",
       "6      18\n",
       "7       4\n",
       "Name: rooms, dtype: int64"
      ]
     },
     "execution_count": 114,
     "metadata": {},
     "output_type": "execute_result"
    }
   ],
   "source": [
    "spb_data['rooms'].value_counts()"
   ]
  },
  {
   "cell_type": "markdown",
   "metadata": {},
   "source": [
    "В этот раз сразу для наглядности посмотрю график распределения квартир, в зависимости от количества комнат - как в центре, так и во всём городе."
   ]
  },
  {
   "cell_type": "code",
   "execution_count": 115,
   "metadata": {},
   "outputs": [
    {
     "data": {
      "text/plain": [
       "<matplotlib.axes._subplots.AxesSubplot at 0x7f059fa9b5d0>"
      ]
     },
     "execution_count": 115,
     "metadata": {},
     "output_type": "execute_result"
    },
    {
     "data": {
      "image/png": "[encoded data removed]",
      "text/plain": [
       "<Figure size 432x288 with 1 Axes>"
      ]
     },
     "metadata": {
      "needs_background": "light"
     },
     "output_type": "display_data"
    }
   ],
   "source": [
    "ax = spb_data.plot(kind='hist', y='rooms', bins=15, linewidth=5, alpha=0.7, label='wholeSPb')\n",
    "central_data.plot(kind='hist', y='rooms', bins=15, linewidth=5, alpha=0.7, label='center', ax=ax, grid=True, legend=True)"
   ]
  },
  {
   "cell_type": "markdown",
   "metadata": {},
   "source": [
    "Заметно, что в центре больше квартир с 2-мя и 3-мя комнатами. И среднее значение (2.54) как раз находится между этими цифрами. Тогда как во всём городе больше всего доля одно- и двух-комнатных квартир."
   ]
  },
  {
   "cell_type": "markdown",
   "metadata": {},
   "source": [
    "Заодно сразу проверю влияние данного параметра на среднюю цену квартир - опять, в сравнении между всеми квартирами из СПб, выставленными на продажу, и квартирами в центре города."
   ]
  },
  {
   "cell_type": "code",
   "execution_count": 116,
   "metadata": {
    "scrolled": false
   },
   "outputs": [
    {
     "data": {
      "text/html": [
       "<div>\n",
       "<style scoped>\n",
       "    .dataframe tbody tr th:only-of-type {\n",
       "        vertical-align: middle;\n",
       "    }\n",
       "\n",
       "    .dataframe tbody tr th {\n",
       "        vertical-align: top;\n",
       "    }\n",
       "\n",
       "    .dataframe thead th {\n",
       "        text-align: right;\n",
       "    }\n",
       "</style>\n",
       "<table border=\"1\" class=\"dataframe\">\n",
       "  <thead>\n",
       "    <tr style=\"text-align: right;\">\n",
       "      <th></th>\n",
       "      <th>Ср. цена в СПб</th>\n",
       "      <th>Ср. цена в центре СПб</th>\n",
       "    </tr>\n",
       "    <tr>\n",
       "      <th>rooms</th>\n",
       "      <th></th>\n",
       "      <th></th>\n",
       "    </tr>\n",
       "  </thead>\n",
       "  <tbody>\n",
       "    <tr>\n",
       "      <td>0</td>\n",
       "      <td>3.443631</td>\n",
       "      <td>4.117600</td>\n",
       "    </tr>\n",
       "    <tr>\n",
       "      <td>1</td>\n",
       "      <td>4.381918</td>\n",
       "      <td>6.193666</td>\n",
       "    </tr>\n",
       "    <tr>\n",
       "      <td>2</td>\n",
       "      <td>6.158167</td>\n",
       "      <td>7.919995</td>\n",
       "    </tr>\n",
       "    <tr>\n",
       "      <td>3</td>\n",
       "      <td>7.490535</td>\n",
       "      <td>9.055108</td>\n",
       "    </tr>\n",
       "    <tr>\n",
       "      <td>4</td>\n",
       "      <td>8.498327</td>\n",
       "      <td>10.035529</td>\n",
       "    </tr>\n",
       "    <tr>\n",
       "      <td>5</td>\n",
       "      <td>10.454136</td>\n",
       "      <td>11.080106</td>\n",
       "    </tr>\n",
       "    <tr>\n",
       "      <td>6</td>\n",
       "      <td>11.155000</td>\n",
       "      <td>11.491100</td>\n",
       "    </tr>\n",
       "    <tr>\n",
       "      <td>7</td>\n",
       "      <td>13.872500</td>\n",
       "      <td>13.872500</td>\n",
       "    </tr>\n",
       "  </tbody>\n",
       "</table>\n",
       "</div>"
      ],
      "text/plain": [
       "       Ср. цена в СПб  Ср. цена в центре СПб\n",
       "rooms                                       \n",
       "0            3.443631               4.117600\n",
       "1            4.381918               6.193666\n",
       "2            6.158167               7.919995\n",
       "3            7.490535               9.055108\n",
       "4            8.498327              10.035529\n",
       "5           10.454136              11.080106\n",
       "6           11.155000              11.491100\n",
       "7           13.872500              13.872500"
      ]
     },
     "execution_count": 116,
     "metadata": {},
     "output_type": "execute_result"
    }
   ],
   "source": [
    "central_rooms_price = central_data.pivot_table(index=['rooms'], values='price_in_mln')\n",
    "spb_rooms_price = spb_data.pivot_table(index=['rooms'], values='price_in_mln')\n",
    "rooms_price_comparison = spb_rooms_price.merge(central_rooms_price, on='rooms', how='left')\n",
    "rooms_price_comparison.columns = ['Ср. цена в СПб', 'Ср. цена в центре СПб']\n",
    "rooms_price_comparison"
   ]
  },
  {
   "cell_type": "code",
   "execution_count": 117,
   "metadata": {},
   "outputs": [
    {
     "data": {
      "text/plain": [
       "<matplotlib.axes._subplots.AxesSubplot at 0x7f05d9d36910>"
      ]
     },
     "execution_count": 117,
     "metadata": {},
     "output_type": "execute_result"
    },
    {
     "data": {
      "image/png": "[encoded data removed]",
      "text/plain": [
       "<Figure size 432x288 with 1 Axes>"
      ]
     },
     "metadata": {
      "needs_background": "light"
     },
     "output_type": "display_data"
    }
   ],
   "source": [
    "rooms_price_comparison.plot()"
   ]
  },
  {
   "cell_type": "markdown",
   "metadata": {},
   "source": [
    "Общий тренд влияния количества комнат на стоимость квартиры подтвердился и для квартир, расположенных в центре города. При этом, уровень средней цены квартир в разрезе количества комнат в центральной зоне выше, что также логично.\n",
    "Рассчитаю еще коэффициенты корреляции для этих 2-х датафреймов."
   ]
  },
  {
   "cell_type": "code",
   "execution_count": 118,
   "metadata": {},
   "outputs": [
    {
     "name": "stdout",
     "output_type": "stream",
     "text": [
      "Для всего СПб: 0.5370205058347661\n",
      "Для центра СПб: 0.4821010523426602\n"
     ]
    }
   ],
   "source": [
    "print('Для всего СПб:', spb_data['price_in_mln'].corr(spb_data['rooms']))\n",
    "print('Для центра СПб:', central_data['price_in_mln'].corr(central_data['rooms']))"
   ]
  },
  {
   "cell_type": "markdown",
   "metadata": {},
   "source": [
    "Видно, что в центральной зоне количество комнат имеет несколько сниженное влияние на стоимость квартиры."
   ]
  },
  {
   "cell_type": "markdown",
   "metadata": {},
   "source": [
    "Осталось еще изучить параметр высоты потолков и сравнить его с тем же показателям в целом для квартир в Санкт-Петербурге"
   ]
  },
  {
   "cell_type": "code",
   "execution_count": 119,
   "metadata": {},
   "outputs": [
    {
     "name": "stdout",
     "output_type": "stream",
     "text": [
      "Минимальная высота потолков среди квартир в центре СПб: 2.4\n",
      "Максимальная высота потолков среди квартир в центре СПб: 32.0\n",
      "Средняя высота потолков среди квартир в центре СПб: 3.12\n"
     ]
    }
   ],
   "source": [
    "print('Минимальная высота потолков среди квартир в центре СПб:', central_data['ceiling_height'].min())\n",
    "print('Максимальная высота потолков среди квартир в центре СПб:', central_data['ceiling_height'].max())\n",
    "print('Средняя высота потолков среди квартир в центре СПб:', round(central_data['ceiling_height'].mean(), 2))"
   ]
  },
  {
   "cell_type": "code",
   "execution_count": 120,
   "metadata": {},
   "outputs": [
    {
     "data": {
      "text/html": [
       "<div>\n",
       "<style scoped>\n",
       "    .dataframe tbody tr th:only-of-type {\n",
       "        vertical-align: middle;\n",
       "    }\n",
       "\n",
       "    .dataframe tbody tr th {\n",
       "        vertical-align: top;\n",
       "    }\n",
       "\n",
       "    .dataframe thead th {\n",
       "        text-align: right;\n",
       "    }\n",
       "</style>\n",
       "<table border=\"1\" class=\"dataframe\">\n",
       "  <thead>\n",
       "    <tr style=\"text-align: right;\">\n",
       "      <th></th>\n",
       "      <th>Все квартиры в СПб</th>\n",
       "      <th>Квартиры в центре СПб</th>\n",
       "    </tr>\n",
       "  </thead>\n",
       "  <tbody>\n",
       "    <tr>\n",
       "      <td>Мин. высота</td>\n",
       "      <td>1.00</td>\n",
       "      <td>2.40</td>\n",
       "    </tr>\n",
       "    <tr>\n",
       "      <td>Макс. высота</td>\n",
       "      <td>100.00</td>\n",
       "      <td>32.00</td>\n",
       "    </tr>\n",
       "    <tr>\n",
       "      <td>Средняя высота</td>\n",
       "      <td>2.77</td>\n",
       "      <td>3.12</td>\n",
       "    </tr>\n",
       "  </tbody>\n",
       "</table>\n",
       "</div>"
      ],
      "text/plain": [
       "                Все квартиры в СПб  Квартиры в центре СПб\n",
       "Мин. высота                   1.00                   2.40\n",
       "Макс. высота                100.00                  32.00\n",
       "Средняя высота                2.77                   3.12"
      ]
     },
     "execution_count": 120,
     "metadata": {},
     "output_type": "execute_result"
    }
   ],
   "source": [
    "indeces_ceiling = ['Мин. высота', 'Макс. высота', 'Средняя высота']\n",
    "columns_ceiling = ['Все квартиры в СПб', 'Квартиры в центре СПб']\n",
    "ceiling_list = [[spb_data['ceiling_height'].min(), central_data['ceiling_height'].min()], [spb_data['ceiling_height'].max(), central_data['ceiling_height'].max()], [round(spb_data['ceiling_height'].mean(), 2), round(central_data['ceiling_height'].mean(), 2)]]\n",
    "ceiling_compar = pd.DataFrame(data=ceiling_list, columns=columns_ceiling, index=indeces_ceiling)\n",
    "ceiling_compar"
   ]
  },
  {
   "cell_type": "markdown",
   "metadata": {},
   "source": [
    "По поводу максимальной высоты: 100 метров - это, естественно, выпадающее значение, но я не мог избавиться от таких для этого параметра ввиду отсутствия заполненной информации по высоте потолков у многих квартир. То же самое касается и минимальной высоты: понятное дело, что квартиры с высотой в 1 метр вряд ли существуют, и это, скорее всего, ошибочно внесённые данные.\n",
    "Зато средний показатель получился вполне адекватным, и у квартир в центре Санкт-Петербурга этот параметр несколько выше: 3.12 метра против 2.77 метра."
   ]
  },
  {
   "cell_type": "code",
   "execution_count": 121,
   "metadata": {
    "scrolled": true
   },
   "outputs": [
    {
     "data": {
      "text/plain": [
       "<matplotlib.axes._subplots.AxesSubplot at 0x7f059b3ddb90>"
      ]
     },
     "execution_count": 121,
     "metadata": {},
     "output_type": "execute_result"
    },
    {
     "data": {
      "image/png": "[encoded data removed]",
      "text/plain": [
       "<Figure size 432x288 with 1 Axes>"
      ]
     },
     "metadata": {
      "needs_background": "light"
     },
     "output_type": "display_data"
    }
   ],
   "source": [
    "# Построю еще для наглядности график распределения квартир в центре в зависимости от высоты потолков:\n",
    "# (сразу ограничу распределение высоты значением в 10 метров)\n",
    "central_data['ceiling_height'].hist(bins=50, range=(0, 10))"
   ]
  },
  {
   "cell_type": "markdown",
   "metadata": {},
   "source": [
    "Теперь проанализирую влияние этажа, на котором расположены квартиры, на ее стоимость - сразу в сравнении между всеми квартирами в Санкт-Петербурге и квартирами, расположенными в центре. Только при объединении сводных таблиц поставлю тип соединения inner, чтобы убрать значения по тем этажам, которые в центре проверить не получится - в центре этажность явно ниже."
   ]
  },
  {
   "cell_type": "code",
   "execution_count": 122,
   "metadata": {},
   "outputs": [
    {
     "data": {
      "text/html": [
       "<div>\n",
       "<style scoped>\n",
       "    .dataframe tbody tr th:only-of-type {\n",
       "        vertical-align: middle;\n",
       "    }\n",
       "\n",
       "    .dataframe tbody tr th {\n",
       "        vertical-align: top;\n",
       "    }\n",
       "\n",
       "    .dataframe thead th {\n",
       "        text-align: right;\n",
       "    }\n",
       "</style>\n",
       "<table border=\"1\" class=\"dataframe\">\n",
       "  <thead>\n",
       "    <tr style=\"text-align: right;\">\n",
       "      <th></th>\n",
       "      <th>Ср. цена в СПб</th>\n",
       "      <th>Ср. цена в центре СПб</th>\n",
       "    </tr>\n",
       "    <tr>\n",
       "      <th>floor</th>\n",
       "      <th></th>\n",
       "      <th></th>\n",
       "    </tr>\n",
       "  </thead>\n",
       "  <tbody>\n",
       "    <tr>\n",
       "      <td>1</td>\n",
       "      <td>5.256161</td>\n",
       "      <td>6.951097</td>\n",
       "    </tr>\n",
       "    <tr>\n",
       "      <td>2</td>\n",
       "      <td>6.236937</td>\n",
       "      <td>8.619753</td>\n",
       "    </tr>\n",
       "    <tr>\n",
       "      <td>3</td>\n",
       "      <td>6.219900</td>\n",
       "      <td>8.409590</td>\n",
       "    </tr>\n",
       "    <tr>\n",
       "      <td>4</td>\n",
       "      <td>6.257689</td>\n",
       "      <td>8.656467</td>\n",
       "    </tr>\n",
       "    <tr>\n",
       "      <td>5</td>\n",
       "      <td>5.870256</td>\n",
       "      <td>8.684458</td>\n",
       "    </tr>\n",
       "    <tr>\n",
       "      <td>6</td>\n",
       "      <td>6.158414</td>\n",
       "      <td>8.442662</td>\n",
       "    </tr>\n",
       "    <tr>\n",
       "      <td>7</td>\n",
       "      <td>5.890889</td>\n",
       "      <td>8.690062</td>\n",
       "    </tr>\n",
       "    <tr>\n",
       "      <td>8</td>\n",
       "      <td>5.793967</td>\n",
       "      <td>9.132541</td>\n",
       "    </tr>\n",
       "    <tr>\n",
       "      <td>9</td>\n",
       "      <td>5.641782</td>\n",
       "      <td>8.534600</td>\n",
       "    </tr>\n",
       "    <tr>\n",
       "      <td>10</td>\n",
       "      <td>6.228388</td>\n",
       "      <td>9.337159</td>\n",
       "    </tr>\n",
       "    <tr>\n",
       "      <td>11</td>\n",
       "      <td>6.254601</td>\n",
       "      <td>8.957562</td>\n",
       "    </tr>\n",
       "    <tr>\n",
       "      <td>12</td>\n",
       "      <td>6.133826</td>\n",
       "      <td>7.983492</td>\n",
       "    </tr>\n",
       "    <tr>\n",
       "      <td>13</td>\n",
       "      <td>6.375700</td>\n",
       "      <td>10.612500</td>\n",
       "    </tr>\n",
       "    <tr>\n",
       "      <td>14</td>\n",
       "      <td>6.067082</td>\n",
       "      <td>7.287904</td>\n",
       "    </tr>\n",
       "    <tr>\n",
       "      <td>15</td>\n",
       "      <td>6.342482</td>\n",
       "      <td>11.000000</td>\n",
       "    </tr>\n",
       "    <tr>\n",
       "      <td>16</td>\n",
       "      <td>6.163502</td>\n",
       "      <td>11.078248</td>\n",
       "    </tr>\n",
       "    <tr>\n",
       "      <td>17</td>\n",
       "      <td>6.066379</td>\n",
       "      <td>12.795000</td>\n",
       "    </tr>\n",
       "    <tr>\n",
       "      <td>18</td>\n",
       "      <td>6.550119</td>\n",
       "      <td>10.425000</td>\n",
       "    </tr>\n",
       "    <tr>\n",
       "      <td>19</td>\n",
       "      <td>5.708854</td>\n",
       "      <td>9.833970</td>\n",
       "    </tr>\n",
       "    <tr>\n",
       "      <td>23</td>\n",
       "      <td>6.459310</td>\n",
       "      <td>12.995000</td>\n",
       "    </tr>\n",
       "  </tbody>\n",
       "</table>\n",
       "</div>"
      ],
      "text/plain": [
       "       Ср. цена в СПб  Ср. цена в центре СПб\n",
       "floor                                       \n",
       "1            5.256161               6.951097\n",
       "2            6.236937               8.619753\n",
       "3            6.219900               8.409590\n",
       "4            6.257689               8.656467\n",
       "5            5.870256               8.684458\n",
       "6            6.158414               8.442662\n",
       "7            5.890889               8.690062\n",
       "8            5.793967               9.132541\n",
       "9            5.641782               8.534600\n",
       "10           6.228388               9.337159\n",
       "11           6.254601               8.957562\n",
       "12           6.133826               7.983492\n",
       "13           6.375700              10.612500\n",
       "14           6.067082               7.287904\n",
       "15           6.342482              11.000000\n",
       "16           6.163502              11.078248\n",
       "17           6.066379              12.795000\n",
       "18           6.550119              10.425000\n",
       "19           5.708854               9.833970\n",
       "23           6.459310              12.995000"
      ]
     },
     "execution_count": 122,
     "metadata": {},
     "output_type": "execute_result"
    }
   ],
   "source": [
    "central_floor_price = central_data.pivot_table(index=['floor'], values='price_in_mln')\n",
    "spb_floor_price = spb_data.pivot_table(index=['floor'], values='price_in_mln')\n",
    "floor_price_comparison = spb_floor_price.merge(central_floor_price, on='floor', how='inner')\n",
    "floor_price_comparison.columns = ['Ср. цена в СПб', 'Ср. цена в центре СПб']\n",
    "floor_price_comparison"
   ]
  },
  {
   "cell_type": "code",
   "execution_count": 123,
   "metadata": {},
   "outputs": [
    {
     "data": {
      "text/plain": [
       "<matplotlib.axes._subplots.AxesSubplot at 0x7f059fa9bb90>"
      ]
     },
     "execution_count": 123,
     "metadata": {},
     "output_type": "execute_result"
    },
    {
     "data": {
      "image/png": "[encoded data removed]",
      "text/plain": [
       "<Figure size 432x288 with 1 Axes>"
      ]
     },
     "metadata": {
      "needs_background": "light"
     },
     "output_type": "display_data"
    }
   ],
   "source": [
    "floor_price_comparison.plot()"
   ]
  },
  {
   "cell_type": "markdown",
   "metadata": {},
   "source": [
    "Общий тренд - на увеличение стоимости, по сравнению с первым этажом. Есть выпады у показателей 12-го и 14-го этажа для квартир в центре - скорее всего, это просто последние этажи в домах, поэтому их стоимость несколько ниже, чем других. Еще посчитаю коэффициенты Пирсона для обоих датафреймов (уверен, зависимость будет слабой) и составлю сравнительную таблицу по сгруппированным значениям этажей - по группам \"первый\", \"последний\" и \"другой\"."
   ]
  },
  {
   "cell_type": "code",
   "execution_count": 124,
   "metadata": {},
   "outputs": [
    {
     "name": "stdout",
     "output_type": "stream",
     "text": [
      "Для всего СПб: 0.046382203096514564\n",
      "Для центра СПб: 0.13829809340261753\n"
     ]
    }
   ],
   "source": [
    "print('Для всего СПб:', spb_data['price_in_mln'].corr(spb_data['floor']))\n",
    "print('Для центра СПб:', central_data['price_in_mln'].corr(central_data['floor']))"
   ]
  },
  {
   "cell_type": "code",
   "execution_count": 125,
   "metadata": {},
   "outputs": [
    {
     "data": {
      "text/html": [
       "<div>\n",
       "<style scoped>\n",
       "    .dataframe tbody tr th:only-of-type {\n",
       "        vertical-align: middle;\n",
       "    }\n",
       "\n",
       "    .dataframe tbody tr th {\n",
       "        vertical-align: top;\n",
       "    }\n",
       "\n",
       "    .dataframe thead th {\n",
       "        text-align: right;\n",
       "    }\n",
       "</style>\n",
       "<table border=\"1\" class=\"dataframe\">\n",
       "  <thead>\n",
       "    <tr style=\"text-align: right;\">\n",
       "      <th></th>\n",
       "      <th>Ср. цена в СПб</th>\n",
       "      <th>Ср. цена в центре СПб</th>\n",
       "    </tr>\n",
       "    <tr>\n",
       "      <th>grouped_floors</th>\n",
       "      <th></th>\n",
       "      <th></th>\n",
       "    </tr>\n",
       "  </thead>\n",
       "  <tbody>\n",
       "    <tr>\n",
       "      <td>первый</td>\n",
       "      <td>5.256161</td>\n",
       "      <td>6.951097</td>\n",
       "    </tr>\n",
       "    <tr>\n",
       "      <td>другой</td>\n",
       "      <td>6.117560</td>\n",
       "      <td>8.616229</td>\n",
       "    </tr>\n",
       "    <tr>\n",
       "      <td>последний</td>\n",
       "      <td>6.077236</td>\n",
       "      <td>8.640041</td>\n",
       "    </tr>\n",
       "  </tbody>\n",
       "</table>\n",
       "</div>"
      ],
      "text/plain": [
       "                Ср. цена в СПб  Ср. цена в центре СПб\n",
       "grouped_floors                                       \n",
       "первый                5.256161               6.951097\n",
       "другой                6.117560               8.616229\n",
       "последний             6.077236               8.640041"
      ]
     },
     "execution_count": 125,
     "metadata": {},
     "output_type": "execute_result"
    }
   ],
   "source": [
    "central_grouped_floor_price = central_data.pivot_table(index=['grouped_floors'], values='price_in_mln')\n",
    "spb_grouped_floor_price = spb_data.pivot_table(index=['grouped_floors'], values='price_in_mln')\n",
    "grouped_floor_price_comparison = spb_grouped_floor_price.merge(central_grouped_floor_price, on='grouped_floors', how='left')\n",
    "grouped_floor_price_comparison.columns = ['Ср. цена в СПб', 'Ср. цена в центре СПб']\n",
    "grouped_floor_price_comparison.sort_values('Ср. цена в центре СПб')"
   ]
  },
  {
   "cell_type": "markdown",
   "metadata": {},
   "source": [
    "Интересное наблюдение: если в целом по Санкт-Петербургу цены распределились так же, как и по всему датафрейму квартир: квартиры на первом этаже - дешевле всего, квартиры на последнем этаже - чуть дороже, квартиры на любом другом этаже - дороже всего, то в центре получилось так, что квартиры на последнем этаже оказались даже с чуть более высокой средней ценой (8.64 млн. против 8.62 млн.). Полагаю, что в центре ценятся квартиры на последних этажах. А, возможно, это вообще пентхаусы."
   ]
  },
  {
   "cell_type": "markdown",
   "metadata": {},
   "source": [
    "##### Изучу влияние показателя удалённости от центра на стоимость квартир - сразу в сравнение между квартирами в центре и квартирами во всём городе."
   ]
  },
  {
   "cell_type": "code",
   "execution_count": 126,
   "metadata": {},
   "outputs": [
    {
     "data": {
      "text/html": [
       "<div>\n",
       "<style scoped>\n",
       "    .dataframe tbody tr th:only-of-type {\n",
       "        vertical-align: middle;\n",
       "    }\n",
       "\n",
       "    .dataframe tbody tr th {\n",
       "        vertical-align: top;\n",
       "    }\n",
       "\n",
       "    .dataframe thead th {\n",
       "        text-align: right;\n",
       "    }\n",
       "</style>\n",
       "<table border=\"1\" class=\"dataframe\">\n",
       "  <thead>\n",
       "    <tr style=\"text-align: right;\">\n",
       "      <th></th>\n",
       "      <th>Ср. цена в СПб</th>\n",
       "      <th>Ср. цена в центре СПб</th>\n",
       "    </tr>\n",
       "    <tr>\n",
       "      <th>center_in_km</th>\n",
       "      <th></th>\n",
       "      <th></th>\n",
       "    </tr>\n",
       "  </thead>\n",
       "  <tbody>\n",
       "    <tr>\n",
       "      <td>0</td>\n",
       "      <td>9.281000</td>\n",
       "      <td>9.281000</td>\n",
       "    </tr>\n",
       "    <tr>\n",
       "      <td>1</td>\n",
       "      <td>9.123640</td>\n",
       "      <td>9.123640</td>\n",
       "    </tr>\n",
       "    <tr>\n",
       "      <td>2</td>\n",
       "      <td>8.463227</td>\n",
       "      <td>8.463227</td>\n",
       "    </tr>\n",
       "    <tr>\n",
       "      <td>3</td>\n",
       "      <td>8.220415</td>\n",
       "      <td>8.220415</td>\n",
       "    </tr>\n",
       "    <tr>\n",
       "      <td>4</td>\n",
       "      <td>8.598066</td>\n",
       "      <td>8.598066</td>\n",
       "    </tr>\n",
       "    <tr>\n",
       "      <td>5</td>\n",
       "      <td>7.930921</td>\n",
       "      <td>7.930921</td>\n",
       "    </tr>\n",
       "    <tr>\n",
       "      <td>6</td>\n",
       "      <td>7.534826</td>\n",
       "      <td>NaN</td>\n",
       "    </tr>\n",
       "    <tr>\n",
       "      <td>7</td>\n",
       "      <td>7.290983</td>\n",
       "      <td>NaN</td>\n",
       "    </tr>\n",
       "    <tr>\n",
       "      <td>8</td>\n",
       "      <td>6.773934</td>\n",
       "      <td>NaN</td>\n",
       "    </tr>\n",
       "    <tr>\n",
       "      <td>9</td>\n",
       "      <td>5.738528</td>\n",
       "      <td>NaN</td>\n",
       "    </tr>\n",
       "    <tr>\n",
       "      <td>10</td>\n",
       "      <td>5.606455</td>\n",
       "      <td>NaN</td>\n",
       "    </tr>\n",
       "    <tr>\n",
       "      <td>11</td>\n",
       "      <td>5.510373</td>\n",
       "      <td>NaN</td>\n",
       "    </tr>\n",
       "    <tr>\n",
       "      <td>12</td>\n",
       "      <td>5.674428</td>\n",
       "      <td>NaN</td>\n",
       "    </tr>\n",
       "    <tr>\n",
       "      <td>13</td>\n",
       "      <td>5.770215</td>\n",
       "      <td>NaN</td>\n",
       "    </tr>\n",
       "    <tr>\n",
       "      <td>14</td>\n",
       "      <td>5.447371</td>\n",
       "      <td>NaN</td>\n",
       "    </tr>\n",
       "    <tr>\n",
       "      <td>15</td>\n",
       "      <td>5.337661</td>\n",
       "      <td>NaN</td>\n",
       "    </tr>\n",
       "    <tr>\n",
       "      <td>16</td>\n",
       "      <td>5.178565</td>\n",
       "      <td>NaN</td>\n",
       "    </tr>\n",
       "    <tr>\n",
       "      <td>17</td>\n",
       "      <td>4.752480</td>\n",
       "      <td>NaN</td>\n",
       "    </tr>\n",
       "    <tr>\n",
       "      <td>18</td>\n",
       "      <td>4.928453</td>\n",
       "      <td>NaN</td>\n",
       "    </tr>\n",
       "    <tr>\n",
       "      <td>19</td>\n",
       "      <td>4.664925</td>\n",
       "      <td>NaN</td>\n",
       "    </tr>\n",
       "    <tr>\n",
       "      <td>20</td>\n",
       "      <td>6.365864</td>\n",
       "      <td>NaN</td>\n",
       "    </tr>\n",
       "    <tr>\n",
       "      <td>21</td>\n",
       "      <td>5.075824</td>\n",
       "      <td>NaN</td>\n",
       "    </tr>\n",
       "    <tr>\n",
       "      <td>22</td>\n",
       "      <td>5.095368</td>\n",
       "      <td>NaN</td>\n",
       "    </tr>\n",
       "    <tr>\n",
       "      <td>23</td>\n",
       "      <td>4.073429</td>\n",
       "      <td>NaN</td>\n",
       "    </tr>\n",
       "    <tr>\n",
       "      <td>24</td>\n",
       "      <td>3.862235</td>\n",
       "      <td>NaN</td>\n",
       "    </tr>\n",
       "    <tr>\n",
       "      <td>25</td>\n",
       "      <td>4.014913</td>\n",
       "      <td>NaN</td>\n",
       "    </tr>\n",
       "    <tr>\n",
       "      <td>26</td>\n",
       "      <td>3.575000</td>\n",
       "      <td>NaN</td>\n",
       "    </tr>\n",
       "    <tr>\n",
       "      <td>27</td>\n",
       "      <td>8.300000</td>\n",
       "      <td>NaN</td>\n",
       "    </tr>\n",
       "    <tr>\n",
       "      <td>28</td>\n",
       "      <td>4.910500</td>\n",
       "      <td>NaN</td>\n",
       "    </tr>\n",
       "    <tr>\n",
       "      <td>29</td>\n",
       "      <td>3.833333</td>\n",
       "      <td>NaN</td>\n",
       "    </tr>\n",
       "  </tbody>\n",
       "</table>\n",
       "</div>"
      ],
      "text/plain": [
       "              Ср. цена в СПб  Ср. цена в центре СПб\n",
       "center_in_km                                       \n",
       "0                   9.281000               9.281000\n",
       "1                   9.123640               9.123640\n",
       "2                   8.463227               8.463227\n",
       "3                   8.220415               8.220415\n",
       "4                   8.598066               8.598066\n",
       "5                   7.930921               7.930921\n",
       "6                   7.534826                    NaN\n",
       "7                   7.290983                    NaN\n",
       "8                   6.773934                    NaN\n",
       "9                   5.738528                    NaN\n",
       "10                  5.606455                    NaN\n",
       "11                  5.510373                    NaN\n",
       "12                  5.674428                    NaN\n",
       "13                  5.770215                    NaN\n",
       "14                  5.447371                    NaN\n",
       "15                  5.337661                    NaN\n",
       "16                  5.178565                    NaN\n",
       "17                  4.752480                    NaN\n",
       "18                  4.928453                    NaN\n",
       "19                  4.664925                    NaN\n",
       "20                  6.365864                    NaN\n",
       "21                  5.075824                    NaN\n",
       "22                  5.095368                    NaN\n",
       "23                  4.073429                    NaN\n",
       "24                  3.862235                    NaN\n",
       "25                  4.014913                    NaN\n",
       "26                  3.575000                    NaN\n",
       "27                  8.300000                    NaN\n",
       "28                  4.910500                    NaN\n",
       "29                  3.833333                    NaN"
      ]
     },
     "execution_count": 126,
     "metadata": {},
     "output_type": "execute_result"
    }
   ],
   "source": [
    "central_distance_price = central_data.pivot_table(index=['center_in_km'], values='price_in_mln')\n",
    "spb_distance_price = spb_data.pivot_table(index=['center_in_km'], values='price_in_mln')\n",
    "distance_price_comparison = spb_distance_price.merge(central_distance_price, on='center_in_km', how='left')\n",
    "distance_price_comparison.columns = ['Ср. цена в СПб', 'Ср. цена в центре СПб']\n",
    "distance_price_comparison"
   ]
  },
  {
   "cell_type": "markdown",
   "metadata": {},
   "source": [
    "С этим параметром сравнивать бесмыссленно, т.к. он одинаков для первых 5-ти километров удалённости от центра - ведь я сам определил зону в радиусе 5-ти километров как центральную. График можно построить лишь для наглядности: чем дальше от центра, тем цена будет ниже. Коэффициент Пирсона, при этом, у всех квартир в СПб будет, скорее всего, выше, чем у квартир в центре, т.к. эти квартиры уже в центре."
   ]
  },
  {
   "cell_type": "code",
   "execution_count": 127,
   "metadata": {
    "scrolled": true
   },
   "outputs": [
    {
     "data": {
      "text/plain": [
       "<matplotlib.axes._subplots.AxesSubplot at 0x7f059b3ab810>"
      ]
     },
     "execution_count": 127,
     "metadata": {},
     "output_type": "execute_result"
    },
    {
     "data": {
      "image/png": "[encoded data removed]",
      "text/plain": [
       "<Figure size 432x288 with 1 Axes>"
      ]
     },
     "metadata": {
      "needs_background": "light"
     },
     "output_type": "display_data"
    }
   ],
   "source": [
    "central_distance_price.plot()"
   ]
  },
  {
   "cell_type": "code",
   "execution_count": 128,
   "metadata": {},
   "outputs": [
    {
     "name": "stdout",
     "output_type": "stream",
     "text": [
      "Для всего СПб: -0.3838357804288401\n",
      "Для центра СПб: -0.09810477476076038\n"
     ]
    }
   ],
   "source": [
    "print('Для всего СПб:', spb_data['price_in_mln'].corr(spb_data['center_in_km']))\n",
    "print('Для центра СПб:', central_data['price_in_mln'].corr(central_data['center_in_km']))"
   ]
  },
  {
   "cell_type": "markdown",
   "metadata": {},
   "source": [
    "Так и есть: в самом центре уже действуют немного другие законы. Возможно, это количество этажей в доме, наличие парковок, парков, прудов и проч. Выход окон на загруженные улицы также может повлиять (негативно) на стоимость квартир. Поэтому корреляция с расстоянием уже в самом центре - низкая. И связь, понятное дело, обратно пропорциональна: чем дальше от центра, тем ниже цена."
   ]
  },
  {
   "cell_type": "markdown",
   "metadata": {},
   "source": [
    "##### И, наконец, последний параметр, влияние которого на цену можно изучить, - это дата размещения объявления. Не очень понятно, как лучше оценить, но попробую просто построить график."
   ]
  },
  {
   "cell_type": "code",
   "execution_count": 129,
   "metadata": {},
   "outputs": [
    {
     "data": {
      "text/plain": [
       "<matplotlib.axes._subplots.AxesSubplot at 0x7f059b1ef450>"
      ]
     },
     "execution_count": 129,
     "metadata": {},
     "output_type": "execute_result"
    },
    {
     "data": {
      "image/png": "[encoded data removed]",
      "text/plain": [
       "<Figure size 432x288 with 1 Axes>"
      ]
     },
     "metadata": {
      "needs_background": "light"
     },
     "output_type": "display_data"
    }
   ],
   "source": [
    "central_data.pivot_table(index=['first_day_exposition'], values='price_in_mln').plot()"
   ]
  },
  {
   "cell_type": "markdown",
   "metadata": {},
   "source": [
    "Как и предполагалось, видимой зависимости нет. Сравню еще этот показатель с аналогичным для квартир во всём городе."
   ]
  },
  {
   "cell_type": "code",
   "execution_count": 130,
   "metadata": {},
   "outputs": [
    {
     "data": {
      "text/plain": [
       "<matplotlib.axes._subplots.AxesSubplot at 0x7f059b171a90>"
      ]
     },
     "execution_count": 130,
     "metadata": {},
     "output_type": "execute_result"
    },
    {
     "data": {
      "image/png": "[encoded data removed]",
      "text/plain": [
       "<Figure size 432x288 with 1 Axes>"
      ]
     },
     "metadata": {
      "needs_background": "light"
     },
     "output_type": "display_data"
    }
   ],
   "source": [
    "central_date_price = central_data.pivot_table(index=['first_day_exposition'], values='price_in_mln')\n",
    "spb_date_price = spb_data.pivot_table(index=['first_day_exposition'], values='price_in_mln')\n",
    "date_price_comparison = spb_date_price.merge(central_date_price, on='first_day_exposition', how='inner')\n",
    "date_price_comparison.plot()"
   ]
  },
  {
   "cell_type": "markdown",
   "metadata": {},
   "source": [
    "То же самое: зависимости нет."
   ]
  },
  {
   "cell_type": "markdown",
   "metadata": {},
   "source": [
    "### Шаг 5. Общий вывод"
   ]
  },
  {
   "cell_type": "markdown",
   "metadata": {},
   "source": [
    "1. Изучена база объявлений о продаже квартир. В изначальном варианте датафрейма - 23699 объявлений (строк/записей), 22 столбца. Есть пропущенные значения в 14 столбцах. Типы данных в некоторых столбцах необходимо будет заменить.\n",
    "2. Заполнение пропущенных значений проходило по-разному:\n",
    "    - в столбцах с булевым значением (например, is_apartment) все NaN были заменены на False;\n",
    "    - в столбце balcony все пропущенные значения были заменены на 0 - сделано предположение, что отсутствие информации о количестве балконов подразумевает, в целом, отсутствие балконов;\n",
    "    - пропущенные значения площади кухни и жилой зоны в квартирах были заменены на медианные значения, полученные по квартирам в разрезе количества комнат: по каждому варианту с количеством комнат были рассчитаны эти медианные значения и затем вставлены на место пропущенных по заданному условию (количеству комнат);\n",
    "    - отсутствующие значения по количеству парков и прудов в радиусе 3 км от квартиры были заменены на 0 - согласно предположению, что парков и прудов в таком радиусе нет, раз информация по ним отсутствует;\n",
    "    - позже, уже в разделе исследовательского анализа, были заполнены пропуски по времени продажи квартиры: для всех объявлений было посчитано количество дней нахождения объявления в базе вплоть до текущей даты;\n",
    "3. Посчитаны и добавлены в таблицу следующие столбцы:\n",
    "    * цена квадратного метра ('price_per_sqm');\n",
    "    * день недели ('weekday'), месяц ('month_exposition') и год публикации ('year_exposition') объявления;\n",
    "    * этаж квартиры; варианты — первый, последний, другой ('grouped_floors');\n",
    "    * соотношение жилой и общей площади ('living_to_total');\n",
    "    * отношение площади кухни к общей ('kitchen_to_total');\n",
    "4.  Была произведена замена типов данных, как на целочисленные значения - там, где необходимо, так и на datetime (в столбце 'first_day_exposition').\n",
    "5. Изучены параметры:\n",
    "    площадь:\n",
    "        Средняя площадь всех квартир, представленных к продаже: 60.35 кв.м.\n",
    "        Минимальная площадь квартиры, представленной к продаже: 12.0 кв.м.\n",
    "        Максимальная площадь квартиры, представленной к продаже: 900.0 кв.м.\n",
    "        Общая площадь всех квартир, представленных к продаже: 1430202.68 кв.м.\n",
    "    цена:\n",
    "        Минимальная стоимость квартиры, представленной к продаже: 12190\n",
    "        Максимальная стоимость квартиры, представленной к продаже: 763000000\n",
    "        Средняя стоимость всех квартир, представленных к продаже: 6541549.0\n",
    "    число комнат:\n",
    "        Минимальное количество комнат в квартирах, выставленных на продажу: 0 (студии)\n",
    "        Максимальное количество комнат в квартирах, выставленных на продажу: 19\n",
    "        Среднее количество комнат в квартирах, выставленных на продажу: 2.0\n",
    "    высота потолков:\n",
    "        Минимальная высота потолков среди квартир, выставленных на продажу: 1.0\n",
    "        Максимальная высота потолков среди квартир, выставленных на продажу: 100.0\n",
    "        Средняя высота потолков среди квартир, выставленных на продажу: 2.77\n",
    "6. Для каждого из перечисленных параметров построены гистограммы.\n",
    "7. Изучен параметр \"время продажи квартиры\":\n",
    "        Минимальное время продажи квартир, выставленных на продажу: 1.0 дн.\n",
    "        Максимальное время продажи квартир, выставленных на продажу: 1580.0 дн.\n",
    "        Среднее время продажи квартир, выставленных на продажу: 180.89\n",
    "        Медианное значение срока продажи квартир, выставленных на продажу: 95.0 дн.\n",
    "    Вывод: Основная масса квартир продавалась очень быстро: от 1 дня до 2-х (ок. 60 дней) месяцев. Исходя из данного графика медианное значение продажи квартир (95 дней) гораздо реалистичнее отражает усредненное значение этого параметра. А вот срок продажи квартиры свыше 1000 дней - выглядит как необычно долгий. Также следует отметить, что есть определенное количество квартир, в данных о продаже которых вообще не указано количество дней размещения объявлений. Попробую изучить этот срез данных, выяснив год выставления объявления о продаже этих квартир. Возможно, в срезе есть супер-старые объявления.\n",
    "8. Был сделан срез данных - в виде улучшенного датафрейма (imroved_data), без выпадающих значений, и со следующими ограничениями:\n",
    "    - площадь квартиры - только с площадью, не превышающей 150 кв.м.\n",
    "    - цена квартиры - только значения от 500 тыс. руб. до 15 млн. руб.;\n",
    "    - число комнат - квартиры с не более, чем 8 комнат;\n",
    "    - количество дней в продаже - объявления не старше 1000 дней;\n",
    "9. Было изучено влияние на цену следующих параметров:\n",
    "    - квадратного метра: зависимость высокая (к-т Пирсона = 0.74), прямо пропорциональна;\n",
    "    - числа комнат: зависимость прямо пропорциональна, не так высока (к-т Пирсона = 0.48);\n",
    "    - этажа (первого или последнего): зависимость крайне слабая, т.к. цена отличается существенно только для первого этажа (ниже), менее существенно для последнего этажа и совсем не отличается для любого другого этажа. К-т Пирсона = 0.116.\n",
    "    - удалённости от центра: зависимость обратно пропорциональна - чем дальше от центра, тем квартира дешевле. Но, при этом, она достаточно слабо выражена (К = -0,35). Но вот если бы данные во всех объявлениях были заполнены, то, думаю, что зависимость выглядела бы существеннее.\n",
    "10. Изучил зависимость от даты размещения:\n",
    "    - дня недели: зависимости практически нет (К = -0.012);\n",
    "    - месяца: в летние месяцы, особенно в июне, наблюдается спад - цена квартир в объявлениях ниже, чем в другие месяцы. Это весьма логично: в летний период недвижимость продаётся или сдаётся несколько хуже. При этом, существенной зависимости от месяца, кроме как летом, не наблюдается.\n",
    "    - года: зависимость несущественна (К = 0.005). \n",
    "11. Были выбраны 10 населённых пунктов с наибольшим числом объявлений:\n",
    "    Санкт-Петербург\n",
    "    посёлок Мурино\n",
    "    посёлок Шушары\n",
    "    Всеволожск\n",
    "    Пушкин\n",
    "    Колпино\n",
    "    посёлок Парголово\n",
    "    Гатчина\n",
    "    деревня Кудрово\n",
    "    Выборг\n",
    "    По ним посчитаны средняя цену квадратного метра. Самая высокая стоимость жилья - в Санкт-Петербурге (закономерно) - в среднем 6.02 млн. руб., самая низкая из первых 10-ти пунктов - в Выборге - в среднем 3.17 млн. руб.\n",
    "12. Выделены квартиры только в Санкт-Петербурге - датафрейм spb_data (14186 объявлений), а также квартиры, расположенные в центральной зоне Санкт-Петербурга (2046 объявлений).\n",
    "13. Для квартир в центре Санкт-Петербурга были изучены следующие параметры, значения по которым сразу же были поставлены в сравнение с общими значениями по Санкт-Петербургу:\n",
    "     площадь:\n",
    "        Средняя площадь квартир, расположенных в центре СПб: 72.96 кв.м.\n",
    "        Минимальная площадь квартиры из расположенных в центре СПб: 12.0 кв.м.\n",
    "        Максимальная площадь квартиры из расположенных в центре СПб: 150.0 кв.м.\n",
    "        Общая площадь всех квартир, расположенных в центре СПб: 149268.66 кв.м.\n",
    "    Квартиры с минимальной и максимальной площадями, как выяснилось, расположены в центре. А вот средняя площаль квартир в центре больше, чем в среднем у всех квартир в Санкт-Петербурге.\n",
    "    \n",
    "    цена:\n",
    "        Минимальная стоимость квартиры, расположенной в центре: 1.6 млн.\n",
    "        Максимальная стоимость квартиры, расположенной в центре: 15.0 млн.\n",
    "        Средняя стоимость всех квартир, расположенных в центре: 8.0 млн.\n",
    "    Минимальная цена поменялась, а самая дорогая квартира, что логично, находится в центре. Средняя цена за квартиры в центре также выше, чем за квартиры во всём городе - на 2 млн. руб.\n",
    "    \n",
    "    число комнат:\n",
    "        Минимальное количество комнат в квартирах, выставленных на продажу: 0 (студии)\n",
    "        Максимальное количество комнат в квартирах, выставленных на продажу: 19\n",
    "        Среднее количество комнат в квартирах, выставленных на продажу: 2.0\n",
    "    В центре больше квартир с 2-мя и 3-мя комнатами. И среднее значение (2.54) как раз находится между этими цифрами. Тогда как во всём городе больше всего доля одно- и двух-комнатных квартир.\n",
    "    \n",
    "    высота потолков:\n",
    "        Минимальная высота потолков среди квартир в центре СПб: 2.4\n",
    "        Максимальная высота потолков среди квартир в центре СПб: 32.0\n",
    "        Средняя высота потолков среди квартир в центре СПб: 3.12\n",
    "    По поводу максимальной высоты: 100 метров - это, естественно, выпадающее значение, но я не мог избавиться от таких для этого параметра ввиду отсутствия заполненной информации по высоте потолков у многих квартир. То же самое касается и минимальной высоты: понятное дело, что квартиры с высотой в 1 метр вряд ли существуют, и это, скорее всего, ошибочно внесённые данные. Зато средний показатель получился вполне адекватным, и у квартир в центре Санкт-Петербурга этот параметр несколько выше: 3.12 метра против 2.77 метра.\n",
    "        \n",
    "14. Было проанализировано влияние следующих факторов на стоимость квартиры: число комнат (К=0.48), этаж (К=0.14), удалённость от центра (К=-0.098), дата размещения объявления (зависимости нет)."
   ]
  }
 ],
 "metadata": {
  "kernelspec": {
   "display_name": "Python 3",
   "language": "python",
   "name": "python3"
  },
  "language_info": {
   "codemirror_mode": {
    "name": "ipython",
    "version": 3
   },
   "file_extension": ".py",
   "mimetype": "text/x-python",
   "name": "python",
   "nbconvert_exporter": "python",
   "pygments_lexer": "ipython3",
   "version": "3.7.4"
  }
 },
 "nbformat": 4,
 "nbformat_minor": 2
}
